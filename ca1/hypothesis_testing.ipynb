{
 "cells": [
  {
   "cell_type": "markdown",
   "metadata": {},
   "source": [
    "# Hypothesis Testing"
   ]
  },
  {
   "cell_type": "code",
   "execution_count": 2,
   "metadata": {},
   "outputs": [],
   "source": [
    "import numpy as np\n",
    "import scipy.stats as st\n",
    "import matplotlib.pyplot as plt\n",
    "import pandas as pd"
   ]
  },
  {
   "cell_type": "markdown",
   "metadata": {},
   "source": [
    "## Unfair coin"
   ]
  },
  {
   "cell_type": "markdown",
   "metadata": {},
   "source": [
    "### simulation"
   ]
  },
  {
   "cell_type": "code",
   "execution_count": 3,
   "metadata": {},
   "outputs": [
    {
     "data": {
      "text/plain": [
       "array([0, 1, 1, 1, 0, 0, 1, 0, 1, 0])"
      ]
     },
     "execution_count": 3,
     "metadata": {},
     "output_type": "execute_result"
    }
   ],
   "source": [
    "ONE_CHANCE = 0.55\n",
    "def flip_coin(sample_size:int)->list[int]:\n",
    "    return np.random.choice([1, 0], sample_size, p=[ONE_CHANCE, 1-ONE_CHANCE])\n",
    "flip_coin(10)"
   ]
  },
  {
   "cell_type": "markdown",
   "metadata": {},
   "source": [
    "### Run testing"
   ]
  },
  {
   "cell_type": "code",
   "execution_count": 4,
   "metadata": {},
   "outputs": [],
   "source": [
    "H0_VALUE = 0.5\n",
    "def calculate_p_value(sample:list[bool]):\n",
    "    n = len(sample)\n",
    "    x_bar = np.mean(sample)\n",
    "    s = np.std(sample)\n",
    "    se = s / (n ** 0.5)\n",
    "    z = abs(H0_VALUE - x_bar) / se\n",
    "    p_value = 2 * st.norm.cdf(-z)\n",
    "    confidence_interval = (x_bar - 1.96 * se, x_bar + 1.96 * se)\n",
    "    return p_value, z, confidence_interval"
   ]
  },
  {
   "cell_type": "code",
   "execution_count": 5,
   "metadata": {},
   "outputs": [],
   "source": [
    "def run_test(sample_size:int):\n",
    "    sample = flip_coin(sample_size)\n",
    "    p_value, z_score, confidence_interval = calculate_p_value(sample)\n",
    "    output = {\n",
    "        \"sample size\": sample_size,\n",
    "        \"p_value\": p_value,\n",
    "        \"z score\": z_score,\n",
    "        \"confidence interval\": confidence_interval,\n",
    "        \"result z test\": p_value > 0.05,\n",
    "        \"result confidence interval\": confidence_interval[0] < H0_VALUE < confidence_interval[1]\n",
    "    }\n",
    "    return output"
   ]
  },
  {
   "cell_type": "code",
   "execution_count": 6,
   "metadata": {},
   "outputs": [],
   "source": [
    "tmp = list()\n",
    "for i in [30,100,1000]:\n",
    "    test_result = run_test(i)\n",
    "    tmp.append(test_result)\n",
    "\n",
    "df = pd.DataFrame(tmp)\n",
    "df['confidence interval'] = df['confidence interval'].apply(lambda x: (round(x[0], 3), round(x[1], 3)))"
   ]
  },
  {
   "cell_type": "code",
   "execution_count": 7,
   "metadata": {},
   "outputs": [
    {
     "data": {
      "text/html": [
       "<div>\n",
       "<style scoped>\n",
       "    .dataframe tbody tr th:only-of-type {\n",
       "        vertical-align: middle;\n",
       "    }\n",
       "\n",
       "    .dataframe tbody tr th {\n",
       "        vertical-align: top;\n",
       "    }\n",
       "\n",
       "    .dataframe thead th {\n",
       "        text-align: right;\n",
       "    }\n",
       "</style>\n",
       "<table border=\"1\" class=\"dataframe\">\n",
       "  <thead>\n",
       "    <tr style=\"text-align: right;\">\n",
       "      <th></th>\n",
       "      <th>sample size</th>\n",
       "      <th>p_value</th>\n",
       "      <th>z score</th>\n",
       "      <th>confidence interval</th>\n",
       "      <th>result z test</th>\n",
       "      <th>result confidence interval</th>\n",
       "    </tr>\n",
       "  </thead>\n",
       "  <tbody>\n",
       "    <tr>\n",
       "      <th>0</th>\n",
       "      <td>30</td>\n",
       "      <td>0.714393</td>\n",
       "      <td>0.365963</td>\n",
       "      <td>(0.355, 0.712)</td>\n",
       "      <td>True</td>\n",
       "      <td>True</td>\n",
       "    </tr>\n",
       "    <tr>\n",
       "      <th>1</th>\n",
       "      <td>100</td>\n",
       "      <td>0.024117</td>\n",
       "      <td>2.255254</td>\n",
       "      <td>(0.514, 0.706)</td>\n",
       "      <td>False</td>\n",
       "      <td>False</td>\n",
       "    </tr>\n",
       "    <tr>\n",
       "      <th>2</th>\n",
       "      <td>1000</td>\n",
       "      <td>0.005212</td>\n",
       "      <td>2.793642</td>\n",
       "      <td>(0.513, 0.575)</td>\n",
       "      <td>False</td>\n",
       "      <td>False</td>\n",
       "    </tr>\n",
       "  </tbody>\n",
       "</table>\n",
       "</div>"
      ],
      "text/plain": [
       "   sample size   p_value   z score confidence interval  result z test  \\\n",
       "0           30  0.714393  0.365963      (0.355, 0.712)           True   \n",
       "1          100  0.024117  2.255254      (0.514, 0.706)          False   \n",
       "2         1000  0.005212  2.793642      (0.513, 0.575)          False   \n",
       "\n",
       "   result confidence interval  \n",
       "0                        True  \n",
       "1                       False  \n",
       "2                       False  "
      ]
     },
     "execution_count": 7,
     "metadata": {},
     "output_type": "execute_result"
    }
   ],
   "source": [
    "df"
   ]
  },
  {
   "cell_type": "markdown",
   "metadata": {},
   "source": [
    "## job placement"
   ]
  },
  {
   "cell_type": "markdown",
   "metadata": {},
   "source": [
    "### Read data"
   ]
  },
  {
   "cell_type": "code",
   "execution_count": 99,
   "metadata": {},
   "outputs": [
    {
     "data": {
      "text/html": [
       "<div>\n",
       "<style scoped>\n",
       "    .dataframe tbody tr th:only-of-type {\n",
       "        vertical-align: middle;\n",
       "    }\n",
       "\n",
       "    .dataframe tbody tr th {\n",
       "        vertical-align: top;\n",
       "    }\n",
       "\n",
       "    .dataframe thead th {\n",
       "        text-align: right;\n",
       "    }\n",
       "</style>\n",
       "<table border=\"1\" class=\"dataframe\">\n",
       "  <thead>\n",
       "    <tr style=\"text-align: right;\">\n",
       "      <th></th>\n",
       "      <th>id</th>\n",
       "      <th>name</th>\n",
       "      <th>gender</th>\n",
       "      <th>age</th>\n",
       "      <th>degree</th>\n",
       "      <th>stream</th>\n",
       "      <th>college_name</th>\n",
       "      <th>placement_status</th>\n",
       "      <th>salary</th>\n",
       "      <th>gpa</th>\n",
       "      <th>years_of_experience</th>\n",
       "    </tr>\n",
       "  </thead>\n",
       "  <tbody>\n",
       "    <tr>\n",
       "      <th>0</th>\n",
       "      <td>1</td>\n",
       "      <td>John Doe</td>\n",
       "      <td>Male</td>\n",
       "      <td>25</td>\n",
       "      <td>Bachelor's</td>\n",
       "      <td>Computer Science</td>\n",
       "      <td>Harvard University</td>\n",
       "      <td>Placed</td>\n",
       "      <td>60000</td>\n",
       "      <td>3.7</td>\n",
       "      <td>2.0</td>\n",
       "    </tr>\n",
       "    <tr>\n",
       "      <th>1</th>\n",
       "      <td>2</td>\n",
       "      <td>Jane Smith</td>\n",
       "      <td>Female</td>\n",
       "      <td>24</td>\n",
       "      <td>Bachelor's</td>\n",
       "      <td>Electrical Engineering</td>\n",
       "      <td>Massachusetts Institute of Technology</td>\n",
       "      <td>Placed</td>\n",
       "      <td>65000</td>\n",
       "      <td>3.6</td>\n",
       "      <td>1.0</td>\n",
       "    </tr>\n",
       "    <tr>\n",
       "      <th>2</th>\n",
       "      <td>3</td>\n",
       "      <td>Michael Johnson</td>\n",
       "      <td>Male</td>\n",
       "      <td>26</td>\n",
       "      <td>Bachelor's</td>\n",
       "      <td>Mechanical Engineering</td>\n",
       "      <td>Stanford University</td>\n",
       "      <td>Placed</td>\n",
       "      <td>58000</td>\n",
       "      <td>3.8</td>\n",
       "      <td>3.0</td>\n",
       "    </tr>\n",
       "    <tr>\n",
       "      <th>3</th>\n",
       "      <td>4</td>\n",
       "      <td>Emily Davis</td>\n",
       "      <td>Female</td>\n",
       "      <td>23</td>\n",
       "      <td>Bachelor's</td>\n",
       "      <td>Information Technology</td>\n",
       "      <td>Yale University</td>\n",
       "      <td>Not Placed</td>\n",
       "      <td>0</td>\n",
       "      <td>3.5</td>\n",
       "      <td>2.0</td>\n",
       "    </tr>\n",
       "    <tr>\n",
       "      <th>4</th>\n",
       "      <td>5</td>\n",
       "      <td>David Brown</td>\n",
       "      <td>Male</td>\n",
       "      <td>24</td>\n",
       "      <td>Bachelor's</td>\n",
       "      <td>Computer Science</td>\n",
       "      <td>Princeton University</td>\n",
       "      <td>Placed</td>\n",
       "      <td>62000</td>\n",
       "      <td>3.9</td>\n",
       "      <td>2.0</td>\n",
       "    </tr>\n",
       "  </tbody>\n",
       "</table>\n",
       "</div>"
      ],
      "text/plain": [
       "   id             name  gender  age      degree                  stream  \\\n",
       "0   1         John Doe    Male   25  Bachelor's        Computer Science   \n",
       "1   2       Jane Smith  Female   24  Bachelor's  Electrical Engineering   \n",
       "2   3  Michael Johnson    Male   26  Bachelor's  Mechanical Engineering   \n",
       "3   4      Emily Davis  Female   23  Bachelor's  Information Technology   \n",
       "4   5      David Brown    Male   24  Bachelor's        Computer Science   \n",
       "\n",
       "                            college_name placement_status  salary  gpa  \\\n",
       "0                     Harvard University           Placed   60000  3.7   \n",
       "1  Massachusetts Institute of Technology           Placed   65000  3.6   \n",
       "2                    Stanford University           Placed   58000  3.8   \n",
       "3                        Yale University       Not Placed       0  3.5   \n",
       "4                   Princeton University           Placed   62000  3.9   \n",
       "\n",
       "   years_of_experience  \n",
       "0                  2.0  \n",
       "1                  1.0  \n",
       "2                  3.0  \n",
       "3                  2.0  \n",
       "4                  2.0  "
      ]
     },
     "execution_count": 99,
     "metadata": {},
     "output_type": "execute_result"
    }
   ],
   "source": [
    "df = pd.read_csv('./job_placement.csv')\n",
    "df.head()"
   ]
  },
  {
   "cell_type": "code",
   "execution_count": 141,
   "metadata": {},
   "outputs": [
    {
     "data": {
      "text/plain": [
       "0.12121152504358891"
      ]
     },
     "execution_count": 141,
     "metadata": {},
     "output_type": "execute_result"
    }
   ],
   "source": [
    "df.describe()['gpa']['std']"
   ]
  },
  {
   "cell_type": "markdown",
   "metadata": {},
   "source": [
    "### t test"
   ]
  },
  {
   "cell_type": "code",
   "execution_count": 154,
   "metadata": {},
   "outputs": [
    {
     "name": "stderr",
     "output_type": "stream",
     "text": [
      "/tmp/ipykernel_5971/1070063953.py:1: FutureWarning: The default dtype for empty Series will be 'object' instead of 'float64' in a future version. Specify a dtype explicitly to silence this warning.\n",
      "  t_test_data = pd.Series()\n"
     ]
    }
   ],
   "source": [
    "t_test_data = pd.Series()"
   ]
  },
  {
   "cell_type": "code",
   "execution_count": 155,
   "metadata": {},
   "outputs": [
    {
     "data": {
      "text/html": [
       "<div>\n",
       "<style scoped>\n",
       "    .dataframe tbody tr th:only-of-type {\n",
       "        vertical-align: middle;\n",
       "    }\n",
       "\n",
       "    .dataframe tbody tr th {\n",
       "        vertical-align: top;\n",
       "    }\n",
       "\n",
       "    .dataframe thead th {\n",
       "        text-align: right;\n",
       "    }\n",
       "</style>\n",
       "<table border=\"1\" class=\"dataframe\">\n",
       "  <thead>\n",
       "    <tr style=\"text-align: right;\">\n",
       "      <th></th>\n",
       "      <th>count</th>\n",
       "      <th>mean</th>\n",
       "      <th>std</th>\n",
       "      <th>min</th>\n",
       "      <th>25%</th>\n",
       "      <th>50%</th>\n",
       "      <th>75%</th>\n",
       "      <th>max</th>\n",
       "    </tr>\n",
       "    <tr>\n",
       "      <th>placement_status</th>\n",
       "      <th></th>\n",
       "      <th></th>\n",
       "      <th></th>\n",
       "      <th></th>\n",
       "      <th></th>\n",
       "      <th></th>\n",
       "      <th></th>\n",
       "      <th></th>\n",
       "    </tr>\n",
       "  </thead>\n",
       "  <tbody>\n",
       "    <tr>\n",
       "      <th>Not Placed</th>\n",
       "      <td>130.0</td>\n",
       "      <td>3.702308</td>\n",
       "      <td>0.141676</td>\n",
       "      <td>3.4</td>\n",
       "      <td>3.6</td>\n",
       "      <td>3.7</td>\n",
       "      <td>3.9</td>\n",
       "      <td>3.9</td>\n",
       "    </tr>\n",
       "    <tr>\n",
       "      <th>Placed</th>\n",
       "      <td>570.0</td>\n",
       "      <td>3.761404</td>\n",
       "      <td>0.113352</td>\n",
       "      <td>3.5</td>\n",
       "      <td>3.7</td>\n",
       "      <td>3.8</td>\n",
       "      <td>3.9</td>\n",
       "      <td>3.9</td>\n",
       "    </tr>\n",
       "  </tbody>\n",
       "</table>\n",
       "</div>"
      ],
      "text/plain": [
       "                  count      mean       std  min  25%  50%  75%  max\n",
       "placement_status                                                    \n",
       "Not Placed        130.0  3.702308  0.141676  3.4  3.6  3.7  3.9  3.9\n",
       "Placed            570.0  3.761404  0.113352  3.5  3.7  3.8  3.9  3.9"
      ]
     },
     "execution_count": 155,
     "metadata": {},
     "output_type": "execute_result"
    }
   ],
   "source": [
    "groups_statistics = df.groupby('placement_status').describe()['gpa']\n",
    "groups_statistics"
   ]
  },
  {
   "cell_type": "markdown",
   "metadata": {},
   "source": [
    "#### calculate SE & diff"
   ]
  },
  {
   "cell_type": "code",
   "execution_count": 156,
   "metadata": {},
   "outputs": [
    {
     "data": {
      "text/plain": [
       "SE         0.013302\n",
       "mu_diff    0.059096\n",
       "dtype: float64"
      ]
     },
     "execution_count": 156,
     "metadata": {},
     "output_type": "execute_result"
    }
   ],
   "source": [
    "t_test_data['SE'] = np.sum(\n",
    "    [groups_statistics['std'][i] ** 2 / groups_statistics['count'][i] \n",
    "        for i in ['Not Placed', 'Placed']]) ** 0.5\n",
    "t_test_data['mu_diff'] = (groups_statistics['mean']['Placed'] - groups_statistics['mean']['Not Placed'])\n",
    "t_test_data"
   ]
  },
  {
   "cell_type": "markdown",
   "metadata": {},
   "source": [
    "#### calculate degrees of freedom"
   ]
  },
  {
   "cell_type": "markdown",
   "metadata": {},
   "source": [
    "$$\n",
    "df = \\frac{(n_1-1)(n_2-1)}{(n_2-1)C^2+(1-C)^2(n_1-1)}\n",
    "$$\n",
    "$$\n",
    "C = \\frac{\\frac{s_1^2}{n_1}}{\\frac{s_1^2}{n_1} + \\frac{s_2^2}{n_2}}\n",
    "$$"
   ]
  },
  {
   "cell_type": "code",
   "execution_count": 157,
   "metadata": {},
   "outputs": [
    {
     "data": {
      "text/plain": [
       "683.0520549733064"
      ]
     },
     "execution_count": 157,
     "metadata": {},
     "output_type": "execute_result"
    }
   ],
   "source": [
    "C = (((groups_statistics['std']['Placed'] ** 2) / groups_statistics['count']['Placed']) /\n",
    "     (((groups_statistics['std']['Placed'] ** 2) / groups_statistics['count']['Placed']) +\n",
    "      ((groups_statistics['std']['Not Placed'] ** 2) / groups_statistics['count']['Not Placed'])))\n",
    "\n",
    "t_test_data['df'] = ((groups_statistics['count']['Placed'] - 1) * (groups_statistics['count']['Not Placed'] - 1) /\n",
    "           (((groups_statistics['count']['Placed'] - 1) * (C**2)) +\n",
    "           ((groups_statistics['count']['Not Placed'] - 1) * ((1-C)**2))))\n",
    "\n",
    "t_test_data['df']"
   ]
  },
  {
   "cell_type": "markdown",
   "metadata": {},
   "source": [
    "#### run test"
   ]
  },
  {
   "cell_type": "markdown",
   "metadata": {},
   "source": [
    "$$\n",
    "H_0: \\mu_\\text{Not Place} - \\mu_\\text{Place} = 0\\\\\n",
    "H_A: \\mu_\\text{Not Place} - \\mu_\\text{Place} < 0\n",
    "$$"
   ]
  },
  {
   "cell_type": "code",
   "execution_count": 158,
   "metadata": {},
   "outputs": [],
   "source": [
    "significance_level = 0.05\n",
    "H0_DIFF = 0\n",
    "HA = 'less'"
   ]
  },
  {
   "cell_type": "code",
   "execution_count": 159,
   "metadata": {},
   "outputs": [
    {
     "data": {
      "text/plain": [
       "4.442633347555541"
      ]
     },
     "execution_count": 159,
     "metadata": {},
     "output_type": "execute_result"
    }
   ],
   "source": [
    "t_test_data['score'] = (t_test_data[\"mu_diff\"] - H0_DIFF) / t_test_data['SE']\n",
    "t_test_data['score']"
   ]
  },
  {
   "cell_type": "code",
   "execution_count": 160,
   "metadata": {},
   "outputs": [
    {
     "data": {
      "text/plain": [
       "SE                                               0.013302\n",
       "mu_diff                                          0.059096\n",
       "df                                             683.052055\n",
       "score                                            4.442633\n",
       "p_value                                          0.999995\n",
       "result     No evidence of negative impact (do not reject)\n",
       "dtype: object"
      ]
     },
     "execution_count": 160,
     "metadata": {},
     "output_type": "execute_result"
    }
   ],
   "source": [
    "t_test_data['p_value'] = st.t.cdf(t_test_data['score'], t_test_data['df'])\n",
    "t_test_data['result'] = 'No evidence of negative impact (do not reject)'\\\n",
    "    if t_test_data['p_value'] > significance_level\\\n",
    "    else 'negative impact is confirmed (reject)'\n",
    "t_test_data"
   ]
  },
  {
   "cell_type": "code",
   "execution_count": 161,
   "metadata": {},
   "outputs": [
    {
     "data": {
      "text/plain": [
       "TtestResult(statistic=5.105318956468754, pvalue=0.9999997868177752, df=698.0)"
      ]
     },
     "execution_count": 161,
     "metadata": {},
     "output_type": "execute_result"
    }
   ],
   "source": [
    "st.ttest_ind(df[df['placement_status'] == 'Placed']['gpa'],\n",
    "             df[df['placement_status'] == 'Not Placed']['gpa'],\n",
    "             alternative=HA)"
   ]
  }
 ],
 "metadata": {
  "kernelspec": {
   "display_name": "Python 3",
   "language": "python",
   "name": "python3"
  },
  "language_info": {
   "codemirror_mode": {
    "name": "ipython",
    "version": 3
   },
   "file_extension": ".py",
   "mimetype": "text/x-python",
   "name": "python",
   "nbconvert_exporter": "python",
   "pygments_lexer": "ipython3",
   "version": "3.10.12"
  }
 },
 "nbformat": 4,
 "nbformat_minor": 2
}
