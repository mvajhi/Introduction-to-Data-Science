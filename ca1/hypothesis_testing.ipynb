{
 "cells": [
  {
   "cell_type": "markdown",
   "metadata": {},
   "source": [
    "# Hypothesis Testing"
   ]
  },
  {
   "cell_type": "code",
   "execution_count": 2,
   "metadata": {},
   "outputs": [],
   "source": [
    "import numpy as np\n",
    "import scipy.stats as st\n",
    "import matplotlib.pyplot as plt"
   ]
  },
  {
   "cell_type": "markdown",
   "metadata": {},
   "source": [
    "## Unfair coin"
   ]
  },
  {
   "cell_type": "markdown",
   "metadata": {},
   "source": [
    "### simulation"
   ]
  },
  {
   "cell_type": "code",
   "execution_count": 3,
   "metadata": {},
   "outputs": [
    {
     "data": {
      "text/plain": [
       "array([0, 1, 0, 0, 1, 1, 0, 0, 0, 0])"
      ]
     },
     "execution_count": 3,
     "metadata": {},
     "output_type": "execute_result"
    }
   ],
   "source": [
    "ONE_CHANCE = 0.55\n",
    "def flip_coin(sample_size:int)->list[int]:\n",
    "    return np.random.choice([1, 0], sample_size, p=[ONE_CHANCE, 1-ONE_CHANCE])\n",
    "flip_coin(10)"
   ]
  },
  {
   "cell_type": "markdown",
   "metadata": {},
   "source": [
    "### Run testing"
   ]
  },
  {
   "cell_type": "code",
   "execution_count": 62,
   "metadata": {},
   "outputs": [],
   "source": [
    "H0_VALUE = 0.5\n",
    "def calculate_p_value(sample:list[bool]):\n",
    "    n = len(sample)\n",
    "    x_bar = np.mean(sample)\n",
    "    s = np.std(sample)\n",
    "    se = s / (n ** 0.5)\n",
    "    z = abs(H0_VALUE - x_bar) / se\n",
    "    p_value = 2 * st.norm.cdf(-z)\n",
    "    confidence_interval = (x_bar - 1.96 * se, x_bar + 1.96 * se)\n",
    "    return p_value, z, confidence_interval"
   ]
  },
  {
   "cell_type": "code",
   "execution_count": 60,
   "metadata": {},
   "outputs": [],
   "source": [
    "def run_test(sample_size:int):\n",
    "    sample = flip_coin(sample_size)\n",
    "    p_value, z_score, confidence_interval = calculate_p_value(sample)\n",
    "    return p_value, z_score, confidence_interval, p_value > 0.05, confidence_interval[0] < H0_VALUE < confidence_interval[1]"
   ]
  },
  {
   "cell_type": "code",
   "execution_count": 135,
   "metadata": {},
   "outputs": [
    {
     "name": "stdout",
     "output_type": "stream",
     "text": [
      "for size 30\t, P_value is 100.00%\t, z_score is 0.00\t, and H0 is not reject\n",
      "for size 30\t, confidence interval is (0.321,0.679)%\t\t, and H0 is not reject\n",
      "for size 100\t, P_value is 100.00%\t, z_score is 0.00\t, and H0 is not reject\n",
      "for size 100\t, confidence interval is (0.402,0.598)%\t\t, and H0 is not reject\n",
      "for size 1000\t, P_value is 0.35%\t, z_score is 2.92\t, and H0 is reject\n",
      "for size 1000\t, confidence interval is (0.515,0.577)%\t\t, and H0 is reject\n",
      "for size 1000000\t, P_value is 0.00%\t, z_score is 101.88\t, and H0 is reject\n",
      "for size 1000000\t, confidence interval is (0.550,0.552)%\t\t, and H0 is reject\n"
     ]
    }
   ],
   "source": [
    "for i in [30,100,1000]:\n",
    "    p_value, z_score, confidence_interval, result_z_test, result_confidence_interval = run_test(i)\n",
    "    print(f\"for size {i}\\t, P_value is {p_value * 100:.2f}%\\t, z_score is {z_score:.2f}\\t, and H0 is {'reject' if not result_z_test else 'not reject'}\")\n",
    "    print(f\"for size {i}\\t, confidence interval is ({confidence_interval[0]:.3f},{confidence_interval[1]:.3f})%\\t\\t, and H0 is {'reject' if not result_confidence_interval else 'not reject'}\")"
   ]
  },
  {
   "cell_type": "code",
   "execution_count": 51,
   "metadata": {},
   "outputs": [],
   "source": [
    "ans = list()\n",
    "for i in range(100, 10000, 10):\n",
    "    p_value, z_score, confidence_interval, result_z_test, result_confidence_interval = run_test(i)\n",
    "    ans += [p_value*100]"
   ]
  },
  {
   "cell_type": "code",
   "execution_count": 52,
   "metadata": {},
   "outputs": [
    {
     "data": {
      "text/plain": [
       "[<matplotlib.lines.Line2D at 0x7a61a9586980>]"
      ]
     },
     "execution_count": 52,
     "metadata": {},
     "output_type": "execute_result"
    },
    {
     "data": {
      "image/png": "[encoded data removed]",
      "text/plain": [
       "<Figure size 640x480 with 1 Axes>"
      ]
     },
     "metadata": {},
     "output_type": "display_data"
    }
   ],
   "source": [
    "plt.plot(ans)"
   ]
  }
 ],
 "metadata": {
  "kernelspec": {
   "display_name": "Python 3",
   "language": "python",
   "name": "python3"
  },
  "language_info": {
   "codemirror_mode": {
    "name": "ipython",
    "version": 3
   },
   "file_extension": ".py",
   "mimetype": "text/x-python",
   "name": "python",
   "nbconvert_exporter": "python",
   "pygments_lexer": "ipython3",
   "version": "3.10.12"
  }
 },
 "nbformat": 4,
 "nbformat_minor": 2
}
