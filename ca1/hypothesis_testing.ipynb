{
 "cells": [
  {
   "cell_type": "markdown",
   "metadata": {},
   "source": [
    "# Hypothesis Testing"
   ]
  },
  {
   "cell_type": "code",
   "execution_count": 136,
   "metadata": {},
   "outputs": [],
   "source": [
    "import numpy as np\n",
    "import scipy.stats as st\n",
    "import matplotlib.pyplot as plt\n",
    "import pandas as pd"
   ]
  },
  {
   "cell_type": "markdown",
   "metadata": {},
   "source": [
    "## Unfair coin"
   ]
  },
  {
   "cell_type": "markdown",
   "metadata": {},
   "source": [
    "### simulation"
   ]
  },
  {
   "cell_type": "code",
   "execution_count": 3,
   "metadata": {},
   "outputs": [
    {
     "data": {
      "text/plain": [
       "array([0, 1, 0, 0, 1, 1, 0, 0, 0, 0])"
      ]
     },
     "execution_count": 3,
     "metadata": {},
     "output_type": "execute_result"
    }
   ],
   "source": [
    "ONE_CHANCE = 0.55\n",
    "def flip_coin(sample_size:int)->list[int]:\n",
    "    return np.random.choice([1, 0], sample_size, p=[ONE_CHANCE, 1-ONE_CHANCE])\n",
    "flip_coin(10)"
   ]
  },
  {
   "cell_type": "markdown",
   "metadata": {},
   "source": [
    "### Run testing"
   ]
  },
  {
   "cell_type": "code",
   "execution_count": 62,
   "metadata": {},
   "outputs": [],
   "source": [
    "H0_VALUE = 0.5\n",
    "def calculate_p_value(sample:list[bool]):\n",
    "    n = len(sample)\n",
    "    x_bar = np.mean(sample)\n",
    "    s = np.std(sample)\n",
    "    se = s / (n ** 0.5)\n",
    "    z = abs(H0_VALUE - x_bar) / se\n",
    "    p_value = 2 * st.norm.cdf(-z)\n",
    "    confidence_interval = (x_bar - 1.96 * se, x_bar + 1.96 * se)\n",
    "    return p_value, z, confidence_interval"
   ]
  },
  {
   "cell_type": "code",
   "execution_count": 145,
   "metadata": {},
   "outputs": [],
   "source": [
    "def run_test(sample_size:int):\n",
    "    sample = flip_coin(sample_size)\n",
    "    p_value, z_score, confidence_interval = calculate_p_value(sample)\n",
    "    output = {\n",
    "        \"sample size\": sample_size,\n",
    "        \"p_value\": p_value,\n",
    "        \"z score\": z_score,\n",
    "        \"confidence interval\": confidence_interval,\n",
    "        \"result z test\": p_value > 0.05,\n",
    "        \"result confidence interval\": confidence_interval[0] < H0_VALUE < confidence_interval[1]\n",
    "    }\n",
    "    return output"
   ]
  },
  {
   "cell_type": "code",
   "execution_count": 146,
   "metadata": {},
   "outputs": [],
   "source": [
    "tmp = list()\n",
    "for i in [30,100,1000]:\n",
    "    test_result = run_test(i)\n",
    "    tmp.append(test_result)\n",
    "\n",
    "df = pd.DataFrame(tmp)\n",
    "df['confidence interval'] = df['confidence interval'].apply(lambda x: (round(x[0], 3), round(x[1], 3)))"
   ]
  },
  {
   "cell_type": "code",
   "execution_count": 150,
   "metadata": {},
   "outputs": [
    {
     "data": {
      "text/html": [
       "<div>\n",
       "<style scoped>\n",
       "    .dataframe tbody tr th:only-of-type {\n",
       "        vertical-align: middle;\n",
       "    }\n",
       "\n",
       "    .dataframe tbody tr th {\n",
       "        vertical-align: top;\n",
       "    }\n",
       "\n",
       "    .dataframe thead th {\n",
       "        text-align: right;\n",
       "    }\n",
       "</style>\n",
       "<table border=\"1\" class=\"dataframe\">\n",
       "  <thead>\n",
       "    <tr style=\"text-align: right;\">\n",
       "      <th></th>\n",
       "      <th>sample size</th>\n",
       "      <th>p_value</th>\n",
       "      <th>z score</th>\n",
       "      <th>confidence interval</th>\n",
       "      <th>result z test</th>\n",
       "      <th>result confidence interval</th>\n",
       "    </tr>\n",
       "  </thead>\n",
       "  <tbody>\n",
       "    <tr>\n",
       "      <th>0</th>\n",
       "      <td>30</td>\n",
       "      <td>0.714393</td>\n",
       "      <td>0.365963</td>\n",
       "      <td>(0.288, 0.645)</td>\n",
       "      <td>True</td>\n",
       "      <td>True</td>\n",
       "    </tr>\n",
       "    <tr>\n",
       "      <th>1</th>\n",
       "      <td>100</td>\n",
       "      <td>0.007090</td>\n",
       "      <td>2.692602</td>\n",
       "      <td>(0.535, 0.725)</td>\n",
       "      <td>False</td>\n",
       "      <td>False</td>\n",
       "    </tr>\n",
       "    <tr>\n",
       "      <th>2</th>\n",
       "      <td>1000</td>\n",
       "      <td>0.026484</td>\n",
       "      <td>2.219038</td>\n",
       "      <td>(0.504, 0.566)</td>\n",
       "      <td>False</td>\n",
       "      <td>False</td>\n",
       "    </tr>\n",
       "  </tbody>\n",
       "</table>\n",
       "</div>"
      ],
      "text/plain": [
       "   sample size   p_value   z score confidence interval  result z test  \\\n",
       "0           30  0.714393  0.365963      (0.288, 0.645)           True   \n",
       "1          100  0.007090  2.692602      (0.535, 0.725)          False   \n",
       "2         1000  0.026484  2.219038      (0.504, 0.566)          False   \n",
       "\n",
       "   result confidence interval  \n",
       "0                        True  \n",
       "1                       False  \n",
       "2                       False  "
      ]
     },
     "execution_count": 150,
     "metadata": {},
     "output_type": "execute_result"
    }
   ],
   "source": [
    "df"
   ]
  }
 ],
 "metadata": {
  "kernelspec": {
   "display_name": "Python 3",
   "language": "python",
   "name": "python3"
  },
  "language_info": {
   "codemirror_mode": {
    "name": "ipython",
    "version": 3
   },
   "file_extension": ".py",
   "mimetype": "text/x-python",
   "name": "python",
   "nbconvert_exporter": "python",
   "pygments_lexer": "ipython3",
   "version": "3.10.12"
  }
 },
 "nbformat": 4,
 "nbformat_minor": 2
}
