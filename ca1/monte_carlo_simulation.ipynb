{
 "cells": [
  {
   "cell_type": "code",
   "execution_count": 2,
   "metadata": {},
   "outputs": [],
   "source": [
    "import pandas\n",
    "import random\n",
    "distance = lambda a,b:((a[0]-b[0])**2 + (a[1]-b[1])**2)**(0.5)\n",
    "def generate_random_point(x_lim,y_lim,num_of_gen):\n",
    "    points = []\n",
    "    for i in range(num_of_gen):\n",
    "        x = random.uniform(*x_lim)\n",
    "        y = random.uniform(*y_lim)\n",
    "        points.append((x,y))\n",
    "    return points\n",
    "def estimate_Pi(x_lim,y_lim,num_of_gen):\n",
    "    inside_circle_num = 0\n",
    "    radius = (x_lim[1] - x_lim[0])/2\n",
    "    points = generate_random_point(x_lim,y_lim,num_of_gen)\n",
    "    for i in range(len(points)):\n",
    "        if(distance(points[i],(0,0)) <= radius):\n",
    "            inside_circle_num += 1\n",
    "    return (inside_circle_num/len(points))*4\n",
    "\n"
   ]
  },
  {
   "cell_type": "code",
   "execution_count": 5,
   "metadata": {},
   "outputs": [
    {
     "data": {
      "image/png": "[encoded data removed]",
      "text/plain": [
       "<Figure size 640x480 with 1 Axes>"
      ]
     },
     "metadata": {},
     "output_type": "display_data"
    }
   ],
   "source": [
    "\n",
    "import matplotlib.pyplot as plt\n",
    "import numpy as np\n",
    "from scipy.stats import norm\n",
    "\n",
    "pi_estimates = []\n",
    "for i in range(1000):\n",
    "    pi_estimates .append(estimate_Pi((-1,1),(-1,1),10000)) \n",
    "plt.hist(pi_estimates,bins = np.arange(round(min(pi_estimates),2),round(max(pi_estimates) + 0.01,2),step = 0.01),ec = \"white\")\n",
    "plt.xticks(np.arange(round(min(pi_estimates),2),round(max(pi_estimates) + 0.01,2),step = 0.01))\n",
    "plt.xticks(rotation = 45)\n",
    "title = \"mean: {:.6f} std: {:.6f}\".format(np.mean(pi_estimates), np.std(pi_estimates))\n",
    "plt.title(title)\n",
    " \n",
    "plt.tight_layout()\n",
    "\n",
    "plt.show()"
   ]
  },
  {
   "cell_type": "code",
   "execution_count": null,
   "metadata": {},
   "outputs": [],
   "source": []
  },
  {
   "cell_type": "code",
   "execution_count": 7,
   "metadata": {},
   "outputs": [],
   "source": [
    "import random\n",
    "def mench():\n",
    "    player1_board = [i for i in range(0,40)]+['A','A','A','A']\n",
    "    player2_board = [i for i in range(10,40)]+[i for i in range(10)] + ['A','A','A','A']\n",
    "    player3_board = [i for i in range(20,40)]+ [i for i in range(20)] + ['A','A','A','A']\n",
    "    player4_board = [i for i in range(30,40)]+  [i for i in range(30)] +['A','A','A','A']\n",
    "    board_len = len(player1_board)\n",
    "    players_board = [player1_board,player2_board,player3_board,player4_board]\n",
    "    player_location = [-1,-1,-1,-1]\n",
    "    while(True):\n",
    "        for i in range(4):\n",
    "            while(True):\n",
    "                value = random.randint(1,6)\n",
    "                if(player_location[i]==-1 and value!=6):\n",
    "                    break\n",
    "                elif(player_location[i]==-1 and value == 6):\n",
    "                    player_location[i] = 0\n",
    "                    for j in range(4):\n",
    "                        if i != j and players_board[j][player_location[j]] == players_board[i][player_location[i]]:\n",
    "                            player_location[j] = -1\n",
    "                    continue\n",
    "                elif(player_location[i]!=-1):\n",
    "                    if (player_location[i] + value >= board_len):\n",
    "                        if(value != 6):\n",
    "                            break\n",
    "                        else:\n",
    "                            continue\n",
    "                    else:\n",
    "                        if (players_board[i][player_location[i] + value] == 'A'):\n",
    "                            return str(i+1)\n",
    "                        else : \n",
    "                            player_location[i]=player_location[i] + value\n",
    "                            for j in range(4):\n",
    "                                if i != j and players_board[j][player_location[j]] == players_board[i][player_location[i]]:\n",
    "                                    player_location[j] = -1\n",
    "                            \n",
    "                            if(value != 6):\n",
    "                                break\n",
    "                            else:\n",
    "                                continue                           \n",
    "    "
   ]
  },
  {
   "cell_type": "code",
   "execution_count": 8,
   "metadata": {},
   "outputs": [
    {
     "data": {
      "text/plain": [
       "<Axes: xlabel='percent'>"
      ]
     },
     "execution_count": 8,
     "metadata": {},
     "output_type": "execute_result"
    },
    {
     "data": {
      "image/png": "[encoded data removed]",
      "text/plain": [
       "<Figure size 640x480 with 1 Axes>"
      ]
     },
     "metadata": {},
     "output_type": "display_data"
    }
   ],
   "source": [
    "import seaborn as sns\n",
    "winner = []\n",
    "for i in range(10000):\n",
    "    winner.append(mench())\n",
    "winner.sort()\n",
    "sns.countplot(winner,stat=\"percent\")\n"
   ]
  },
  {
   "cell_type": "code",
   "execution_count": 33,
   "metadata": {},
   "outputs": [
    {
     "name": "stdout",
     "output_type": "stream",
     "text": [
      "the win probability first player is:  0.275151\n",
      "the win probability second player is 0.256867\n",
      "the win probability third player is 0.241548\n",
      "the win probability fourth player is 0.226434\n"
     ]
    }
   ],
   "source": [
    "import collections\n",
    "winner = np.array(winner)\n",
    "\n",
    "counter = collections.Counter(winner)\n",
    "\n",
    "print(\"the win probability first player is: \",counter['1']/len(winner))\n",
    "print(\"the win probability second player is\",counter['2']/len(winner))\n",
    "print(\"the win probability third player is\",counter['3']/len(winner))\n",
    "print(\"the win probability fourth player is\",counter['4']/len(winner))"
   ]
  }
 ],
 "metadata": {
  "kernelspec": {
   "display_name": "Python 3",
   "language": "python",
   "name": "python3"
  },
  "language_info": {
   "codemirror_mode": {
    "name": "ipython",
    "version": 3
   },
   "file_extension": ".py",
   "mimetype": "text/x-python",
   "name": "python",
   "nbconvert_exporter": "python",
   "pygments_lexer": "ipython3",
   "version": "3.11.8"
  }
 },
 "nbformat": 4,
 "nbformat_minor": 2
}
