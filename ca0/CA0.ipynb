{
 "cells": [
  {
   "cell_type": "markdown",
   "id": "2ecfbb4b0c704e67",
   "metadata": {},
   "source": [
    "# Web Scraping and Introductory Data Analysis\n",
    "\n",
    "Welcome to Homework 0, where we will delve into web scraping and perform an introductory data analysis. This homework will be a hands-on exercise that will help you become familiar with the process of extracting data from websites and conducting basic statistical analysis. \n",
    "\n",
    "## Objectives\n",
    "\n",
    "By the end of this homework, you will be able to:\n",
    "\n",
    "1. Set up a Python environment with the necessary libraries for web scraping and data analysis.\n",
    "2. Write a web scraping script using Beautiful Soup and Selenium to collect data from a website.\n",
    "3. Sample from the collected dataset and compare the statistics of the sample and the population.\n",
    "   \n",
    "## Tasks\n",
    "\n",
    "1. **Environment Setup**: Install the required libraries such as Beautiful Soup, Selenium, pandas, numpy, matplotlib, and seaborn.\n",
    "\n",
    "2. **Web Scraping**: Write a script to scrape transaction data from [Etherscan.io](https://etherscan.io/txs). Use Selenium to interact with the website and Beautiful Soup to parse the HTML content.\n",
    "\n",
    "3. **Data Sampling**: Once the data is collected, create a sample from the dataset. Compare the sample statistics (mean and standard deviation) with the population statistics.\n",
    "\n",
    "\n",
    "## Deliverables\n",
    "\n",
    "1. A Jupyter notebook with all the code and explanations.\n",
    "2. A detailed report on the findings, including the comparison of sample and population statistics.\n",
    "Note: You can include the report in your notebook.\n",
    "\n",
    "## Getting Started\n",
    "\n",
    "Begin by setting up your Python environment and installing the necessary libraries. Then, proceed with the web scraping task, ensuring that you handle any potential issues such as rate limiting. Once you have the data, move on to the data sampling and statistical analysis tasks. \n",
    "\n",
    "Remember to document your process and findings in the Jupyter notebook, and to include visualizations where appropriate to illustrate your results. <br>\n",
    "Good luck, and happy scraping!"
   ]
  },
  {
   "cell_type": "markdown",
   "id": "1ca352a49724d191",
   "metadata": {},
   "source": [
    "## Data Collection (Etherscan)\n",
    "\n",
    "In this section, we will use web scraping to gather transaction data from the Ethereum blockchain using the Etherscan block explorer. Our objective is to collect transactions from the **last 10 blocks** on Ethereum.\n",
    "\n",
    "To accomplish this task, we will employ web scraping techniques to extract the transaction data from the Etherscan website. The URL we will be targeting for our data collection is:\n",
    "\n",
    "[https://etherscan.io/txs](https://etherscan.io/txs)\n",
    "\n",
    "### Steps\n",
    "\n",
    "1. **Navigate to the URL**: Use Selenium to open the Etherscan transactions page in a browser.\n",
    "\n",
    "2. **Locate the Transaction Data**: Identify the HTML elements that contain the transaction data for the specified block range.\n",
    "\n",
    "3. **Extract the Data**: Write a script to extract the transaction details e.g. Hash, Method, Block, etc.\n",
    "\n",
    "4. **Handle Pagination**: If the transactions span multiple pages, implement pagination handling to navigate through the pages and collect all relevant transaction data.\n",
    "\n",
    "5. **Store the Data**: Save the extracted transaction data into a structured format, such as a CSV file or a pandas DataFrame, for further analysis.\n",
    "\n",
    "### Considerations\n",
    "\n",
    "- **Rate Limiting**: Be mindful of the website's rate limits to avoid being blocked. Implement delays between requests if necessary.\n",
    "- **Dynamic Content**: The Etherscan website may load content dynamically. Ensure that Selenium waits for the necessary elements to load before attempting to scrape the data.\n",
    "- **Data Cleaning**: After extraction, clean the data to remove any inconsistencies or errors that may have occurred during the scraping process.\n",
    "\n",
    "### Resources\n",
    "\n",
    "- [Beautiful Soup Documentation](https://www.crummy.com/software/BeautifulSoup/bs4/doc/)\n",
    "- [Selenium Documentation](https://selenium-python.readthedocs.io/)\n",
    "- [Pandas Documentation](https://pandas.pydata.org/docs/)\n",
    "- [Ethereum](https://ethereum.org/en/)"
   ]
  },
  {
   "cell_type": "code",
   "execution_count": 111,
   "id": "54fa10db-ec9e-4921-870a-50066926ed2d",
   "metadata": {},
   "outputs": [
    {
     "name": "stderr",
     "output_type": "stream",
     "text": [
      "The geckodriver version (0.33.0) detected in PATH at /usr/local/bin/geckodriver might not be compatible with the detected firefox version (123.0); currently, geckodriver 0.34.0 is recommended for firefox 123.*, so it is advised to delete the driver in PATH and retry\n"
     ]
    }
   ],
   "source": [
    "# Generated by Selenium IDE\n",
    "import json\n",
    "from selenium import webdriver\n",
    "from selenium.webdriver.common.by import By\n",
    "from bs4 import BeautifulSoup\n",
    "import time\n",
    "\n",
    "\n",
    "driver = webdriver.Firefox()\n",
    "driver.get(\"https://etherscan.io/txs\")\n",
    "the_soup = BeautifulSoup(driver.page_source, 'html.parser')"
   ]
  },
  {
   "cell_type": "code",
   "execution_count": 112,
   "id": "8d507b61",
   "metadata": {},
   "outputs": [],
   "source": [
    "t = the_soup.find(\"tbody\", attrs={\"class\":\"align-middle text-nowrap\"})"
   ]
  },
  {
   "cell_type": "code",
   "execution_count": 113,
   "id": "2cf12ed1",
   "metadata": {
    "scrolled": true
   },
   "outputs": [
    {
     "data": {
      "text/plain": [
       "'<tr>\\n<td><button class=\"js-tnx-preview btn btn-sm btn-white fs-70x content-center mx-auto myFnExpandBox\" data-bs-container=\"body\" data-bs-content=\"&lt;i class=\\'fas fa-circle-notch fa-spin text-primary fa-2x\\'&gt;&lt;/i&gt;\" data-bs-content-id=\"js-tnx-preview\" data-bs-custom-class=\"popover-preview\" data-bs-html=\"true\" data-bs-placement=\"right\" data-bs-toggle=\"popover\" data-bs-trigger=\"manual\" data-i'"
      ]
     },
     "execution_count": 113,
     "metadata": {},
     "output_type": "execute_result"
    }
   ],
   "source": [
    "row = [i for i in t.children]\n",
    "str(row[1])[:400]"
   ]
  },
  {
   "cell_type": "code",
   "execution_count": 114,
   "id": "76e85c25",
   "metadata": {
    "scrolled": true
   },
   "outputs": [
    {
     "name": "stdout",
     "output_type": "stream",
     "text": [
      "1 Transfer\n",
      "2 Transfer\n",
      "3 Ccip Send\n",
      "4 Execute\n",
      "5 Execute\n",
      "6 Transfer\n",
      "7 Transfer\n",
      "8 Sell To Uniswap\n",
      "9 Sell To Uniswap\n"
     ]
    }
   ],
   "source": [
    "for i in range(1, 10):\n",
    "    print(i, row[i].findAll(\"td\")[2].find(\"span\").text)"
   ]
  },
  {
   "cell_type": "code",
   "execution_count": 115,
   "id": "fbba4818",
   "metadata": {},
   "outputs": [
    {
     "data": {
      "text/plain": [
       "{'Txn Hash': '0xeba960e42576852a90760dadef2ea709fde92c8114da45edb91b70fed649f7b4',\n",
       " 'Method': 'Transfer',\n",
       " 'Block': '19347405',\n",
       " 'Time': '2024-03-02 12:13:11',\n",
       " 'From': '0x4648451b5f87ff8f0f7d622bd40574bb97e25980',\n",
       " 'Self': False,\n",
       " 'To': 'Public Tag: Tether: USDT Stablecoin<br/>(0xdac17f958d2ee523a2206206994597c13d831ec7)',\n",
       " 'Value': '0 ETH',\n",
       " 'Txn Fee': '0.00275637',\n",
       " 'GasPrice': '43.60736268',\n",
       " 'Error': ''}"
      ]
     },
     "execution_count": 115,
     "metadata": {},
     "output_type": "execute_result"
    }
   ],
   "source": [
    "def convert_row_to_dict(row):\n",
    "    cells = row.findAll(\"td\")\n",
    "    return {\"Txn Hash\": cells[1].find(\"a\").text,\n",
    "            \"Method\": cells[2].find(\"span\").text, # TODO cant show full text\n",
    "            \"Block\": cells[3].find(\"a\").text,\n",
    "            \"Time\": cells[4].find(\"span\").text,\n",
    "            \"From\": cells[7].find(\"a\")[\"data-bs-title\"] if cells[7].find(\"a\").has_attr('data-bs-title')\\\n",
    "            else cells[7].find(\"span\")[\"data-bs-title\"],\n",
    "            \"Self\": cells[8].text == \"SELF\",\n",
    "            \"To\": cells[9].find(\"a\")[\"data-bs-title\"] if cells[9].find(\"a\").has_attr('data-bs-title')\\\n",
    "            else cells[9].find(\"span\")[\"data-bs-title\"],\n",
    "            \"Value\": cells[10].text,\n",
    "            \"Txn Fee\": cells[11].text,\n",
    "            \"GasPrice\": cells[12].text,\n",
    "            \"Error\": cells[1].findAll(\"span\")[0][\"data-bs-title\"]\\\n",
    "            if len(cells[1].findAll(\"span\")) > 1 else \"\"}\n",
    "convert_row_to_dict(row[1])"
   ]
  },
  {
   "cell_type": "code",
   "execution_count": 116,
   "id": "ef0ad965",
   "metadata": {},
   "outputs": [
    {
     "name": "stdout",
     "output_type": "stream",
     "text": [
      "--------\n",
      "sample row: <tr>\n",
      "<td><button class=\"js-tnx-preview btn btn-sm btn-white fs-70x content-center mx-auto myFnExpandBox\" data-bs-container=\"body\" data-bs-content=\"&lt;i class='fas fa-circle-notch fa-spin text-primary fa-2x'&gt;&lt;/i&gt;\" data-bs-content-id=\"js-tnx-preview\" data-bs-custom-class=\"popover-preview\" da...\n",
      "----------\n",
      "\n",
      "--------\n",
      "sample data: {'Txn Hash': '0x12351f92b225a5abe8673dc514525c26cd5f45d8f9f76f8bad940248cb1c40df', 'Method': 'Transfer', 'Block': '19347405', 'Time': '2024-03-02 12:13:11', 'From': '0x474fc1f28b6394f957d471d4148db761f3559ae5', 'Self': False, 'To': '0x17a7227be96d8a3dfbe81bfa2bcea4f353d4274e', 'Value': '0.000939273 ETH', 'Txn Fee': '0.00091577', 'GasPrice': '43.60836135', 'Error': ''}\n",
      "----------\n",
      "\n"
     ]
    }
   ],
   "source": [
    "def parse_transaction(the_soup, log=False):\n",
    "    table = the_soup.find(\"tbody\", attrs={\"class\":\"align-middle text-nowrap\"})\n",
    "    rows = [i for i in t.children]\n",
    "    if log:\n",
    "        print(f\"--------\\nsample row: {str(row[1])[:300]}...\\n----------\\n\")\n",
    "    row_data = [convert_row_to_dict(rows[i]) for i in range(1, len(rows) - 1)]\n",
    "    if log:\n",
    "        print(f\"--------\\nsample data: {row_data[1]}\\n----------\\n\")\n",
    "    return row_data\n",
    "\n",
    "page_data = parse_transaction(the_soup, True)"
   ]
  },
  {
   "cell_type": "code",
   "execution_count": 117,
   "id": "ebe6f6f7",
   "metadata": {
    "scrolled": true
   },
   "outputs": [],
   "source": [
    "def write_in_json_file(data_list):\n",
    "    json_data = json.dumps(data_list, indent=4)\n",
    "\n",
    "    file_path = f\"data_block_{data_list[0]['Block']}_{data_list[-1]['Block']}.json\"\n",
    "    with open(file_path, \"w\") as file:\n",
    "        file.write(json_data)\n",
    "\n",
    "    print(f\"Data has been saved to {file_path}\")"
   ]
  },
  {
   "cell_type": "code",
   "execution_count": 118,
   "id": "c629ab11",
   "metadata": {},
   "outputs": [
    {
     "data": {
      "text/plain": [
       "19347405"
      ]
     },
     "execution_count": 118,
     "metadata": {},
     "output_type": "execute_result"
    }
   ],
   "source": [
    "def find_first_block(the_soup):\n",
    "    return int(parse_transaction(the_soup)[1][\"Block\"])\n",
    "find_first_block(the_soup)"
   ]
  },
  {
   "cell_type": "code",
   "execution_count": 119,
   "id": "9b9f89c9",
   "metadata": {},
   "outputs": [
    {
     "data": {
      "text/plain": [
       "10000"
      ]
     },
     "execution_count": 119,
     "metadata": {},
     "output_type": "execute_result"
    }
   ],
   "source": [
    "def get_page_count(the_soup):\n",
    "    return int(the_soup.find(class_=\"page-link text-nowrap\").text.split()[3])\n",
    "get_page_count(the_soup)"
   ]
  },
  {
   "cell_type": "code",
   "execution_count": 120,
   "id": "7f7214ed",
   "metadata": {},
   "outputs": [],
   "source": [
    "def collect_block_data(driver, block):\n",
    "    block_data = list()\n",
    "    driver.get(f\"https://etherscan.io/txs?block={block}\")\n",
    "    the_soup = BeautifulSoup(driver.page_source, 'html.parser')\n",
    "    page_count = get_page_count(the_soup)\n",
    "    for i in range(1, page_count + 1):\n",
    "        driver.get(f\"https://etherscan.io/txs?block={block}&p={i}\")\n",
    "        the_soup = BeautifulSoup(driver.page_source, 'html.parser')\n",
    "        block_data.extend(parse_transaction(the_soup))\n",
    "    return block_data"
   ]
  },
  {
   "cell_type": "code",
   "execution_count": 121,
   "id": "09bf59ac",
   "metadata": {},
   "outputs": [
    {
     "name": "stdout",
     "output_type": "stream",
     "text": [
      "sample block 19347405: {'Txn Hash': '0xde82fcee93a6f1ba7e86af9a5cacb1911a7d8c50d0e7a1de8bb1778b3c0d1008', 'Method': 'Reveal', 'Block': '19347405', 'Time': '2024-03-02 12:13:11', 'From': 'tigerbull.eth<br/>(0x0c3ea13e4f5597fb6e7ee2c6352f8afecc1bb9b1)', 'Self': False, 'To': '0x7037ae030238c688dd7bb421d4a4f78d7684533a', 'Value': '0 ETH', 'Txn Fee': '0.00472485', 'GasPrice': '43.63312337', 'Error': ''}\n",
      "\n",
      "sample block 19347404: {'Txn Hash': '0xde82fcee93a6f1ba7e86af9a5cacb1911a7d8c50d0e7a1de8bb1778b3c0d1008', 'Method': 'Reveal', 'Block': '19347405', 'Time': '2024-03-02 12:13:11', 'From': 'tigerbull.eth<br/>(0x0c3ea13e4f5597fb6e7ee2c6352f8afecc1bb9b1)', 'Self': False, 'To': '0x7037ae030238c688dd7bb421d4a4f78d7684533a', 'Value': '0 ETH', 'Txn Fee': '0.00472485', 'GasPrice': '43.63312337', 'Error': ''}\n",
      "\n",
      "sample block 19347403: {'Txn Hash': '0xde82fcee93a6f1ba7e86af9a5cacb1911a7d8c50d0e7a1de8bb1778b3c0d1008', 'Method': 'Reveal', 'Block': '19347405', 'Time': '2024-03-02 12:13:11', 'From': 'tigerbull.eth<br/>(0x0c3ea13e4f5597fb6e7ee2c6352f8afecc1bb9b1)', 'Self': False, 'To': '0x7037ae030238c688dd7bb421d4a4f78d7684533a', 'Value': '0 ETH', 'Txn Fee': '0.00472485', 'GasPrice': '43.63312337', 'Error': ''}\n",
      "\n",
      "sample block 19347402: {'Txn Hash': '0xde82fcee93a6f1ba7e86af9a5cacb1911a7d8c50d0e7a1de8bb1778b3c0d1008', 'Method': 'Reveal', 'Block': '19347405', 'Time': '2024-03-02 12:13:11', 'From': 'tigerbull.eth<br/>(0x0c3ea13e4f5597fb6e7ee2c6352f8afecc1bb9b1)', 'Self': False, 'To': '0x7037ae030238c688dd7bb421d4a4f78d7684533a', 'Value': '0 ETH', 'Txn Fee': '0.00472485', 'GasPrice': '43.63312337', 'Error': ''}\n",
      "\n",
      "sample block 19347401: {'Txn Hash': '0xde82fcee93a6f1ba7e86af9a5cacb1911a7d8c50d0e7a1de8bb1778b3c0d1008', 'Method': 'Reveal', 'Block': '19347405', 'Time': '2024-03-02 12:13:11', 'From': 'tigerbull.eth<br/>(0x0c3ea13e4f5597fb6e7ee2c6352f8afecc1bb9b1)', 'Self': False, 'To': '0x7037ae030238c688dd7bb421d4a4f78d7684533a', 'Value': '0 ETH', 'Txn Fee': '0.00472485', 'GasPrice': '43.63312337', 'Error': ''}\n",
      "\n",
      "sample block 19347400: {'Txn Hash': '0xde82fcee93a6f1ba7e86af9a5cacb1911a7d8c50d0e7a1de8bb1778b3c0d1008', 'Method': 'Reveal', 'Block': '19347405', 'Time': '2024-03-02 12:13:11', 'From': 'tigerbull.eth<br/>(0x0c3ea13e4f5597fb6e7ee2c6352f8afecc1bb9b1)', 'Self': False, 'To': '0x7037ae030238c688dd7bb421d4a4f78d7684533a', 'Value': '0 ETH', 'Txn Fee': '0.00472485', 'GasPrice': '43.63312337', 'Error': ''}\n",
      "\n",
      "sample block 19347399: {'Txn Hash': '0xde82fcee93a6f1ba7e86af9a5cacb1911a7d8c50d0e7a1de8bb1778b3c0d1008', 'Method': 'Reveal', 'Block': '19347405', 'Time': '2024-03-02 12:13:11', 'From': 'tigerbull.eth<br/>(0x0c3ea13e4f5597fb6e7ee2c6352f8afecc1bb9b1)', 'Self': False, 'To': '0x7037ae030238c688dd7bb421d4a4f78d7684533a', 'Value': '0 ETH', 'Txn Fee': '0.00472485', 'GasPrice': '43.63312337', 'Error': ''}\n",
      "\n",
      "sample block 19347398: {'Txn Hash': '0xde82fcee93a6f1ba7e86af9a5cacb1911a7d8c50d0e7a1de8bb1778b3c0d1008', 'Method': 'Reveal', 'Block': '19347405', 'Time': '2024-03-02 12:13:11', 'From': 'tigerbull.eth<br/>(0x0c3ea13e4f5597fb6e7ee2c6352f8afecc1bb9b1)', 'Self': False, 'To': '0x7037ae030238c688dd7bb421d4a4f78d7684533a', 'Value': '0 ETH', 'Txn Fee': '0.00472485', 'GasPrice': '43.63312337', 'Error': ''}\n",
      "\n",
      "sample block 19347397: {'Txn Hash': '0xde82fcee93a6f1ba7e86af9a5cacb1911a7d8c50d0e7a1de8bb1778b3c0d1008', 'Method': 'Reveal', 'Block': '19347405', 'Time': '2024-03-02 12:13:11', 'From': 'tigerbull.eth<br/>(0x0c3ea13e4f5597fb6e7ee2c6352f8afecc1bb9b1)', 'Self': False, 'To': '0x7037ae030238c688dd7bb421d4a4f78d7684533a', 'Value': '0 ETH', 'Txn Fee': '0.00472485', 'GasPrice': '43.63312337', 'Error': ''}\n",
      "\n",
      "sample block 19347396: {'Txn Hash': '0xde82fcee93a6f1ba7e86af9a5cacb1911a7d8c50d0e7a1de8bb1778b3c0d1008', 'Method': 'Reveal', 'Block': '19347405', 'Time': '2024-03-02 12:13:11', 'From': 'tigerbull.eth<br/>(0x0c3ea13e4f5597fb6e7ee2c6352f8afecc1bb9b1)', 'Self': False, 'To': '0x7037ae030238c688dd7bb421d4a4f78d7684533a', 'Value': '0 ETH', 'Txn Fee': '0.00472485', 'GasPrice': '43.63312337', 'Error': ''}\n",
      "\n",
      "Data has been saved to data_block_19347405_19347405.json\n"
     ]
    }
   ],
   "source": [
    "BLOCK_COUNT = 10\n",
    "def scrape_data(driver):\n",
    "    output = list()\n",
    "    driver.get(\"https://etherscan.io/txs\")\n",
    "    the_soup = BeautifulSoup(driver.page_source, 'html.parser')\n",
    "    first_block = find_first_block(the_soup)\n",
    "    for i in range(BLOCK_COUNT):\n",
    "        output.extend(collect_block_data(driver, first_block - i))\n",
    "        print(f\"sample block {first_block - i}: {output[-1]}\\n\")\n",
    "        time.sleep(1)\n",
    "    write_in_json_file(output)\n",
    "scrape_data(driver)"
   ]
  },
  {
   "cell_type": "markdown",
   "id": "6a013b104d142cfc",
   "metadata": {},
   "source": [
    "## Data Analysis\n",
    "\n",
    "Now that we have collected the transaction data from Etherscan, the next step is to perform conduct an initial analysis. This task will involve the following steps:\n",
    "\n",
    "1. **Load the Data**: Import the collected transaction data into a pandas DataFrame.\n",
    "\n",
    "2. **Data Cleaning**: Clean the data by converting data types, removing any irrelevant information, and handling **duplicate** values.\n",
    "\n",
    "3. **Statistical Analysis**: Calculate the mean and standard deviation of the population. Evaluate these statistics to understand the distribution of transaction values. The analysis and plotting will be on **Txn Fee** and **Value**.\n",
    "\n",
    "4. **Visualization**: This phase involves the creation of visual representations to aid in the analysis of transaction values. The visualizations include:\n",
    "    - A histogram for each data column, which provides a visual representation of the data distribution. The selection of bin size is crucial and should be based on the data's characteristics to ensure accurate representation. Provide an explanation on the bin size selection!\n",
    "    - A normal distribution plot fitted alongside the histogram to compare the empirical distribution of the data with the theoretical normal distribution.\n",
    "    - A box plot and a violin plot to identify outliers and provide a comprehensive view of the data's distribution.\n",
    "\n",
    "### Deliverables\n",
    "\n",
    "The project aims to deliver the following deliverables:\n",
    "\n",
    "- A refined pandas DataFrame containing the transaction data, which has undergone thorough cleaning and is ready for analysis.\n",
    "- A simple statistical analysis evaluating the population statistics, offering insights into the distribution of transaction values and fees.\n",
    "- A set of visualizations showcasing the distribution of transaction values for the population. These visualizations include histograms, normal distribution plots, box plots, and violin plots, each serving a specific purpose in the analysis.\n",
    "\n",
    "### Getting Started\n",
    "\n",
    "The project starts with the importing of transaction data into a pandas DataFrame, setting the stage for data manipulation and analysis. Subsequent steps involve the cleaning of the data to ensure its quality and reliability. Followed by the calculation of population statistics. Finally, a series of visualizations are created to visually analyze the distribution of transaction values and fees."
   ]
  },
  {
   "cell_type": "code",
   "execution_count": 122,
   "id": "f481b11a08d876b6",
   "metadata": {
    "ExecuteTime": {
     "end_time": "2024-02-25T14:02:12.152030482Z",
     "start_time": "2024-02-25T14:02:12.101846096Z"
    }
   },
   "outputs": [],
   "source": [
    "# Your code here"
   ]
  },
  {
   "cell_type": "markdown",
   "id": "87030e5e0b4fe1e6",
   "metadata": {},
   "source": [
    "## Data Sampling and Analysis\n",
    "\n",
    "In this section, we will delve into the process of data sampling and perform an initial analysis on the transaction data we have collected. Our objective is to understand the distribution of transaction values by sampling the data and comparing the sample statistics with the population statistics.\n",
    "\n",
    "### Steps\n",
    "\n",
    "1. **Load the Data**: Import the collected transaction data into a pandas DataFrame.\n",
    "\n",
    "2. **Data Cleaning**: Clean the data by handling missing values, converting data types, and removing any irrelevant information.\n",
    "\n",
    "3. **Simple Random Sampling (SRS)**: Create a sample from the dataset using a simple random sampling method. This involves randomly selecting a subset of the data without regard to any specific characteristics of the data.\n",
    "\n",
    "4. **Stratified Sampling**: Create another sample from the dataset using a stratified sampling method. This involves dividing the data into strata based on a specific characteristic (e.g., transaction value) and then randomly selecting samples from each stratum. Explain what you have stratified the data by and why you chose this column.\n",
    "\n",
    "5. **Statistical Analysis**: Calculate the mean and standard deviation of the samples and the population. Compare these statistics to understand the distribution of transaction values.\n",
    "\n",
    "6. **Visualization**: Plot the distribution of transaction values and fees for both the samples and the population to visually compare their distributions.\n",
    "\n",
    "### Considerations\n",
    "\n",
    "- **Sample Size**: The size of the sample should be large enough to represent the population accurately but not so large that it becomes impractical to analyze.\n",
    "- **Sampling Method**: Choose the appropriate sampling method based on the characteristics of the data and the research question.\n",
    "\n",
    "Explain the above considerations in your report."
   ]
  },
  {
   "cell_type": "code",
   "execution_count": 123,
   "id": "4f6becd41f9b2393",
   "metadata": {
    "ExecuteTime": {
     "end_time": "2024-02-27T19:36:26.333480965Z",
     "start_time": "2024-02-27T19:36:26.324023052Z"
    }
   },
   "outputs": [],
   "source": [
    "# Your code here"
   ]
  }
 ],
 "metadata": {
  "kernelspec": {
   "display_name": "Python 3 (ipykernel)",
   "language": "python",
   "name": "python3"
  },
  "language_info": {
   "codemirror_mode": {
    "name": "ipython",
    "version": 3
   },
   "file_extension": ".py",
   "mimetype": "text/x-python",
   "name": "python",
   "nbconvert_exporter": "python",
   "pygments_lexer": "ipython3",
   "version": "3.10.12"
  }
 },
 "nbformat": 4,
 "nbformat_minor": 5
}
