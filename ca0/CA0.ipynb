{
 "cells": [
  {
   "cell_type": "markdown",
   "id": "2ecfbb4b0c704e67",
   "metadata": {},
   "source": [
    "# Web Scraping and Introductory Data Analysis\n",
    "\n",
    "Welcome to Homework 0, where we will delve into web scraping and perform an introductory data analysis. This homework will be a hands-on exercise that will help you become familiar with the process of extracting data from websites and conducting basic statistical analysis. \n",
    "\n",
    "## Objectives\n",
    "\n",
    "By the end of this homework, you will be able to:\n",
    "\n",
    "1. Set up a Python environment with the necessary libraries for web scraping and data analysis.\n",
    "2. Write a web scraping script using Beautiful Soup and Selenium to collect data from a website.\n",
    "3. Sample from the collected dataset and compare the statistics of the sample and the population.\n",
    "   \n",
    "## Tasks\n",
    "\n",
    "1. **Environment Setup**: Install the required libraries such as Beautiful Soup, Selenium, pandas, numpy, matplotlib, and seaborn.\n",
    "\n",
    "2. **Web Scraping**: Write a script to scrape transaction data from [Etherscan.io](https://etherscan.io/txs). Use Selenium to interact with the website and Beautiful Soup to parse the HTML content.\n",
    "\n",
    "3. **Data Sampling**: Once the data is collected, create a sample from the dataset. Compare the sample statistics (mean and standard deviation) with the population statistics.\n",
    "\n",
    "\n",
    "## Deliverables\n",
    "\n",
    "1. A Jupyter notebook with all the code and explanations.\n",
    "2. A detailed report on the findings, including the comparison of sample and population statistics.\n",
    "Note: You can include the report in your notebook.\n",
    "\n",
    "## Getting Started\n",
    "\n",
    "Begin by setting up your Python environment and installing the necessary libraries. Then, proceed with the web scraping task, ensuring that you handle any potential issues such as rate limiting. Once you have the data, move on to the data sampling and statistical analysis tasks. \n",
    "\n",
    "Remember to document your process and findings in the Jupyter notebook, and to include visualizations where appropriate to illustrate your results. <br>\n",
    "Good luck, and happy scraping!"
   ]
  },
  {
   "cell_type": "markdown",
   "id": "1ca352a49724d191",
   "metadata": {},
   "source": [
    "## Data Collection (Etherscan)\n",
    "\n",
    "In this section, we will use web scraping to gather transaction data from the Ethereum blockchain using the Etherscan block explorer. Our objective is to collect transactions from the **last 10 blocks** on Ethereum.\n",
    "\n",
    "To accomplish this task, we will employ web scraping techniques to extract the transaction data from the Etherscan website. The URL we will be targeting for our data collection is:\n",
    "\n",
    "[https://etherscan.io/txs](https://etherscan.io/txs)\n",
    "\n",
    "### Steps\n",
    "\n",
    "1. **Navigate to the URL**: Use Selenium to open the Etherscan transactions page in a browser.\n",
    "\n",
    "2. **Locate the Transaction Data**: Identify the HTML elements that contain the transaction data for the specified block range.\n",
    "\n",
    "3. **Extract the Data**: Write a script to extract the transaction details e.g. Hash, Method, Block, etc.\n",
    "\n",
    "4. **Handle Pagination**: If the transactions span multiple pages, implement pagination handling to navigate through the pages and collect all relevant transaction data.\n",
    "\n",
    "5. **Store the Data**: Save the extracted transaction data into a structured format, such as a CSV file or a pandas DataFrame, for further analysis.\n",
    "\n",
    "### Considerations\n",
    "\n",
    "- **Rate Limiting**: Be mindful of the website's rate limits to avoid being blocked. Implement delays between requests if necessary.\n",
    "- **Dynamic Content**: The Etherscan website may load content dynamically. Ensure that Selenium waits for the necessary elements to load before attempting to scrape the data.\n",
    "- **Data Cleaning**: After extraction, clean the data to remove any inconsistencies or errors that may have occurred during the scraping process.\n",
    "\n",
    "### Resources\n",
    "\n",
    "- [Beautiful Soup Documentation](https://www.crummy.com/software/BeautifulSoup/bs4/doc/)\n",
    "- [Selenium Documentation](https://selenium-python.readthedocs.io/)\n",
    "- [Pandas Documentation](https://pandas.pydata.org/docs/)\n",
    "- [Ethereum](https://ethereum.org/en/)"
   ]
  },
  {
   "cell_type": "code",
   "execution_count": 12,
   "id": "54fa10db-ec9e-4921-870a-50066926ed2d",
   "metadata": {},
   "outputs": [
    {
     "name": "stderr",
     "output_type": "stream",
     "text": [
      "The geckodriver version (0.33.0) detected in PATH at /usr/local/bin/geckodriver might not be compatible with the detected firefox version (123.0); currently, geckodriver 0.34.0 is recommended for firefox 123.*, so it is advised to delete the driver in PATH and retry\n"
     ]
    }
   ],
   "source": [
    "import json\n",
    "from selenium import webdriver\n",
    "from selenium.webdriver.common.by import By\n",
    "from bs4 import BeautifulSoup\n",
    "import time\n",
    "\n",
    "\n",
    "driver = webdriver.Firefox()\n",
    "driver.get(\"https://etherscan.io/txs\")\n",
    "the_soup = BeautifulSoup(driver.page_source, 'html.parser')"
   ]
  },
  {
   "cell_type": "code",
   "execution_count": 13,
   "id": "8d507b61",
   "metadata": {},
   "outputs": [],
   "source": [
    "t = the_soup.find(\"tbody\", attrs={\"class\":\"align-middle text-nowrap\"})"
   ]
  },
  {
   "cell_type": "code",
   "execution_count": 14,
   "id": "2cf12ed1",
   "metadata": {
    "scrolled": true
   },
   "outputs": [
    {
     "data": {
      "text/plain": [
       "'<tr>\\n<td><button class=\"js-tnx-preview btn btn-sm btn-white fs-70x content-center mx-auto myFnExpandBox\" data-bs-container=\"body\" data-bs-content=\"&lt;i class=\\'fas fa-circle-notch fa-spin text-primary fa-2x\\'&gt;&lt;/i&gt;\" data-bs-content-id=\"js-tnx-preview\" data-bs-custom-class=\"popover-preview\" data-bs-html=\"true\" data-bs-placement=\"right\" data-bs-toggle=\"popover\" data-bs-trigger=\"manual\" data-i'"
      ]
     },
     "execution_count": 14,
     "metadata": {},
     "output_type": "execute_result"
    }
   ],
   "source": [
    "row = [i for i in t.children]\n",
    "str(row[1])[:400]"
   ]
  },
  {
   "cell_type": "code",
   "execution_count": 15,
   "id": "76e85c25",
   "metadata": {
    "scrolled": true
   },
   "outputs": [
    {
     "name": "stdout",
     "output_type": "stream",
     "text": [
      "1 Transfer\n",
      "2 Transfer*\n",
      "3 Transfer\n",
      "4 Transfer\n",
      "5 Transfer*\n",
      "6 Relay\n",
      "7 Transfer*\n",
      "8 Exec Transaction\n",
      "9 Transfer\n"
     ]
    }
   ],
   "source": [
    "for i in range(1, 10):\n",
    "    print(i, row[i].findAll(\"td\")[2].find(\"span\").text)"
   ]
  },
  {
   "cell_type": "code",
   "execution_count": 16,
   "id": "fbba4818",
   "metadata": {},
   "outputs": [
    {
     "data": {
      "text/plain": [
       "{'Txn Hash': '0x5830f362d58d12323ebad2285016faa45bd25276ab4b76c3bbe80a6f60205a1f',\n",
       " 'Method': 'Transfer',\n",
       " 'Block': '19347624',\n",
       " 'Time': '2024-03-02 12:56:59',\n",
       " 'From': 'Public Tag: beaverbuild<br/>(0x95222290dd7278aa3ddd389cc1e1d165cc4bafe5)',\n",
       " 'Self': False,\n",
       " 'To': '0xd6e4aa932147a3fe5311da1b67d9e73da06f9cef',\n",
       " 'Value': '0.04264153 ETH',\n",
       " 'Txn Fee': '0.00133034',\n",
       " 'GasPrice': '47.24401969',\n",
       " 'Error': ''}"
      ]
     },
     "execution_count": 16,
     "metadata": {},
     "output_type": "execute_result"
    }
   ],
   "source": [
    "def convert_row_to_dict(row):\n",
    "    cells = row.findAll(\"td\")\n",
    "    return {\"Txn Hash\": cells[1].find(\"a\").text,\n",
    "            \"Method\": cells[2].find(\"span\").text, # TODO cant show full text\n",
    "            \"Block\": cells[3].find(\"a\").text,\n",
    "            \"Time\": cells[4].find(\"span\").text,\n",
    "            \"From\": cells[7].find(\"a\")[\"data-bs-title\"] if cells[7].find(\"a\").has_attr('data-bs-title')\\\n",
    "            else cells[7].find(\"span\")[\"data-bs-title\"],\n",
    "            \"Self\": cells[8].text == \"SELF\",\n",
    "            \"To\": cells[9].find(\"a\")[\"data-bs-title\"] if cells[9].find(\"a\").has_attr('data-bs-title')\\\n",
    "            else cells[9].find(\"span\")[\"data-bs-title\"],\n",
    "            \"Value\": cells[10].text,\n",
    "            \"Txn Fee\": cells[11].text,\n",
    "            \"GasPrice\": cells[12].text,\n",
    "            \"Error\": cells[1].findAll(\"span\")[0][\"data-bs-title\"]\\\n",
    "            if len(cells[1].findAll(\"span\")) > 1 else \"\"}\n",
    "convert_row_to_dict(row[1])"
   ]
  },
  {
   "cell_type": "code",
   "execution_count": 17,
   "id": "ef0ad965",
   "metadata": {},
   "outputs": [
    {
     "name": "stdout",
     "output_type": "stream",
     "text": [
      "--------\n",
      "sample row: <tr>\n",
      "<td><button class=\"js-tnx-preview btn btn-sm btn-white fs-70x content-center mx-auto myFnExpandBox\" data-bs-container=\"body\" data-bs-content=\"&lt;i class='fas fa-circle-notch fa-spin text-primary fa-2x'&gt;&lt;/i&gt;\" data-bs-content-id=\"js-tnx-preview\" data-bs-custom-class=\"popover-preview\" da...\n",
      "----------\n",
      "\n",
      "--------\n",
      "sample data: {'Txn Hash': '0xe3afcae50ebd11bcb8dba5637a81b61540e962c107f9b7c5eb8c97ecde6fdfcf', 'Method': 'Transfer*', 'Block': '19347624', 'Time': '2024-03-02 12:56:59', 'From': '0x415c8893d514f9bc5211d36eeda4183226b84aa7', 'Self': False, 'To': '0xff00000000000000000000000000000000081457', 'Value': '0 ETH', 'Txn Fee': '0.09146828', 'GasPrice': '47.25401969', 'Error': ''}\n",
      "----------\n",
      "\n"
     ]
    }
   ],
   "source": [
    "def parse_transaction(the_soup, log=False):\n",
    "    table = the_soup.find(\"tbody\", attrs={\"class\":\"align-middle text-nowrap\"})\n",
    "    rows = [i for i in table.children]\n",
    "    if log:\n",
    "        print(f\"--------\\nsample row: {str(rows[1])[:300]}...\\n----------\\n\")\n",
    "    row_data = [convert_row_to_dict(rows[i]) for i in range(1, len(rows) - 1)]\n",
    "    if log:\n",
    "        print(f\"--------\\nsample data: {row_data[1]}\\n----------\\n\")\n",
    "    return row_data\n",
    "\n",
    "page_data = parse_transaction(the_soup, True)"
   ]
  },
  {
   "cell_type": "code",
   "execution_count": 18,
   "id": "ebe6f6f7",
   "metadata": {
    "scrolled": true
   },
   "outputs": [],
   "source": [
    "def write_in_json_file(data_list):\n",
    "    json_data = json.dumps(data_list, indent=4)\n",
    "\n",
    "    file_path = f\"data_block_{data_list[0]['Block']}_{data_list[-1]['Block']}.json\"\n",
    "    with open(file_path, \"w\") as file:\n",
    "        file.write(json_data)\n",
    "\n",
    "    print(f\"Data has been saved to {file_path}\")"
   ]
  },
  {
   "cell_type": "code",
   "execution_count": 19,
   "id": "c629ab11",
   "metadata": {},
   "outputs": [
    {
     "data": {
      "text/plain": [
       "19347624"
      ]
     },
     "execution_count": 19,
     "metadata": {},
     "output_type": "execute_result"
    }
   ],
   "source": [
    "def find_first_block(the_soup):\n",
    "    return int(parse_transaction(the_soup)[1][\"Block\"])\n",
    "find_first_block(the_soup)"
   ]
  },
  {
   "cell_type": "code",
   "execution_count": 20,
   "id": "9b9f89c9",
   "metadata": {},
   "outputs": [
    {
     "data": {
      "text/plain": [
       "10000"
      ]
     },
     "execution_count": 20,
     "metadata": {},
     "output_type": "execute_result"
    }
   ],
   "source": [
    "def get_page_count(the_soup):\n",
    "    return int(the_soup.find(class_=\"page-link text-nowrap\").text.split()[3])\n",
    "get_page_count(the_soup)"
   ]
  },
  {
   "cell_type": "code",
   "execution_count": 21,
   "id": "7f7214ed",
   "metadata": {},
   "outputs": [],
   "source": [
    "def collect_block_data(driver, block):\n",
    "    block_data = list()\n",
    "    driver.get(f\"https://etherscan.io/txs?block={block}\")\n",
    "    the_soup = BeautifulSoup(driver.page_source, 'html.parser')\n",
    "    page_count = get_page_count(the_soup)\n",
    "    for i in range(1, page_count + 1):\n",
    "        driver.get(f\"https://etherscan.io/txs?block={block}&p={i}\")\n",
    "        the_soup = BeautifulSoup(driver.page_source, 'html.parser')\n",
    "        block_data.extend(parse_transaction(the_soup))\n",
    "    return block_data"
   ]
  },
  {
   "cell_type": "code",
   "execution_count": 22,
   "id": "09bf59ac",
   "metadata": {
    "scrolled": false
   },
   "outputs": [
    {
     "name": "stdout",
     "output_type": "stream",
     "text": [
      "sample block 19347625: {'Txn Hash': '0x9e5e0bb640efeb9e93b51cc5fb25944f11808b29fce206d45d0d9e29774b9c9e', 'Method': 'Transfer', 'Block': '19347625', 'Time': '2024-03-02 12:57:11', 'From': '0x464333b5c19be184573b411b844888e48a9dfb4f', 'Self': False, 'To': '0x764a30e324953e81de15cc0b7dd4f4ca8fafba0a', 'Value': '0.03951573 ETH', 'Txn Fee': '0.00198426', 'GasPrice': '94.48903938', 'Error': ''}\n",
      "\n",
      "sample block 19347624: {'Txn Hash': '0x213b47a13af15a996e75bff14366571659e8b28905c3c0af4ee54bd35f6c332f', 'Method': '0x592982d3', 'Block': '19347624', 'Time': '2024-03-02 12:56:59', 'From': '0xae2fc483527b8ef99eb5d9b44875f005ba1fae13', 'Self': False, 'To': 'Public Tag: MEV Bot: 0x6b7...A80<br/>(0x6b75d8af000000e20b7a7ddf000ba900b4009a80)', 'Value': '0.000000206 ETH', 'Txn Fee': '0.00448246', 'GasPrice': '47.24401969', 'Error': ''}\n",
      "\n",
      "sample block 19347623: {'Txn Hash': '0x87ed4372bf4cc16df5f86a9fb53c03337224103f932828090ba418f1846319c9', 'Method': 'Execute', 'Block': '19347623', 'Time': '2024-03-02 12:56:47', 'From': '0x40ff30dce373c85dc81f648afe80b1dbf5e79c8e', 'Self': False, 'To': 'Public Tag: Uniswap: Universal Router<br/>(0x3fc91a3afd70395cd496c647d5a6cc9d4b2b7fad)', 'Value': '0 ETH', 'Txn Fee': '0.00616776', 'GasPrice': '49.29672719', 'Error': ''}\n",
      "\n",
      "sample block 19347622: {'Txn Hash': '0x248a4fd5dfd3a65062e9f7d153fe576cb315bc6020d1c1ebf50aaeec5bec9a84', 'Method': 'Execute', 'Block': '19347622', 'Time': '2024-03-02 12:56:35', 'From': '0xf48ff79ee870917fea46ce375b25d4cf745e832f', 'Self': False, 'To': 'Public Tag: Uniswap: Universal Router<br/>(0x3fc91a3afd70395cd496c647d5a6cc9d4b2b7fad)', 'Value': '0 ETH', 'Txn Fee': '0.01486014', 'GasPrice': '49.82679478', 'Error': ''}\n",
      "\n",
      "sample block 19347621: {'Txn Hash': '0x0d3d212c36d5052c658281bc7c25270cb4f290044ec1c5d5b5580d1ea395406f', 'Method': '0x7c3d7934', 'Block': '19347621', 'Time': '2024-03-02 12:56:23', 'From': '0xae2fc483527b8ef99eb5d9b44875f005ba1fae13', 'Self': False, 'To': 'Public Tag: MEV Bot: 0x6b7...A80<br/>(0x6b75d8af000000e20b7a7ddf000ba900b4009a80)', 'Value': '0.000000036 ETH', 'Txn Fee': '0.00562266', 'GasPrice': '50.72411181', 'Error': ''}\n",
      "\n",
      "sample block 19347620: {'Txn Hash': '0x7782f29d646d46fe5cbb0eac605bf1fd5f637f0140e4d0fc33b210aeb499b800', 'Method': '0x59034948', 'Block': '19347620', 'Time': '2024-03-02 12:56:11', 'From': '0xae2fc483527b8ef99eb5d9b44875f005ba1fae13', 'Self': False, 'To': 'Public Tag: MEV Bot: 0x6b7...A80<br/>(0x6b75d8af000000e20b7a7ddf000ba900b4009a80)', 'Value': '0.000000099 ETH', 'Txn Fee': '0.00678427', 'GasPrice': '46.6780191', 'Error': ''}\n",
      "\n",
      "sample block 19347619: {'Txn Hash': '0x175057d32401d8fcfaeae2fad175498d9d56cac71baf7c387b74deeb820706e1', 'Method': 'Execute', 'Block': '19347619', 'Time': '2024-03-02 12:55:59', 'From': '0xc3aa362caf2c986adf7359a9be00c5fabb013ce4', 'Self': False, 'To': 'Public Tag: Uniswap: Universal Router<br/>(0x3fc91a3afd70395cd496c647d5a6cc9d4b2b7fad)', 'Value': '0.3 ETH', 'Txn Fee': '0.00780583', 'GasPrice': '50.29146221', 'Error': ''}\n",
      "\n",
      "sample block 19347618: {'Txn Hash': '0xecb2f933641cf26d7335ad692a4df429681a0eebc16abc47c52cbbcfa2bf42ec', 'Method': 'Exact Input Sing...', 'Block': '19347618', 'Time': '2024-03-02 12:55:47', 'From': '0xa2f30711143c45482c9ff35c6f1401f90924188a', 'Self': False, 'To': 'Public Tag: Uniswap V3: Router<br/>(0xe592427a0aece92de3edee1f18e0157c05861564)', 'Value': '0 ETH', 'Txn Fee': '0.01282972', 'GasPrice': '106.2072257', 'Error': ''}\n",
      "\n",
      "sample block 19347617: {'Txn Hash': '0x8c58336c96c54d8cb1ea1a2f7941f940e0de8c612001423083f988597c28a422', 'Method': 'Transfer', 'Block': '19347617', 'Time': '2024-03-02 12:55:35', 'From': '0x501a2b64afa03074472b6cec9293c2395e48e2b2', 'Self': False, 'To': 'Public Tag: Tether: USDT Stablecoin<br/>(0xdac17f958d2ee523a2206206994597c13d831ec7)', 'Value': '0 ETH', 'Txn Fee': '0.00262975', 'GasPrice': '57.03339447', 'Error': ''}\n",
      "\n",
      "sample block 19347616: {'Txn Hash': '0xec91672e00ee58324ffa9e3cfedfb272a658228095164ba8c75b379298f27e73', 'Method': '0x28a00911', 'Block': '19347616', 'Time': '2024-03-02 12:55:23', 'From': '0x1111e3ef0b6ae32e14a55e0e7cd9b8505177c2bf', 'Self': False, 'To': 'Public Tag: MEV Bot: 0x000...1d3<br/>(0x000000d40b595b94918a28b27d1e2c66f43a51d3)', 'Value': '72 wei', 'Txn Fee': '0.00970841', 'GasPrice': '47.62293545', 'Error': ''}\n",
      "\n",
      "Data has been saved to data_block_19347625_19347616.json\n"
     ]
    }
   ],
   "source": [
    "BLOCK_COUNT = 10\n",
    "def scrape_data(driver):\n",
    "    output = list()\n",
    "    driver.get(\"https://etherscan.io/txs\")\n",
    "    the_soup = BeautifulSoup(driver.page_source, 'html.parser')\n",
    "    first_block = find_first_block(the_soup)\n",
    "    for i in range(BLOCK_COUNT):\n",
    "        output.extend(collect_block_data(driver, first_block - i))\n",
    "        print(f\"sample block {first_block - i}: {output[-1]}\\n\")\n",
    "        time.sleep(1)\n",
    "    write_in_json_file(output)\n",
    "scrape_data(driver)"
   ]
  },
  {
   "cell_type": "markdown",
   "id": "6a013b104d142cfc",
   "metadata": {},
   "source": [
    "## Data Analysis\n",
    "\n",
    "Now that we have collected the transaction data from Etherscan, the next step is to perform conduct an initial analysis. This task will involve the following steps:\n",
    "\n",
    "1. **Load the Data**: Import the collected transaction data into a pandas DataFrame.\n",
    "\n",
    "2. **Data Cleaning**: Clean the data by converting data types, removing any irrelevant information, and handling **duplicate** values.\n",
    "\n",
    "3. **Statistical Analysis**: Calculate the mean and standard deviation of the population. Evaluate these statistics to understand the distribution of transaction values. The analysis and plotting will be on **Txn Fee** and **Value**.\n",
    "\n",
    "4. **Visualization**: This phase involves the creation of visual representations to aid in the analysis of transaction values. The visualizations include:\n",
    "    - A histogram for each data column, which provides a visual representation of the data distribution. The selection of bin size is crucial and should be based on the data's characteristics to ensure accurate representation. Provide an explanation on the bin size selection!\n",
    "    - A normal distribution plot fitted alongside the histogram to compare the empirical distribution of the data with the theoretical normal distribution.\n",
    "    - A box plot and a violin plot to identify outliers and provide a comprehensive view of the data's distribution.\n",
    "\n",
    "### Deliverables\n",
    "\n",
    "The project aims to deliver the following deliverables:\n",
    "\n",
    "- A refined pandas DataFrame containing the transaction data, which has undergone thorough cleaning and is ready for analysis.\n",
    "- A simple statistical analysis evaluating the population statistics, offering insights into the distribution of transaction values and fees.\n",
    "- A set of visualizations showcasing the distribution of transaction values for the population. These visualizations include histograms, normal distribution plots, box plots, and violin plots, each serving a specific purpose in the analysis.\n",
    "\n",
    "### Getting Started\n",
    "\n",
    "The project starts with the importing of transaction data into a pandas DataFrame, setting the stage for data manipulation and analysis. Subsequent steps involve the cleaning of the data to ensure its quality and reliability. Followed by the calculation of population statistics. Finally, a series of visualizations are created to visually analyze the distribution of transaction values and fees."
   ]
  },
  {
   "cell_type": "markdown",
   "id": "0866201f",
   "metadata": {},
   "source": [
    "### 1. load the data"
   ]
  },
  {
   "cell_type": "code",
   "execution_count": 2,
   "id": "f481b11a08d876b6",
   "metadata": {
    "ExecuteTime": {
     "end_time": "2024-02-25T14:02:12.152030482Z",
     "start_time": "2024-02-25T14:02:12.101846096Z"
    }
   },
   "outputs": [
    {
     "data": {
      "text/html": [
       "<div>\n",
       "<style scoped>\n",
       "    .dataframe tbody tr th:only-of-type {\n",
       "        vertical-align: middle;\n",
       "    }\n",
       "\n",
       "    .dataframe tbody tr th {\n",
       "        vertical-align: top;\n",
       "    }\n",
       "\n",
       "    .dataframe thead th {\n",
       "        text-align: right;\n",
       "    }\n",
       "</style>\n",
       "<table border=\"1\" class=\"dataframe\">\n",
       "  <thead>\n",
       "    <tr style=\"text-align: right;\">\n",
       "      <th></th>\n",
       "      <th>Txn Hash</th>\n",
       "      <th>Method</th>\n",
       "      <th>Block</th>\n",
       "      <th>Time</th>\n",
       "      <th>From</th>\n",
       "      <th>Self</th>\n",
       "      <th>To</th>\n",
       "      <th>Value</th>\n",
       "      <th>Txn Fee</th>\n",
       "      <th>GasPrice</th>\n",
       "      <th>Error</th>\n",
       "    </tr>\n",
       "  </thead>\n",
       "  <tbody>\n",
       "    <tr>\n",
       "      <th>0</th>\n",
       "      <td>0x2c57b0a5d26e4a777e47c62ad2684d924215f38dea6f...</td>\n",
       "      <td>Transfer</td>\n",
       "      <td>19347625</td>\n",
       "      <td>2024-03-02 12:57:11</td>\n",
       "      <td>0x88c6c46ebf353a52bdbab708c23d0c81daa8134a</td>\n",
       "      <td>False</td>\n",
       "      <td>Public Tag: stakefish: Fee Recipient&lt;br/&gt;(0xff...</td>\n",
       "      <td>0.03527702 ETH</td>\n",
       "      <td>0.000993</td>\n",
       "      <td>47.233196</td>\n",
       "      <td></td>\n",
       "    </tr>\n",
       "    <tr>\n",
       "      <th>1</th>\n",
       "      <td>0x388082202db7419cfff90deb1fcc01867d83988ee2ae...</td>\n",
       "      <td>Transfer</td>\n",
       "      <td>19347625</td>\n",
       "      <td>2024-03-02 12:57:11</td>\n",
       "      <td>0x4648451b5f87ff8f0f7d622bd40574bb97e25980</td>\n",
       "      <td>False</td>\n",
       "      <td>Public Tag: Tether: USDT Stablecoin&lt;br/&gt;(0xdac...</td>\n",
       "      <td>0 ETH</td>\n",
       "      <td>0.002178</td>\n",
       "      <td>47.233197</td>\n",
       "      <td></td>\n",
       "    </tr>\n",
       "    <tr>\n",
       "      <th>2</th>\n",
       "      <td>0xcc23f903978f8c64bb06df0ebf86350e60c6f26ac822...</td>\n",
       "      <td>Transfer</td>\n",
       "      <td>19347625</td>\n",
       "      <td>2024-03-02 12:57:11</td>\n",
       "      <td>0x3672b6ed599c9376092c5a174eb0a0d672859b3d</td>\n",
       "      <td>False</td>\n",
       "      <td>Public Tag: Pepe: PEPE Token&lt;br/&gt;(0x6982508145...</td>\n",
       "      <td>0 ETH</td>\n",
       "      <td>0.002631</td>\n",
       "      <td>47.234196</td>\n",
       "      <td></td>\n",
       "    </tr>\n",
       "    <tr>\n",
       "      <th>3</th>\n",
       "      <td>0x6fa7e98544eead95b49384de9393a048fef71b2b4b91...</td>\n",
       "      <td>0x415565b0</td>\n",
       "      <td>19347625</td>\n",
       "      <td>2024-03-02 12:57:11</td>\n",
       "      <td>0x3e03428bf447e5adc53089a3e2f36d5b60fd08f4</td>\n",
       "      <td>False</td>\n",
       "      <td>Public Tag: 0x: Exchange Proxy&lt;br/&gt;(0xdef1c0de...</td>\n",
       "      <td>0 ETH</td>\n",
       "      <td>0.011291</td>\n",
       "      <td>47.234196</td>\n",
       "      <td></td>\n",
       "    </tr>\n",
       "    <tr>\n",
       "      <th>4</th>\n",
       "      <td>0x2a18618298d94d6d42d6a630535be542290c87087b09...</td>\n",
       "      <td>Transfer</td>\n",
       "      <td>19347625</td>\n",
       "      <td>2024-03-02 12:57:11</td>\n",
       "      <td>0xe49e1f7151ac6f46c23ae2d90f2d6fc1babde5ce</td>\n",
       "      <td>False</td>\n",
       "      <td>0x652441195c870f53366088671c845bd3325ad4e6</td>\n",
       "      <td>1.021732845 ETH</td>\n",
       "      <td>0.000992</td>\n",
       "      <td>47.234196</td>\n",
       "      <td></td>\n",
       "    </tr>\n",
       "    <tr>\n",
       "      <th>...</th>\n",
       "      <td>...</td>\n",
       "      <td>...</td>\n",
       "      <td>...</td>\n",
       "      <td>...</td>\n",
       "      <td>...</td>\n",
       "      <td>...</td>\n",
       "      <td>...</td>\n",
       "      <td>...</td>\n",
       "      <td>...</td>\n",
       "      <td>...</td>\n",
       "      <td>...</td>\n",
       "    </tr>\n",
       "    <tr>\n",
       "      <th>1531</th>\n",
       "      <td>0x4510c5441a8a3470020ce2cf60859ebeeaa0952317f3...</td>\n",
       "      <td>0xa020e25d</td>\n",
       "      <td>19347616</td>\n",
       "      <td>2024-03-02 12:55:23</td>\n",
       "      <td>0xe75ed6f453c602bd696ce27af11565edc9b46b0d</td>\n",
       "      <td>False</td>\n",
       "      <td>0x00000000009e50a7ddb7a7b0e2ee6604fd120e49</td>\n",
       "      <td>0.000000003 ETH</td>\n",
       "      <td>0.004622</td>\n",
       "      <td>47.622935</td>\n",
       "      <td></td>\n",
       "    </tr>\n",
       "    <tr>\n",
       "      <th>1532</th>\n",
       "      <td>0x47c821d9a4c016dcda59e69180e35b08db940cee66b2...</td>\n",
       "      <td>0x28a00911</td>\n",
       "      <td>19347616</td>\n",
       "      <td>2024-03-02 12:55:23</td>\n",
       "      <td>0x111206594f2fb5927f719b4417ab1da3d41b14b1</td>\n",
       "      <td>False</td>\n",
       "      <td>Public Tag: MEV Bot: 0x000...1d3&lt;br/&gt;(0x000000...</td>\n",
       "      <td>23 wei</td>\n",
       "      <td>0.028969</td>\n",
       "      <td>164.606820</td>\n",
       "      <td></td>\n",
       "    </tr>\n",
       "    <tr>\n",
       "      <th>1533</th>\n",
       "      <td>0xf9536f708155998e5d521a4c3cd7822d6f252e77badf...</td>\n",
       "      <td>Execute</td>\n",
       "      <td>19347616</td>\n",
       "      <td>2024-03-02 12:55:23</td>\n",
       "      <td>0x86c4e7bac249275376bc4e500757c1d4196ca77a</td>\n",
       "      <td>False</td>\n",
       "      <td>Public Tag: Uniswap: Universal Router&lt;br/&gt;(0x3...</td>\n",
       "      <td>0 ETH</td>\n",
       "      <td>0.011128</td>\n",
       "      <td>47.623935</td>\n",
       "      <td></td>\n",
       "    </tr>\n",
       "    <tr>\n",
       "      <th>1534</th>\n",
       "      <td>0x96b0faddcc84affecd9130d65934723d3d48acf4dd67...</td>\n",
       "      <td>Swap</td>\n",
       "      <td>19347616</td>\n",
       "      <td>2024-03-02 12:55:23</td>\n",
       "      <td>0x962bd36ff2b9bad3a93cf352cf64018e291ab0bd</td>\n",
       "      <td>False</td>\n",
       "      <td>Public Tag: Metamask: Swap Router&lt;br/&gt;(0x881d4...</td>\n",
       "      <td>0 ETH</td>\n",
       "      <td>0.011774</td>\n",
       "      <td>47.715144</td>\n",
       "      <td></td>\n",
       "    </tr>\n",
       "    <tr>\n",
       "      <th>1535</th>\n",
       "      <td>0xec91672e00ee58324ffa9e3cfedfb272a65822809516...</td>\n",
       "      <td>0x28a00911</td>\n",
       "      <td>19347616</td>\n",
       "      <td>2024-03-02 12:55:23</td>\n",
       "      <td>0x1111e3ef0b6ae32e14a55e0e7cd9b8505177c2bf</td>\n",
       "      <td>False</td>\n",
       "      <td>Public Tag: MEV Bot: 0x000...1d3&lt;br/&gt;(0x000000...</td>\n",
       "      <td>72 wei</td>\n",
       "      <td>0.009708</td>\n",
       "      <td>47.622935</td>\n",
       "      <td></td>\n",
       "    </tr>\n",
       "  </tbody>\n",
       "</table>\n",
       "<p>1536 rows × 11 columns</p>\n",
       "</div>"
      ],
      "text/plain": [
       "                                               Txn Hash      Method     Block  \\\n",
       "0     0x2c57b0a5d26e4a777e47c62ad2684d924215f38dea6f...    Transfer  19347625   \n",
       "1     0x388082202db7419cfff90deb1fcc01867d83988ee2ae...    Transfer  19347625   \n",
       "2     0xcc23f903978f8c64bb06df0ebf86350e60c6f26ac822...    Transfer  19347625   \n",
       "3     0x6fa7e98544eead95b49384de9393a048fef71b2b4b91...  0x415565b0  19347625   \n",
       "4     0x2a18618298d94d6d42d6a630535be542290c87087b09...    Transfer  19347625   \n",
       "...                                                 ...         ...       ...   \n",
       "1531  0x4510c5441a8a3470020ce2cf60859ebeeaa0952317f3...  0xa020e25d  19347616   \n",
       "1532  0x47c821d9a4c016dcda59e69180e35b08db940cee66b2...  0x28a00911  19347616   \n",
       "1533  0xf9536f708155998e5d521a4c3cd7822d6f252e77badf...     Execute  19347616   \n",
       "1534  0x96b0faddcc84affecd9130d65934723d3d48acf4dd67...        Swap  19347616   \n",
       "1535  0xec91672e00ee58324ffa9e3cfedfb272a65822809516...  0x28a00911  19347616   \n",
       "\n",
       "                     Time                                        From   Self  \\\n",
       "0     2024-03-02 12:57:11  0x88c6c46ebf353a52bdbab708c23d0c81daa8134a  False   \n",
       "1     2024-03-02 12:57:11  0x4648451b5f87ff8f0f7d622bd40574bb97e25980  False   \n",
       "2     2024-03-02 12:57:11  0x3672b6ed599c9376092c5a174eb0a0d672859b3d  False   \n",
       "3     2024-03-02 12:57:11  0x3e03428bf447e5adc53089a3e2f36d5b60fd08f4  False   \n",
       "4     2024-03-02 12:57:11  0xe49e1f7151ac6f46c23ae2d90f2d6fc1babde5ce  False   \n",
       "...                   ...                                         ...    ...   \n",
       "1531  2024-03-02 12:55:23  0xe75ed6f453c602bd696ce27af11565edc9b46b0d  False   \n",
       "1532  2024-03-02 12:55:23  0x111206594f2fb5927f719b4417ab1da3d41b14b1  False   \n",
       "1533  2024-03-02 12:55:23  0x86c4e7bac249275376bc4e500757c1d4196ca77a  False   \n",
       "1534  2024-03-02 12:55:23  0x962bd36ff2b9bad3a93cf352cf64018e291ab0bd  False   \n",
       "1535  2024-03-02 12:55:23  0x1111e3ef0b6ae32e14a55e0e7cd9b8505177c2bf  False   \n",
       "\n",
       "                                                     To            Value  \\\n",
       "0     Public Tag: stakefish: Fee Recipient<br/>(0xff...   0.03527702 ETH   \n",
       "1     Public Tag: Tether: USDT Stablecoin<br/>(0xdac...            0 ETH   \n",
       "2     Public Tag: Pepe: PEPE Token<br/>(0x6982508145...            0 ETH   \n",
       "3     Public Tag: 0x: Exchange Proxy<br/>(0xdef1c0de...            0 ETH   \n",
       "4            0x652441195c870f53366088671c845bd3325ad4e6  1.021732845 ETH   \n",
       "...                                                 ...              ...   \n",
       "1531         0x00000000009e50a7ddb7a7b0e2ee6604fd120e49  0.000000003 ETH   \n",
       "1532  Public Tag: MEV Bot: 0x000...1d3<br/>(0x000000...           23 wei   \n",
       "1533  Public Tag: Uniswap: Universal Router<br/>(0x3...            0 ETH   \n",
       "1534  Public Tag: Metamask: Swap Router<br/>(0x881d4...            0 ETH   \n",
       "1535  Public Tag: MEV Bot: 0x000...1d3<br/>(0x000000...           72 wei   \n",
       "\n",
       "       Txn Fee    GasPrice Error  \n",
       "0     0.000993   47.233196        \n",
       "1     0.002178   47.233197        \n",
       "2     0.002631   47.234196        \n",
       "3     0.011291   47.234196        \n",
       "4     0.000992   47.234196        \n",
       "...        ...         ...   ...  \n",
       "1531  0.004622   47.622935        \n",
       "1532  0.028969  164.606820        \n",
       "1533  0.011128   47.623935        \n",
       "1534  0.011774   47.715144        \n",
       "1535  0.009708   47.622935        \n",
       "\n",
       "[1536 rows x 11 columns]"
      ]
     },
     "execution_count": 2,
     "metadata": {},
     "output_type": "execute_result"
    }
   ],
   "source": [
    "\n",
    "import pandas as pd\n",
    "import matplotlib.pyplot as plt\n",
    "import numpy as np\n",
    "import seaborn as sns\n",
    "import plotly\n",
    "import plotly.graph_objs as go\n",
    "from plotly.offline import download_plotlyjs, init_notebook_mode, iplot, plot\n",
    "from scipy.stats import norm\n",
    "\n",
    "\n",
    "df = pd.read_json(\"./data_block_19347625_19347616.json\")\n",
    "df"
   ]
  },
  {
   "cell_type": "code",
   "execution_count": 3,
   "id": "c947c14f",
   "metadata": {},
   "outputs": [
    {
     "data": {
      "text/html": [
       "<div>\n",
       "<style scoped>\n",
       "    .dataframe tbody tr th:only-of-type {\n",
       "        vertical-align: middle;\n",
       "    }\n",
       "\n",
       "    .dataframe tbody tr th {\n",
       "        vertical-align: top;\n",
       "    }\n",
       "\n",
       "    .dataframe thead th {\n",
       "        text-align: right;\n",
       "    }\n",
       "</style>\n",
       "<table border=\"1\" class=\"dataframe\">\n",
       "  <thead>\n",
       "    <tr style=\"text-align: right;\">\n",
       "      <th></th>\n",
       "      <th>Txn Hash</th>\n",
       "      <th>Method</th>\n",
       "      <th>Block</th>\n",
       "      <th>Time</th>\n",
       "      <th>From</th>\n",
       "      <th>Self</th>\n",
       "      <th>To</th>\n",
       "      <th>Value</th>\n",
       "      <th>Txn Fee</th>\n",
       "      <th>GasPrice</th>\n",
       "      <th>Error</th>\n",
       "    </tr>\n",
       "  </thead>\n",
       "  <tbody>\n",
       "    <tr>\n",
       "      <th>0</th>\n",
       "      <td>0x2c57b0a5d26e4a777e47c62ad2684d924215f38dea6f...</td>\n",
       "      <td>Transfer</td>\n",
       "      <td>19347625</td>\n",
       "      <td>2024-03-02 12:57:11</td>\n",
       "      <td>0x88c6c46ebf353a52bdbab708c23d0c81daa8134a</td>\n",
       "      <td>False</td>\n",
       "      <td>Public Tag: stakefish: Fee Recipient&lt;br/&gt;(0xff...</td>\n",
       "      <td>3.527702e-02</td>\n",
       "      <td>0.000993</td>\n",
       "      <td>47.233196</td>\n",
       "      <td></td>\n",
       "    </tr>\n",
       "    <tr>\n",
       "      <th>1</th>\n",
       "      <td>0x388082202db7419cfff90deb1fcc01867d83988ee2ae...</td>\n",
       "      <td>Transfer</td>\n",
       "      <td>19347625</td>\n",
       "      <td>2024-03-02 12:57:11</td>\n",
       "      <td>0x4648451b5f87ff8f0f7d622bd40574bb97e25980</td>\n",
       "      <td>False</td>\n",
       "      <td>Public Tag: Tether: USDT Stablecoin&lt;br/&gt;(0xdac...</td>\n",
       "      <td>0.000000e+00</td>\n",
       "      <td>0.002178</td>\n",
       "      <td>47.233197</td>\n",
       "      <td></td>\n",
       "    </tr>\n",
       "    <tr>\n",
       "      <th>2</th>\n",
       "      <td>0xcc23f903978f8c64bb06df0ebf86350e60c6f26ac822...</td>\n",
       "      <td>Transfer</td>\n",
       "      <td>19347625</td>\n",
       "      <td>2024-03-02 12:57:11</td>\n",
       "      <td>0x3672b6ed599c9376092c5a174eb0a0d672859b3d</td>\n",
       "      <td>False</td>\n",
       "      <td>Public Tag: Pepe: PEPE Token&lt;br/&gt;(0x6982508145...</td>\n",
       "      <td>0.000000e+00</td>\n",
       "      <td>0.002631</td>\n",
       "      <td>47.234196</td>\n",
       "      <td></td>\n",
       "    </tr>\n",
       "    <tr>\n",
       "      <th>3</th>\n",
       "      <td>0x6fa7e98544eead95b49384de9393a048fef71b2b4b91...</td>\n",
       "      <td>0x415565b0</td>\n",
       "      <td>19347625</td>\n",
       "      <td>2024-03-02 12:57:11</td>\n",
       "      <td>0x3e03428bf447e5adc53089a3e2f36d5b60fd08f4</td>\n",
       "      <td>False</td>\n",
       "      <td>Public Tag: 0x: Exchange Proxy&lt;br/&gt;(0xdef1c0de...</td>\n",
       "      <td>0.000000e+00</td>\n",
       "      <td>0.011291</td>\n",
       "      <td>47.234196</td>\n",
       "      <td></td>\n",
       "    </tr>\n",
       "    <tr>\n",
       "      <th>4</th>\n",
       "      <td>0x2a18618298d94d6d42d6a630535be542290c87087b09...</td>\n",
       "      <td>Transfer</td>\n",
       "      <td>19347625</td>\n",
       "      <td>2024-03-02 12:57:11</td>\n",
       "      <td>0xe49e1f7151ac6f46c23ae2d90f2d6fc1babde5ce</td>\n",
       "      <td>False</td>\n",
       "      <td>0x652441195c870f53366088671c845bd3325ad4e6</td>\n",
       "      <td>1.021733e+00</td>\n",
       "      <td>0.000992</td>\n",
       "      <td>47.234196</td>\n",
       "      <td></td>\n",
       "    </tr>\n",
       "    <tr>\n",
       "      <th>...</th>\n",
       "      <td>...</td>\n",
       "      <td>...</td>\n",
       "      <td>...</td>\n",
       "      <td>...</td>\n",
       "      <td>...</td>\n",
       "      <td>...</td>\n",
       "      <td>...</td>\n",
       "      <td>...</td>\n",
       "      <td>...</td>\n",
       "      <td>...</td>\n",
       "      <td>...</td>\n",
       "    </tr>\n",
       "    <tr>\n",
       "      <th>1531</th>\n",
       "      <td>0x4510c5441a8a3470020ce2cf60859ebeeaa0952317f3...</td>\n",
       "      <td>0xa020e25d</td>\n",
       "      <td>19347616</td>\n",
       "      <td>2024-03-02 12:55:23</td>\n",
       "      <td>0xe75ed6f453c602bd696ce27af11565edc9b46b0d</td>\n",
       "      <td>False</td>\n",
       "      <td>0x00000000009e50a7ddb7a7b0e2ee6604fd120e49</td>\n",
       "      <td>3.000000e-09</td>\n",
       "      <td>0.004622</td>\n",
       "      <td>47.622935</td>\n",
       "      <td></td>\n",
       "    </tr>\n",
       "    <tr>\n",
       "      <th>1532</th>\n",
       "      <td>0x47c821d9a4c016dcda59e69180e35b08db940cee66b2...</td>\n",
       "      <td>0x28a00911</td>\n",
       "      <td>19347616</td>\n",
       "      <td>2024-03-02 12:55:23</td>\n",
       "      <td>0x111206594f2fb5927f719b4417ab1da3d41b14b1</td>\n",
       "      <td>False</td>\n",
       "      <td>Public Tag: MEV Bot: 0x000...1d3&lt;br/&gt;(0x000000...</td>\n",
       "      <td>2.300000e-17</td>\n",
       "      <td>0.028969</td>\n",
       "      <td>164.606820</td>\n",
       "      <td></td>\n",
       "    </tr>\n",
       "    <tr>\n",
       "      <th>1533</th>\n",
       "      <td>0xf9536f708155998e5d521a4c3cd7822d6f252e77badf...</td>\n",
       "      <td>Execute</td>\n",
       "      <td>19347616</td>\n",
       "      <td>2024-03-02 12:55:23</td>\n",
       "      <td>0x86c4e7bac249275376bc4e500757c1d4196ca77a</td>\n",
       "      <td>False</td>\n",
       "      <td>Public Tag: Uniswap: Universal Router&lt;br/&gt;(0x3...</td>\n",
       "      <td>0.000000e+00</td>\n",
       "      <td>0.011128</td>\n",
       "      <td>47.623935</td>\n",
       "      <td></td>\n",
       "    </tr>\n",
       "    <tr>\n",
       "      <th>1534</th>\n",
       "      <td>0x96b0faddcc84affecd9130d65934723d3d48acf4dd67...</td>\n",
       "      <td>Swap</td>\n",
       "      <td>19347616</td>\n",
       "      <td>2024-03-02 12:55:23</td>\n",
       "      <td>0x962bd36ff2b9bad3a93cf352cf64018e291ab0bd</td>\n",
       "      <td>False</td>\n",
       "      <td>Public Tag: Metamask: Swap Router&lt;br/&gt;(0x881d4...</td>\n",
       "      <td>0.000000e+00</td>\n",
       "      <td>0.011774</td>\n",
       "      <td>47.715144</td>\n",
       "      <td></td>\n",
       "    </tr>\n",
       "    <tr>\n",
       "      <th>1535</th>\n",
       "      <td>0xec91672e00ee58324ffa9e3cfedfb272a65822809516...</td>\n",
       "      <td>0x28a00911</td>\n",
       "      <td>19347616</td>\n",
       "      <td>2024-03-02 12:55:23</td>\n",
       "      <td>0x1111e3ef0b6ae32e14a55e0e7cd9b8505177c2bf</td>\n",
       "      <td>False</td>\n",
       "      <td>Public Tag: MEV Bot: 0x000...1d3&lt;br/&gt;(0x000000...</td>\n",
       "      <td>7.200000e-17</td>\n",
       "      <td>0.009708</td>\n",
       "      <td>47.622935</td>\n",
       "      <td></td>\n",
       "    </tr>\n",
       "  </tbody>\n",
       "</table>\n",
       "<p>1536 rows × 11 columns</p>\n",
       "</div>"
      ],
      "text/plain": [
       "                                               Txn Hash      Method     Block  \\\n",
       "0     0x2c57b0a5d26e4a777e47c62ad2684d924215f38dea6f...    Transfer  19347625   \n",
       "1     0x388082202db7419cfff90deb1fcc01867d83988ee2ae...    Transfer  19347625   \n",
       "2     0xcc23f903978f8c64bb06df0ebf86350e60c6f26ac822...    Transfer  19347625   \n",
       "3     0x6fa7e98544eead95b49384de9393a048fef71b2b4b91...  0x415565b0  19347625   \n",
       "4     0x2a18618298d94d6d42d6a630535be542290c87087b09...    Transfer  19347625   \n",
       "...                                                 ...         ...       ...   \n",
       "1531  0x4510c5441a8a3470020ce2cf60859ebeeaa0952317f3...  0xa020e25d  19347616   \n",
       "1532  0x47c821d9a4c016dcda59e69180e35b08db940cee66b2...  0x28a00911  19347616   \n",
       "1533  0xf9536f708155998e5d521a4c3cd7822d6f252e77badf...     Execute  19347616   \n",
       "1534  0x96b0faddcc84affecd9130d65934723d3d48acf4dd67...        Swap  19347616   \n",
       "1535  0xec91672e00ee58324ffa9e3cfedfb272a65822809516...  0x28a00911  19347616   \n",
       "\n",
       "                     Time                                        From   Self  \\\n",
       "0     2024-03-02 12:57:11  0x88c6c46ebf353a52bdbab708c23d0c81daa8134a  False   \n",
       "1     2024-03-02 12:57:11  0x4648451b5f87ff8f0f7d622bd40574bb97e25980  False   \n",
       "2     2024-03-02 12:57:11  0x3672b6ed599c9376092c5a174eb0a0d672859b3d  False   \n",
       "3     2024-03-02 12:57:11  0x3e03428bf447e5adc53089a3e2f36d5b60fd08f4  False   \n",
       "4     2024-03-02 12:57:11  0xe49e1f7151ac6f46c23ae2d90f2d6fc1babde5ce  False   \n",
       "...                   ...                                         ...    ...   \n",
       "1531  2024-03-02 12:55:23  0xe75ed6f453c602bd696ce27af11565edc9b46b0d  False   \n",
       "1532  2024-03-02 12:55:23  0x111206594f2fb5927f719b4417ab1da3d41b14b1  False   \n",
       "1533  2024-03-02 12:55:23  0x86c4e7bac249275376bc4e500757c1d4196ca77a  False   \n",
       "1534  2024-03-02 12:55:23  0x962bd36ff2b9bad3a93cf352cf64018e291ab0bd  False   \n",
       "1535  2024-03-02 12:55:23  0x1111e3ef0b6ae32e14a55e0e7cd9b8505177c2bf  False   \n",
       "\n",
       "                                                     To         Value  \\\n",
       "0     Public Tag: stakefish: Fee Recipient<br/>(0xff...  3.527702e-02   \n",
       "1     Public Tag: Tether: USDT Stablecoin<br/>(0xdac...  0.000000e+00   \n",
       "2     Public Tag: Pepe: PEPE Token<br/>(0x6982508145...  0.000000e+00   \n",
       "3     Public Tag: 0x: Exchange Proxy<br/>(0xdef1c0de...  0.000000e+00   \n",
       "4            0x652441195c870f53366088671c845bd3325ad4e6  1.021733e+00   \n",
       "...                                                 ...           ...   \n",
       "1531         0x00000000009e50a7ddb7a7b0e2ee6604fd120e49  3.000000e-09   \n",
       "1532  Public Tag: MEV Bot: 0x000...1d3<br/>(0x000000...  2.300000e-17   \n",
       "1533  Public Tag: Uniswap: Universal Router<br/>(0x3...  0.000000e+00   \n",
       "1534  Public Tag: Metamask: Swap Router<br/>(0x881d4...  0.000000e+00   \n",
       "1535  Public Tag: MEV Bot: 0x000...1d3<br/>(0x000000...  7.200000e-17   \n",
       "\n",
       "       Txn Fee    GasPrice Error  \n",
       "0     0.000993   47.233196        \n",
       "1     0.002178   47.233197        \n",
       "2     0.002631   47.234196        \n",
       "3     0.011291   47.234196        \n",
       "4     0.000992   47.234196        \n",
       "...        ...         ...   ...  \n",
       "1531  0.004622   47.622935        \n",
       "1532  0.028969  164.606820        \n",
       "1533  0.011128   47.623935        \n",
       "1534  0.011774   47.715144        \n",
       "1535  0.009708   47.622935        \n",
       "\n",
       "[1536 rows x 11 columns]"
      ]
     },
     "execution_count": 3,
     "metadata": {},
     "output_type": "execute_result"
    }
   ],
   "source": [
    "df['Value'] = df['Value'].apply(\n",
    "    lambda val: float(val.split()[0]) *\n",
    "     (1 if val.split()[1] == \"ETH\" else (10 ** -18 if val.split()[1] == \"wei\" else Exception(\"??\"))))\n",
    "df"
   ]
  },
  {
   "cell_type": "code",
   "execution_count": 4,
   "id": "7f66562c",
   "metadata": {},
   "outputs": [
    {
     "name": "stdout",
     "output_type": "stream",
     "text": [
      "Value mean: 0.6706329841894533\n",
      "Value std: 13.04475884137241\n",
      "Txn Fee mean: 0.005073156888020834\n",
      "Txn Fee std: 0.00991133724685085\n"
     ]
    }
   ],
   "source": [
    "print(f'Value mean: {np.mean(df[\"Value\"])}')\n",
    "print(f'Value std: {np.std(df[\"Value\"])}')\n",
    "print(f'Txn Fee mean: {np.mean(df[\"Txn Fee\"])}')\n",
    "print(f'Txn Fee std: {np.std(df[\"Txn Fee\"])}')"
   ]
  },
  {
   "cell_type": "code",
   "execution_count": 6,
   "id": "9b6104c1",
   "metadata": {},
   "outputs": [
    {
     "data": {
      "text/plain": [
       "<seaborn.axisgrid.JointGrid at 0x7f82fc162e60>"
      ]
     },
     "execution_count": 6,
     "metadata": {},
     "output_type": "execute_result"
    },
    {
     "data": {
      "image/png": "[encoded data removed]",
      "text/plain": [
       "<Figure size 600x600 with 3 Axes>"
      ]
     },
     "metadata": {},
     "output_type": "display_data"
    }
   ],
   "source": [
    "sns.jointplot(x=\"Value\", y=\"Txn Fee\", data=df, kind=\"kde\")"
   ]
  },
  {
   "cell_type": "code",
   "execution_count": 7,
   "id": "33ae075b",
   "metadata": {},
   "outputs": [
    {
     "data": {
      "text/plain": [
       "<AxesSubplot: xlabel='Txn Fee'>"
      ]
     },
     "execution_count": 7,
     "metadata": {},
     "output_type": "execute_result"
    },
    {
     "data": {
      "image/png": "[encoded data removed]",
      "text/plain": [
       "<Figure size 1500x500 with 2 Axes>"
      ]
     },
     "metadata": {},
     "output_type": "display_data"
    }
   ],
   "source": [
    "fig, axes = plt.subplots(1, 2, figsize=(15, 5))\n",
    "\n",
    "sns.violinplot(x=df[\"Value\"], ax=axes[0])\n",
    "sns.violinplot(x=df[\"Txn Fee\"], ax=axes[1])"
   ]
  },
  {
   "cell_type": "code",
   "execution_count": 8,
   "id": "dfeca9ae",
   "metadata": {},
   "outputs": [
    {
     "data": {
      "application/vnd.plotly.v1+json": {
       "config": {
        "linkText": "Export to plot.ly",
        "plotlyServerURL": "https://plot.ly",
        "showLink": false
       },
       "data": [
        {
         "name": "Transfer",
         "type": "box",
         "y": [
          0.03527702,
          0,
          0,
          1.021732845,
          0,
          0,
          0.569074728,
          0.875499581,
          0,
          0,
          0,
          0,
          0,
          0.009502682,
          0.4,
          6,
          0,
          0,
          7.38,
          0,
          0.20119,
          0.128638219,
          0,
          0.012442426,
          0.24435333,
          1.19,
          0.001,
          0,
          0.205,
          0.014591255,
          0,
          0,
          0.05,
          0.037263698,
          0.15,
          0,
          0.0211,
          0.34392824,
          0,
          0.002,
          0,
          0,
          0.010990562,
          0,
          0.009069524,
          0.01,
          0.03398988,
          0.044007665,
          0.3,
          0,
          0.014,
          0.23565751,
          0.67672236,
          0,
          0,
          0.01712708,
          0,
          0.02882004,
          0.15550276,
          0,
          0,
          0.176942,
          0.04231861,
          0,
          0.0035131,
          0.00292004,
          0.0035131,
          0.0035131,
          0.0035131,
          0.0035131,
          0.01401986,
          0.0035131,
          0.14599201,
          0.02966308,
          0.00846836,
          1.6,
          0.05202485,
          0.0071771,
          0.02800069,
          0.0100644,
          0.00288146,
          0.014,
          0,
          0,
          0.05704892,
          0.0421,
          0,
          0.02761625,
          0,
          0,
          0,
          0,
          0.01310832,
          0.0510891,
          0.047494,
          0.017190627,
          0.144785875,
          0.1405,
          0.764816182,
          0,
          0.9,
          0,
          0.19598577,
          0.008047,
          0,
          0,
          1.506063453,
          0.146528973,
          0.1568084,
          0.2588084,
          0.275682001,
          0.2738084,
          0.299899063,
          0,
          0,
          0.3788084,
          0,
          0,
          1.7488084,
          0.23263683,
          0.071,
          0.60561,
          12.951738945,
          0,
          0,
          0,
          0,
          0,
          1.17528,
          0.19707206,
          0.17696,
          0,
          0,
          0.005,
          0.03951573,
          0.04264153,
          0.002327151,
          0.307636918,
          1,
          0,
          0,
          0.02565404,
          0.00202,
          0.1,
          0,
          0,
          0,
          0.025,
          0,
          0,
          0.01,
          0.0468,
          0.011,
          0.93563583,
          0.33478,
          0,
          0,
          0.001349336,
          0.25,
          0.05855606,
          0,
          0.977,
          0.05951962,
          0,
          0.41986,
          0.0071,
          0.03031695,
          0,
          0,
          0.3941914,
          0.00975181,
          0.31329798,
          0,
          0.003,
          0.43061828,
          0.9961,
          0,
          0,
          0.023198609,
          0.4973,
          0.095153138,
          0,
          0.31162,
          0,
          0.013030875,
          0.098791128,
          0,
          0.27,
          0.21537429,
          0.02914,
          0.07009177,
          0.01,
          0.0684826,
          0.0099632,
          0.0355453,
          0.012793738,
          0.01122,
          0.00067159,
          0,
          0.0108,
          0.17094,
          0,
          0,
          0.029,
          0.0366,
          0,
          0,
          0,
          0.007,
          0,
          0.749801015,
          0,
          7.512728318,
          0.033067829,
          0,
          0.013,
          0.0075,
          0,
          0.057648871,
          0.149204,
          0.0065,
          0.01755746,
          0,
          0.040014258,
          0,
          0.7,
          0.0331,
          0.009,
          0.003472627,
          8.53678569,
          0,
          0,
          0.027523037,
          2.9,
          0,
          0,
          0,
          0,
          3.15476485,
          0,
          0.2,
          0.16,
          0,
          0,
          0,
          0.00343841,
          0.06658465,
          0.218644868,
          0.544545247,
          0.050612108,
          0,
          0,
          0,
          0.002719261,
          0,
          0,
          0.009509238,
          0.036490458,
          0.031770318,
          0,
          0.01585,
          0,
          0,
          0,
          0,
          0,
          0.001797246,
          0,
          0,
          0.128583108,
          0.000005,
          0,
          0.056132088,
          0.05614859,
          0.012,
          0.92000073,
          1.143153384,
          0,
          0.3440527,
          0,
          0,
          0.59529221,
          0,
          0,
          0,
          0,
          0.0171,
          0,
          0,
          4.50631473,
          0,
          0.007,
          1,
          0,
          0,
          0.002390508,
          0.055,
          0.03,
          0.035016,
          0.065,
          0.06803848,
          0.015,
          0,
          0,
          0,
          0,
          0,
          0,
          0.02,
          0.00129629,
          1.0004,
          0.00272443,
          0.021462742,
          0.05911889,
          0.30846,
          0.014548536,
          0.01131392,
          0.66684,
          0.00866404,
          0.007,
          0.200137,
          0.28948853,
          0.06339492,
          0.9164,
          0.0121201,
          0.01296526,
          0.0353,
          0.1405,
          0.08171,
          0.2851206,
          0.18320352,
          0.001113,
          0.04620624,
          0.15,
          0.02490957,
          0.086838064,
          0,
          0,
          0,
          0,
          0,
          0,
          0,
          0,
          0,
          0,
          0,
          0,
          0,
          0,
          0,
          0,
          0.0249475,
          0,
          0,
          0,
          0.048490862,
          0.01464,
          0,
          0,
          0.095,
          0.04998,
          0.0128698,
          0,
          0,
          0,
          0,
          0,
          0.014389533,
          0,
          0,
          0,
          0,
          0.010082021,
          0.0104,
          0.231,
          0.05,
          0.0465,
          0.002925397,
          1.68749,
          500,
          0.017,
          32,
          0.01,
          0.01829759,
          0.021249486,
          0.026816347,
          0.14604531,
          0.00775278,
          0.167093,
          0.01320263,
          0.007302,
          0.013487008,
          0.00284,
          0.085,
          0.172062524,
          0.2971,
          0.6168592,
          0.0186,
          0.1431,
          0.0274,
          0.000002,
          0.24,
          0,
          0,
          0,
          0,
          0,
          0,
          0,
          0,
          0,
          0,
          0,
          0,
          0,
          0,
          0,
          0,
          0.047422275,
          0.038,
          0,
          0,
          0.06319973,
          0,
          0,
          0.0071,
          0.082517247,
          0.292000002,
          0.01538689,
          0.3,
          0.0109823,
          0,
          0,
          0.07151,
          0.01974,
          0.00565,
          2.57805211,
          0.0085,
          0,
          0.01943707,
          0.019623425,
          0.0157025,
          0,
          0,
          0.00361749,
          0.042310168,
          0.00204212,
          0.008274703,
          0,
          0.003484316,
          0.048578748,
          0,
          0.00876,
          0.06,
          1.27,
          1.32926,
          0,
          0.3,
          0,
          0,
          0.090456918,
          0.004032,
          0,
          5.5,
          0.00120404,
          0.023428,
          0.001,
          0.000322264,
          0.0043785,
          0.001930307,
          0.20197434,
          0.020261826,
          0.003276605,
          1.8398861,
          0.024076,
          0.01063234,
          0.00288147,
          0.03133861,
          0.00058418,
          0.15793147,
          0.99894399,
          0.01145562,
          0.008792846,
          0.05,
          0.34782912,
          0.394341811,
          4,
          0.617523373,
          0.001989729,
          0.006578,
          0.011271513,
          0.005958904,
          0,
          0,
          0,
          0,
          0,
          0,
          0,
          0,
          0,
          0,
          0,
          0,
          0,
          0,
          0,
          0,
          0,
          0,
          0,
          0,
          0.57575977,
          0,
          0,
          0.08293,
          0,
          0,
          0,
          0.002908213,
          0.014162918,
          0,
          0,
          1.082513297,
          0,
          0.01167864,
          0.02,
          0.009,
          0.00292,
          0.00292,
          0.206,
          0.002,
          0.002533629,
          0.009758575,
          0.7,
          0,
          0.01584,
          0,
          0.172371984,
          0.040365,
          3,
          1.19738258,
          0,
          0.1617118,
          0,
          0,
          0,
          0.031696027,
          0.04,
          0,
          0,
          0,
          0.01283908,
          0,
          0.71388276,
          0,
          0.019525317,
          0,
          0.058798,
          0.1,
          0.81,
          0,
          0.4571,
          64.977631,
          0,
          0,
          10.5571,
          6.291172798,
          0.01527549,
          0,
          0,
          2.9629,
          0,
          0,
          0.02056538,
          0.0488482,
          0,
          1.79458145,
          3.361159722,
          0,
          0.00600129,
          0.014596183,
          0.0197,
          0,
          0,
          0.00068899,
          0.63675714,
          1.488784925,
          0,
          0.001270567,
          1.242094724,
          0.4962607,
          0.041186907,
          0,
          0.38,
          0,
          0.22,
          0,
          0.00935491,
          0.060273584,
          0.003141259,
          0.015,
          0,
          0.096,
          0.006469,
          0.5,
          0.074887554,
          0,
          0.265,
          0.041,
          0.79059944,
          0,
          0,
          0.00292466,
          0,
          0.7,
          0.514582606,
          0.281908265,
          1,
          0.05412871,
          0.18816034,
          0,
          0,
          0.003,
          0.014981,
          0,
          0,
          0.209014,
          0,
          0.01,
          0,
          0,
          0,
          0.034330458,
          0,
          0,
          0,
          0.0174796,
          0.02263754,
          0,
          0.000291821,
          0.02327906,
          0.0971,
          0,
          0,
          0.0107863,
          0,
          0,
          0,
          0.30016536,
          0,
          0,
          0,
          0.0117743,
          0.0135,
          0,
          0,
          0,
          0.0435,
          0.059947,
          0,
          2.400083,
          0,
          0.004377692,
          0.115217453,
          0,
          0,
          0,
          0.0149,
          0.028709257,
          0.02385,
          0,
          0,
          0,
          0.009030806,
          0.011168656,
          0,
          0.19554262,
          0,
          0,
          0.5,
          0.035058269,
          0,
          0.1404,
          0.001,
          0,
          0.002,
          0.14020654,
          0.007137837,
          0.097736523,
          0,
          0.04111,
          0.0455,
          0.0054,
          0.0121,
          0.0104,
          0.02,
          0,
          0.013231961,
          0.036610683,
          0,
          0.0415,
          0,
          0.036735564,
          0.071820726,
          0,
          0,
          1.49,
          0,
          0,
          0,
          0.0112,
          0,
          0.113550357,
          0.0172,
          0.198,
          0.011,
          0.1,
          0.003816,
          0.0168,
          0.003816,
          0,
          0.02762315,
          0,
          0,
          0,
          0,
          0,
          0,
          0,
          0,
          0.03077,
          0,
          0,
          0.079404,
          0.029885313,
          0,
          0.0435,
          0.0135,
          8.81690866,
          0.01,
          0.0135,
          0.00721008,
          0.0435,
          0.0351,
          0,
          0,
          0.00852636,
          0,
          0.020068728,
          0,
          0,
          0,
          0.682414,
          0,
          0.12422362,
          0.0265,
          0.011,
          0.0259,
          0,
          0.0633,
          0,
          0.026983972,
          0.77561977,
          0.09543386,
          0.844166313,
          0,
          0.0631793,
          0,
          0,
          0.007,
          0,
          0.003034956,
          0,
          0,
          0.056806821,
          0,
          0.437065,
          0.1,
          0.8,
          0.4,
          0,
          0.05,
          0,
          0.03,
          0,
          0,
          0.00876,
          0.12,
          0.092025406,
          0.010216801,
          0,
          0.004304269,
          0,
          0,
          0.51343,
          0,
          0,
          0.07,
          0,
          0,
          0,
          0.017516,
          0,
          1.497974512,
          0.014414972,
          0,
          0,
          0,
          0.03,
          0.09767217,
          0.0095,
          0,
          0,
          0,
          0.02714955,
          0,
          0,
          0.2455,
          0,
          0.281,
          0,
          0.003886713,
          0,
          0.37567183,
          0,
          0.038932913,
          0.007,
          0,
          0.086604992,
          0.048310297,
          0.040653259,
          0.056885861,
          0
         ]
        },
        {
         "name": "Approve",
         "type": "box",
         "y": [
          0,
          0,
          0,
          0,
          0,
          0,
          0,
          0,
          0,
          0,
          0,
          0,
          0,
          0,
          0,
          0,
          0,
          0,
          0,
          0,
          0,
          0,
          0,
          0,
          0,
          0,
          0,
          0,
          0,
          0,
          0,
          0,
          0,
          0,
          0,
          0,
          0,
          0,
          0,
          0,
          0,
          0,
          0,
          0,
          0,
          0,
          0,
          0,
          0,
          0,
          0,
          0,
          0,
          0,
          0,
          0,
          0,
          0,
          0,
          0,
          0,
          0,
          0,
          0,
          0,
          0,
          0,
          0,
          0,
          0,
          0,
          0,
          0,
          0,
          0,
          0,
          0,
          0,
          0,
          0,
          0,
          0,
          0,
          0,
          0,
          0,
          0,
          0,
          0,
          0,
          0,
          0,
          0,
          0,
          0,
          0,
          0,
          0,
          0,
          0,
          0,
          0,
          0,
          0,
          0,
          0,
          0,
          0,
          0,
          0,
          0,
          0,
          0,
          0,
          0,
          0,
          0
         ]
        },
        {
         "name": "Execute",
         "type": "box",
         "y": [
          0.1,
          0.15,
          0,
          0,
          0,
          0.146270642,
          0,
          0.045,
          0.06,
          0,
          0,
          0,
          0.125,
          0.2168,
          0,
          0,
          0.14120668,
          0.1,
          0,
          0,
          0,
          0,
          1,
          0,
          0.012,
          0,
          0,
          0,
          0.714494585,
          1,
          0.036858999,
          0.6,
          0,
          0.5,
          0.6,
          0,
          0,
          0.301,
          0,
          1,
          0.16,
          0,
          0,
          0.29,
          0.5,
          0,
          0,
          0,
          0,
          0.15,
          0.18,
          0.06109,
          0,
          5.46,
          0,
          0,
          0,
          0.04,
          0.15,
          0.1,
          1.2,
          2.3,
          1.2,
          0.05,
          0,
          0,
          0,
          0,
          0.02,
          0.011600839,
          0.00573254,
          0,
          0.03315884,
          0,
          1,
          0,
          0,
          0.046858999,
          0.6476611,
          0.22,
          0.3,
          1,
          0,
          0,
          0,
          0,
          1.433176144,
          1,
          0.02749012,
          2.5,
          1,
          0,
          0.31,
          0.36,
          0.2,
          1.16099,
          0,
          0,
          0.08,
          0,
          0,
          0,
          0.154674516,
          0.995,
          0.1,
          0.3,
          0.01,
          0.083,
          0.04,
          0,
          0.146,
          0.1,
          0,
          0,
          0.9,
          0,
          0.1387081,
          0,
          0.072,
          0,
          0.022582493,
          0.0010293,
          0.024922008,
          0.015676367,
          0,
          0,
          0,
          0.1,
          0.12,
          0,
          0.04,
          0,
          0,
          0.03,
          0,
          0.175,
          0,
          0,
          0,
          0,
          0.3,
          0.8,
          0,
          3,
          0,
          0,
          0.08,
          0.564900128,
          1.43,
          2,
          0.08,
          0,
          0,
          0
         ]
        },
        {
         "name": "Swap",
         "type": "box",
         "y": [
          1,
          0,
          0.135,
          0.12,
          0,
          0,
          9,
          0,
          0.277,
          0,
          0.5,
          0,
          0,
          0.16,
          0,
          0,
          0,
          0.55,
          0,
          0.2,
          0.6,
          0.155,
          0,
          0,
          0,
          0.2,
          1.13,
          0,
          0,
          0,
          0,
          0.2,
          0.1,
          0.015,
          0,
          0.3,
          0
         ]
        }
       ],
       "layout": {
        "template": {
         "data": {
          "bar": [
           {
            "error_x": {
             "color": "#2a3f5f"
            },
            "error_y": {
             "color": "#2a3f5f"
            },
            "marker": {
             "line": {
              "color": "#E5ECF6",
              "width": 0.5
             },
             "pattern": {
              "fillmode": "overlay",
              "size": 10,
              "solidity": 0.2
             }
            },
            "type": "bar"
           }
          ],
          "barpolar": [
           {
            "marker": {
             "line": {
              "color": "#E5ECF6",
              "width": 0.5
             },
             "pattern": {
              "fillmode": "overlay",
              "size": 10,
              "solidity": 0.2
             }
            },
            "type": "barpolar"
           }
          ],
          "carpet": [
           {
            "aaxis": {
             "endlinecolor": "#2a3f5f",
             "gridcolor": "white",
             "linecolor": "white",
             "minorgridcolor": "white",
             "startlinecolor": "#2a3f5f"
            },
            "baxis": {
             "endlinecolor": "#2a3f5f",
             "gridcolor": "white",
             "linecolor": "white",
             "minorgridcolor": "white",
             "startlinecolor": "#2a3f5f"
            },
            "type": "carpet"
           }
          ],
          "choropleth": [
           {
            "colorbar": {
             "outlinewidth": 0,
             "ticks": ""
            },
            "type": "choropleth"
           }
          ],
          "contour": [
           {
            "colorbar": {
             "outlinewidth": 0,
             "ticks": ""
            },
            "colorscale": [
             [
              0,
              "#0d0887"
             ],
             [
              0.1111111111111111,
              "#46039f"
             ],
             [
              0.2222222222222222,
              "#7201a8"
             ],
             [
              0.3333333333333333,
              "#9c179e"
             ],
             [
              0.4444444444444444,
              "#bd3786"
             ],
             [
              0.5555555555555556,
              "#d8576b"
             ],
             [
              0.6666666666666666,
              "#ed7953"
             ],
             [
              0.7777777777777778,
              "#fb9f3a"
             ],
             [
              0.8888888888888888,
              "#fdca26"
             ],
             [
              1,
              "#f0f921"
             ]
            ],
            "type": "contour"
           }
          ],
          "contourcarpet": [
           {
            "colorbar": {
             "outlinewidth": 0,
             "ticks": ""
            },
            "type": "contourcarpet"
           }
          ],
          "heatmap": [
           {
            "colorbar": {
             "outlinewidth": 0,
             "ticks": ""
            },
            "colorscale": [
             [
              0,
              "#0d0887"
             ],
             [
              0.1111111111111111,
              "#46039f"
             ],
             [
              0.2222222222222222,
              "#7201a8"
             ],
             [
              0.3333333333333333,
              "#9c179e"
             ],
             [
              0.4444444444444444,
              "#bd3786"
             ],
             [
              0.5555555555555556,
              "#d8576b"
             ],
             [
              0.6666666666666666,
              "#ed7953"
             ],
             [
              0.7777777777777778,
              "#fb9f3a"
             ],
             [
              0.8888888888888888,
              "#fdca26"
             ],
             [
              1,
              "#f0f921"
             ]
            ],
            "type": "heatmap"
           }
          ],
          "heatmapgl": [
           {
            "colorbar": {
             "outlinewidth": 0,
             "ticks": ""
            },
            "colorscale": [
             [
              0,
              "#0d0887"
             ],
             [
              0.1111111111111111,
              "#46039f"
             ],
             [
              0.2222222222222222,
              "#7201a8"
             ],
             [
              0.3333333333333333,
              "#9c179e"
             ],
             [
              0.4444444444444444,
              "#bd3786"
             ],
             [
              0.5555555555555556,
              "#d8576b"
             ],
             [
              0.6666666666666666,
              "#ed7953"
             ],
             [
              0.7777777777777778,
              "#fb9f3a"
             ],
             [
              0.8888888888888888,
              "#fdca26"
             ],
             [
              1,
              "#f0f921"
             ]
            ],
            "type": "heatmapgl"
           }
          ],
          "histogram": [
           {
            "marker": {
             "pattern": {
              "fillmode": "overlay",
              "size": 10,
              "solidity": 0.2
             }
            },
            "type": "histogram"
           }
          ],
          "histogram2d": [
           {
            "colorbar": {
             "outlinewidth": 0,
             "ticks": ""
            },
            "colorscale": [
             [
              0,
              "#0d0887"
             ],
             [
              0.1111111111111111,
              "#46039f"
             ],
             [
              0.2222222222222222,
              "#7201a8"
             ],
             [
              0.3333333333333333,
              "#9c179e"
             ],
             [
              0.4444444444444444,
              "#bd3786"
             ],
             [
              0.5555555555555556,
              "#d8576b"
             ],
             [
              0.6666666666666666,
              "#ed7953"
             ],
             [
              0.7777777777777778,
              "#fb9f3a"
             ],
             [
              0.8888888888888888,
              "#fdca26"
             ],
             [
              1,
              "#f0f921"
             ]
            ],
            "type": "histogram2d"
           }
          ],
          "histogram2dcontour": [
           {
            "colorbar": {
             "outlinewidth": 0,
             "ticks": ""
            },
            "colorscale": [
             [
              0,
              "#0d0887"
             ],
             [
              0.1111111111111111,
              "#46039f"
             ],
             [
              0.2222222222222222,
              "#7201a8"
             ],
             [
              0.3333333333333333,
              "#9c179e"
             ],
             [
              0.4444444444444444,
              "#bd3786"
             ],
             [
              0.5555555555555556,
              "#d8576b"
             ],
             [
              0.6666666666666666,
              "#ed7953"
             ],
             [
              0.7777777777777778,
              "#fb9f3a"
             ],
             [
              0.8888888888888888,
              "#fdca26"
             ],
             [
              1,
              "#f0f921"
             ]
            ],
            "type": "histogram2dcontour"
           }
          ],
          "mesh3d": [
           {
            "colorbar": {
             "outlinewidth": 0,
             "ticks": ""
            },
            "type": "mesh3d"
           }
          ],
          "parcoords": [
           {
            "line": {
             "colorbar": {
              "outlinewidth": 0,
              "ticks": ""
             }
            },
            "type": "parcoords"
           }
          ],
          "pie": [
           {
            "automargin": true,
            "type": "pie"
           }
          ],
          "scatter": [
           {
            "fillpattern": {
             "fillmode": "overlay",
             "size": 10,
             "solidity": 0.2
            },
            "type": "scatter"
           }
          ],
          "scatter3d": [
           {
            "line": {
             "colorbar": {
              "outlinewidth": 0,
              "ticks": ""
             }
            },
            "marker": {
             "colorbar": {
              "outlinewidth": 0,
              "ticks": ""
             }
            },
            "type": "scatter3d"
           }
          ],
          "scattercarpet": [
           {
            "marker": {
             "colorbar": {
              "outlinewidth": 0,
              "ticks": ""
             }
            },
            "type": "scattercarpet"
           }
          ],
          "scattergeo": [
           {
            "marker": {
             "colorbar": {
              "outlinewidth": 0,
              "ticks": ""
             }
            },
            "type": "scattergeo"
           }
          ],
          "scattergl": [
           {
            "marker": {
             "colorbar": {
              "outlinewidth": 0,
              "ticks": ""
             }
            },
            "type": "scattergl"
           }
          ],
          "scattermapbox": [
           {
            "marker": {
             "colorbar": {
              "outlinewidth": 0,
              "ticks": ""
             }
            },
            "type": "scattermapbox"
           }
          ],
          "scatterpolar": [
           {
            "marker": {
             "colorbar": {
              "outlinewidth": 0,
              "ticks": ""
             }
            },
            "type": "scatterpolar"
           }
          ],
          "scatterpolargl": [
           {
            "marker": {
             "colorbar": {
              "outlinewidth": 0,
              "ticks": ""
             }
            },
            "type": "scatterpolargl"
           }
          ],
          "scatterternary": [
           {
            "marker": {
             "colorbar": {
              "outlinewidth": 0,
              "ticks": ""
             }
            },
            "type": "scatterternary"
           }
          ],
          "surface": [
           {
            "colorbar": {
             "outlinewidth": 0,
             "ticks": ""
            },
            "colorscale": [
             [
              0,
              "#0d0887"
             ],
             [
              0.1111111111111111,
              "#46039f"
             ],
             [
              0.2222222222222222,
              "#7201a8"
             ],
             [
              0.3333333333333333,
              "#9c179e"
             ],
             [
              0.4444444444444444,
              "#bd3786"
             ],
             [
              0.5555555555555556,
              "#d8576b"
             ],
             [
              0.6666666666666666,
              "#ed7953"
             ],
             [
              0.7777777777777778,
              "#fb9f3a"
             ],
             [
              0.8888888888888888,
              "#fdca26"
             ],
             [
              1,
              "#f0f921"
             ]
            ],
            "type": "surface"
           }
          ],
          "table": [
           {
            "cells": {
             "fill": {
              "color": "#EBF0F8"
             },
             "line": {
              "color": "white"
             }
            },
            "header": {
             "fill": {
              "color": "#C8D4E3"
             },
             "line": {
              "color": "white"
             }
            },
            "type": "table"
           }
          ]
         },
         "layout": {
          "annotationdefaults": {
           "arrowcolor": "#2a3f5f",
           "arrowhead": 0,
           "arrowwidth": 1
          },
          "autotypenumbers": "strict",
          "coloraxis": {
           "colorbar": {
            "outlinewidth": 0,
            "ticks": ""
           }
          },
          "colorscale": {
           "diverging": [
            [
             0,
             "#8e0152"
            ],
            [
             0.1,
             "#c51b7d"
            ],
            [
             0.2,
             "#de77ae"
            ],
            [
             0.3,
             "#f1b6da"
            ],
            [
             0.4,
             "#fde0ef"
            ],
            [
             0.5,
             "#f7f7f7"
            ],
            [
             0.6,
             "#e6f5d0"
            ],
            [
             0.7,
             "#b8e186"
            ],
            [
             0.8,
             "#7fbc41"
            ],
            [
             0.9,
             "#4d9221"
            ],
            [
             1,
             "#276419"
            ]
           ],
           "sequential": [
            [
             0,
             "#0d0887"
            ],
            [
             0.1111111111111111,
             "#46039f"
            ],
            [
             0.2222222222222222,
             "#7201a8"
            ],
            [
             0.3333333333333333,
             "#9c179e"
            ],
            [
             0.4444444444444444,
             "#bd3786"
            ],
            [
             0.5555555555555556,
             "#d8576b"
            ],
            [
             0.6666666666666666,
             "#ed7953"
            ],
            [
             0.7777777777777778,
             "#fb9f3a"
            ],
            [
             0.8888888888888888,
             "#fdca26"
            ],
            [
             1,
             "#f0f921"
            ]
           ],
           "sequentialminus": [
            [
             0,
             "#0d0887"
            ],
            [
             0.1111111111111111,
             "#46039f"
            ],
            [
             0.2222222222222222,
             "#7201a8"
            ],
            [
             0.3333333333333333,
             "#9c179e"
            ],
            [
             0.4444444444444444,
             "#bd3786"
            ],
            [
             0.5555555555555556,
             "#d8576b"
            ],
            [
             0.6666666666666666,
             "#ed7953"
            ],
            [
             0.7777777777777778,
             "#fb9f3a"
            ],
            [
             0.8888888888888888,
             "#fdca26"
            ],
            [
             1,
             "#f0f921"
            ]
           ]
          },
          "colorway": [
           "#636efa",
           "#EF553B",
           "#00cc96",
           "#ab63fa",
           "#FFA15A",
           "#19d3f3",
           "#FF6692",
           "#B6E880",
           "#FF97FF",
           "#FECB52"
          ],
          "font": {
           "color": "#2a3f5f"
          },
          "geo": {
           "bgcolor": "white",
           "lakecolor": "white",
           "landcolor": "#E5ECF6",
           "showlakes": true,
           "showland": true,
           "subunitcolor": "white"
          },
          "hoverlabel": {
           "align": "left"
          },
          "hovermode": "closest",
          "mapbox": {
           "style": "light"
          },
          "paper_bgcolor": "white",
          "plot_bgcolor": "#E5ECF6",
          "polar": {
           "angularaxis": {
            "gridcolor": "white",
            "linecolor": "white",
            "ticks": ""
           },
           "bgcolor": "#E5ECF6",
           "radialaxis": {
            "gridcolor": "white",
            "linecolor": "white",
            "ticks": ""
           }
          },
          "scene": {
           "xaxis": {
            "backgroundcolor": "#E5ECF6",
            "gridcolor": "white",
            "gridwidth": 2,
            "linecolor": "white",
            "showbackground": true,
            "ticks": "",
            "zerolinecolor": "white"
           },
           "yaxis": {
            "backgroundcolor": "#E5ECF6",
            "gridcolor": "white",
            "gridwidth": 2,
            "linecolor": "white",
            "showbackground": true,
            "ticks": "",
            "zerolinecolor": "white"
           },
           "zaxis": {
            "backgroundcolor": "#E5ECF6",
            "gridcolor": "white",
            "gridwidth": 2,
            "linecolor": "white",
            "showbackground": true,
            "ticks": "",
            "zerolinecolor": "white"
           }
          },
          "shapedefaults": {
           "line": {
            "color": "#2a3f5f"
           }
          },
          "ternary": {
           "aaxis": {
            "gridcolor": "white",
            "linecolor": "white",
            "ticks": ""
           },
           "baxis": {
            "gridcolor": "white",
            "linecolor": "white",
            "ticks": ""
           },
           "bgcolor": "#E5ECF6",
           "caxis": {
            "gridcolor": "white",
            "linecolor": "white",
            "ticks": ""
           }
          },
          "title": {
           "x": 0.05
          },
          "xaxis": {
           "automargin": true,
           "gridcolor": "white",
           "linecolor": "white",
           "ticks": "",
           "title": {
            "standoff": 15
           },
           "zerolinecolor": "white",
           "zerolinewidth": 2
          },
          "yaxis": {
           "automargin": true,
           "gridcolor": "white",
           "linecolor": "white",
           "ticks": "",
           "title": {
            "standoff": 15
           },
           "zerolinecolor": "white",
           "zerolinewidth": 2
          }
         }
        }
       }
      }
     },
     "metadata": {},
     "output_type": "display_data"
    }
   ],
   "source": [
    "data = []\n",
    "\n",
    "# Create a box trace for each genre in our dataset\n",
    "for method in df.Method.unique():\n",
    "    if len(df[df.Method == method]) > 30:\n",
    "        data.append(go.Box(y=df[df.Method == method].Value, name=method))\n",
    "\n",
    "# Visualize\n",
    "iplot(data, show_link=False)"
   ]
  },
  {
   "cell_type": "markdown",
   "id": "ff8f1cb9",
   "metadata": {},
   "source": [
    "#### get log value and txn fee"
   ]
  },
  {
   "cell_type": "code",
   "execution_count": 9,
   "id": "c2edfe68",
   "metadata": {},
   "outputs": [
    {
     "data": {
      "text/html": [
       "<div>\n",
       "<style scoped>\n",
       "    .dataframe tbody tr th:only-of-type {\n",
       "        vertical-align: middle;\n",
       "    }\n",
       "\n",
       "    .dataframe tbody tr th {\n",
       "        vertical-align: top;\n",
       "    }\n",
       "\n",
       "    .dataframe thead th {\n",
       "        text-align: right;\n",
       "    }\n",
       "</style>\n",
       "<table border=\"1\" class=\"dataframe\">\n",
       "  <thead>\n",
       "    <tr style=\"text-align: right;\">\n",
       "      <th></th>\n",
       "      <th>Txn Hash</th>\n",
       "      <th>Method</th>\n",
       "      <th>Block</th>\n",
       "      <th>Time</th>\n",
       "      <th>From</th>\n",
       "      <th>Self</th>\n",
       "      <th>To</th>\n",
       "      <th>Value</th>\n",
       "      <th>Txn Fee</th>\n",
       "      <th>GasPrice</th>\n",
       "      <th>Error</th>\n",
       "    </tr>\n",
       "  </thead>\n",
       "  <tbody>\n",
       "    <tr>\n",
       "      <th>0</th>\n",
       "      <td>0x2c57b0a5d26e4a777e47c62ad2684d924215f38dea6f...</td>\n",
       "      <td>Transfer</td>\n",
       "      <td>19347625</td>\n",
       "      <td>2024-03-02 12:57:11</td>\n",
       "      <td>0x88c6c46ebf353a52bdbab708c23d0c81daa8134a</td>\n",
       "      <td>False</td>\n",
       "      <td>Public Tag: stakefish: Fee Recipient&lt;br/&gt;(0xff...</td>\n",
       "      <td>-4.825127</td>\n",
       "      <td>-9.975265</td>\n",
       "      <td>47.233196</td>\n",
       "      <td></td>\n",
       "    </tr>\n",
       "    <tr>\n",
       "      <th>1</th>\n",
       "      <td>0x388082202db7419cfff90deb1fcc01867d83988ee2ae...</td>\n",
       "      <td>Transfer</td>\n",
       "      <td>19347625</td>\n",
       "      <td>2024-03-02 12:57:11</td>\n",
       "      <td>0x4648451b5f87ff8f0f7d622bd40574bb97e25980</td>\n",
       "      <td>False</td>\n",
       "      <td>Public Tag: Tether: USDT Stablecoin&lt;br/&gt;(0xdac...</td>\n",
       "      <td>-83.048202</td>\n",
       "      <td>-8.842489</td>\n",
       "      <td>47.233197</td>\n",
       "      <td></td>\n",
       "    </tr>\n",
       "    <tr>\n",
       "      <th>2</th>\n",
       "      <td>0xcc23f903978f8c64bb06df0ebf86350e60c6f26ac822...</td>\n",
       "      <td>Transfer</td>\n",
       "      <td>19347625</td>\n",
       "      <td>2024-03-02 12:57:11</td>\n",
       "      <td>0x3672b6ed599c9376092c5a174eb0a0d672859b3d</td>\n",
       "      <td>False</td>\n",
       "      <td>Public Tag: Pepe: PEPE Token&lt;br/&gt;(0x6982508145...</td>\n",
       "      <td>-83.048202</td>\n",
       "      <td>-8.570255</td>\n",
       "      <td>47.234196</td>\n",
       "      <td></td>\n",
       "    </tr>\n",
       "    <tr>\n",
       "      <th>3</th>\n",
       "      <td>0x6fa7e98544eead95b49384de9393a048fef71b2b4b91...</td>\n",
       "      <td>0x415565b0</td>\n",
       "      <td>19347625</td>\n",
       "      <td>2024-03-02 12:57:11</td>\n",
       "      <td>0x3e03428bf447e5adc53089a3e2f36d5b60fd08f4</td>\n",
       "      <td>False</td>\n",
       "      <td>Public Tag: 0x: Exchange Proxy&lt;br/&gt;(0xdef1c0de...</td>\n",
       "      <td>-83.048202</td>\n",
       "      <td>-6.468677</td>\n",
       "      <td>47.234196</td>\n",
       "      <td></td>\n",
       "    </tr>\n",
       "    <tr>\n",
       "      <th>4</th>\n",
       "      <td>0x2a18618298d94d6d42d6a630535be542290c87087b09...</td>\n",
       "      <td>Transfer</td>\n",
       "      <td>19347625</td>\n",
       "      <td>2024-03-02 12:57:11</td>\n",
       "      <td>0xe49e1f7151ac6f46c23ae2d90f2d6fc1babde5ce</td>\n",
       "      <td>False</td>\n",
       "      <td>0x652441195c870f53366088671c845bd3325ad4e6</td>\n",
       "      <td>0.031018</td>\n",
       "      <td>-9.977503</td>\n",
       "      <td>47.234196</td>\n",
       "      <td></td>\n",
       "    </tr>\n",
       "    <tr>\n",
       "      <th>...</th>\n",
       "      <td>...</td>\n",
       "      <td>...</td>\n",
       "      <td>...</td>\n",
       "      <td>...</td>\n",
       "      <td>...</td>\n",
       "      <td>...</td>\n",
       "      <td>...</td>\n",
       "      <td>...</td>\n",
       "      <td>...</td>\n",
       "      <td>...</td>\n",
       "      <td>...</td>\n",
       "    </tr>\n",
       "    <tr>\n",
       "      <th>1531</th>\n",
       "      <td>0x4510c5441a8a3470020ce2cf60859ebeeaa0952317f3...</td>\n",
       "      <td>0xa020e25d</td>\n",
       "      <td>19347616</td>\n",
       "      <td>2024-03-02 12:55:23</td>\n",
       "      <td>0xe75ed6f453c602bd696ce27af11565edc9b46b0d</td>\n",
       "      <td>False</td>\n",
       "      <td>0x00000000009e50a7ddb7a7b0e2ee6604fd120e49</td>\n",
       "      <td>-28.312390</td>\n",
       "      <td>-7.757286</td>\n",
       "      <td>47.622935</td>\n",
       "      <td></td>\n",
       "    </tr>\n",
       "    <tr>\n",
       "      <th>1532</th>\n",
       "      <td>0x47c821d9a4c016dcda59e69180e35b08db940cee66b2...</td>\n",
       "      <td>0x28a00911</td>\n",
       "      <td>19347616</td>\n",
       "      <td>2024-03-02 12:55:23</td>\n",
       "      <td>0x111206594f2fb5927f719b4417ab1da3d41b14b1</td>\n",
       "      <td>False</td>\n",
       "      <td>Public Tag: MEV Bot: 0x000...1d3&lt;br/&gt;(0x000000...</td>\n",
       "      <td>-55.271144</td>\n",
       "      <td>-5.109339</td>\n",
       "      <td>164.606820</td>\n",
       "      <td></td>\n",
       "    </tr>\n",
       "    <tr>\n",
       "      <th>1533</th>\n",
       "      <td>0xf9536f708155998e5d521a4c3cd7822d6f252e77badf...</td>\n",
       "      <td>Execute</td>\n",
       "      <td>19347616</td>\n",
       "      <td>2024-03-02 12:55:23</td>\n",
       "      <td>0x86c4e7bac249275376bc4e500757c1d4196ca77a</td>\n",
       "      <td>False</td>\n",
       "      <td>Public Tag: Uniswap: Universal Router&lt;br/&gt;(0x3...</td>\n",
       "      <td>-83.048202</td>\n",
       "      <td>-6.489619</td>\n",
       "      <td>47.623935</td>\n",
       "      <td></td>\n",
       "    </tr>\n",
       "    <tr>\n",
       "      <th>1534</th>\n",
       "      <td>0x96b0faddcc84affecd9130d65934723d3d48acf4dd67...</td>\n",
       "      <td>Swap</td>\n",
       "      <td>19347616</td>\n",
       "      <td>2024-03-02 12:55:23</td>\n",
       "      <td>0x962bd36ff2b9bad3a93cf352cf64018e291ab0bd</td>\n",
       "      <td>False</td>\n",
       "      <td>Public Tag: Metamask: Swap Router&lt;br/&gt;(0x881d4...</td>\n",
       "      <td>-83.048202</td>\n",
       "      <td>-6.408299</td>\n",
       "      <td>47.715144</td>\n",
       "      <td></td>\n",
       "    </tr>\n",
       "    <tr>\n",
       "      <th>1535</th>\n",
       "      <td>0xec91672e00ee58324ffa9e3cfedfb272a65822809516...</td>\n",
       "      <td>0x28a00911</td>\n",
       "      <td>19347616</td>\n",
       "      <td>2024-03-02 12:55:23</td>\n",
       "      <td>0x1111e3ef0b6ae32e14a55e0e7cd9b8505177c2bf</td>\n",
       "      <td>False</td>\n",
       "      <td>Public Tag: MEV Bot: 0x000...1d3&lt;br/&gt;(0x000000...</td>\n",
       "      <td>-53.624781</td>\n",
       "      <td>-6.686549</td>\n",
       "      <td>47.622935</td>\n",
       "      <td></td>\n",
       "    </tr>\n",
       "  </tbody>\n",
       "</table>\n",
       "<p>1536 rows × 11 columns</p>\n",
       "</div>"
      ],
      "text/plain": [
       "                                               Txn Hash      Method     Block  \\\n",
       "0     0x2c57b0a5d26e4a777e47c62ad2684d924215f38dea6f...    Transfer  19347625   \n",
       "1     0x388082202db7419cfff90deb1fcc01867d83988ee2ae...    Transfer  19347625   \n",
       "2     0xcc23f903978f8c64bb06df0ebf86350e60c6f26ac822...    Transfer  19347625   \n",
       "3     0x6fa7e98544eead95b49384de9393a048fef71b2b4b91...  0x415565b0  19347625   \n",
       "4     0x2a18618298d94d6d42d6a630535be542290c87087b09...    Transfer  19347625   \n",
       "...                                                 ...         ...       ...   \n",
       "1531  0x4510c5441a8a3470020ce2cf60859ebeeaa0952317f3...  0xa020e25d  19347616   \n",
       "1532  0x47c821d9a4c016dcda59e69180e35b08db940cee66b2...  0x28a00911  19347616   \n",
       "1533  0xf9536f708155998e5d521a4c3cd7822d6f252e77badf...     Execute  19347616   \n",
       "1534  0x96b0faddcc84affecd9130d65934723d3d48acf4dd67...        Swap  19347616   \n",
       "1535  0xec91672e00ee58324ffa9e3cfedfb272a65822809516...  0x28a00911  19347616   \n",
       "\n",
       "                     Time                                        From   Self  \\\n",
       "0     2024-03-02 12:57:11  0x88c6c46ebf353a52bdbab708c23d0c81daa8134a  False   \n",
       "1     2024-03-02 12:57:11  0x4648451b5f87ff8f0f7d622bd40574bb97e25980  False   \n",
       "2     2024-03-02 12:57:11  0x3672b6ed599c9376092c5a174eb0a0d672859b3d  False   \n",
       "3     2024-03-02 12:57:11  0x3e03428bf447e5adc53089a3e2f36d5b60fd08f4  False   \n",
       "4     2024-03-02 12:57:11  0xe49e1f7151ac6f46c23ae2d90f2d6fc1babde5ce  False   \n",
       "...                   ...                                         ...    ...   \n",
       "1531  2024-03-02 12:55:23  0xe75ed6f453c602bd696ce27af11565edc9b46b0d  False   \n",
       "1532  2024-03-02 12:55:23  0x111206594f2fb5927f719b4417ab1da3d41b14b1  False   \n",
       "1533  2024-03-02 12:55:23  0x86c4e7bac249275376bc4e500757c1d4196ca77a  False   \n",
       "1534  2024-03-02 12:55:23  0x962bd36ff2b9bad3a93cf352cf64018e291ab0bd  False   \n",
       "1535  2024-03-02 12:55:23  0x1111e3ef0b6ae32e14a55e0e7cd9b8505177c2bf  False   \n",
       "\n",
       "                                                     To      Value   Txn Fee  \\\n",
       "0     Public Tag: stakefish: Fee Recipient<br/>(0xff...  -4.825127 -9.975265   \n",
       "1     Public Tag: Tether: USDT Stablecoin<br/>(0xdac... -83.048202 -8.842489   \n",
       "2     Public Tag: Pepe: PEPE Token<br/>(0x6982508145... -83.048202 -8.570255   \n",
       "3     Public Tag: 0x: Exchange Proxy<br/>(0xdef1c0de... -83.048202 -6.468677   \n",
       "4            0x652441195c870f53366088671c845bd3325ad4e6   0.031018 -9.977503   \n",
       "...                                                 ...        ...       ...   \n",
       "1531         0x00000000009e50a7ddb7a7b0e2ee6604fd120e49 -28.312390 -7.757286   \n",
       "1532  Public Tag: MEV Bot: 0x000...1d3<br/>(0x000000... -55.271144 -5.109339   \n",
       "1533  Public Tag: Uniswap: Universal Router<br/>(0x3... -83.048202 -6.489619   \n",
       "1534  Public Tag: Metamask: Swap Router<br/>(0x881d4... -83.048202 -6.408299   \n",
       "1535  Public Tag: MEV Bot: 0x000...1d3<br/>(0x000000... -53.624781 -6.686549   \n",
       "\n",
       "        GasPrice Error  \n",
       "0      47.233196        \n",
       "1      47.233197        \n",
       "2      47.234196        \n",
       "3      47.234196        \n",
       "4      47.234196        \n",
       "...          ...   ...  \n",
       "1531   47.622935        \n",
       "1532  164.606820        \n",
       "1533   47.623935        \n",
       "1534   47.715144        \n",
       "1535   47.622935        \n",
       "\n",
       "[1536 rows x 11 columns]"
      ]
     },
     "execution_count": 9,
     "metadata": {},
     "output_type": "execute_result"
    }
   ],
   "source": [
    "import math\n",
    "df_log = df.copy(deep=True)\n",
    "df_log['Value'] = df_log['Value'].apply(\n",
    "    lambda val: math.log2(val) if val != 0 else math.log2(10 ** -25))\n",
    "df_log['Txn Fee'] = df_log['Txn Fee'].apply(\n",
    "    lambda val: math.log2(val))\n",
    "df_log"
   ]
  },
  {
   "cell_type": "code",
   "execution_count": 10,
   "id": "1eca4572",
   "metadata": {},
   "outputs": [
    {
     "data": {
      "text/plain": [
       "<seaborn.axisgrid.JointGrid at 0x7f8292d92b00>"
      ]
     },
     "execution_count": 10,
     "metadata": {},
     "output_type": "execute_result"
    },
    {
     "data": {
      "image/png": "[encoded data removed]",
      "text/plain": [
       "<Figure size 600x600 with 3 Axes>"
      ]
     },
     "metadata": {},
     "output_type": "display_data"
    },
    {
     "data": {
      "image/png": "[encoded data removed]",
      "text/plain": [
       "<Figure size 600x600 with 3 Axes>"
      ]
     },
     "metadata": {},
     "output_type": "display_data"
    }
   ],
   "source": [
    "sns.jointplot(x=\"Value\", y=\"Txn Fee\", data=df_log, kind=\"scatter\")\n",
    "sns.jointplot(x=\"Value\", y=\"Txn Fee\", data=df_log, kind=\"kde\")"
   ]
  },
  {
   "cell_type": "code",
   "execution_count": 11,
   "id": "01aefaa1",
   "metadata": {},
   "outputs": [
    {
     "data": {
      "text/plain": [
       "<AxesSubplot: xlabel='Txn Fee'>"
      ]
     },
     "execution_count": 11,
     "metadata": {},
     "output_type": "execute_result"
    },
    {
     "data": {
      "image/png": "[encoded data removed]",
      "text/plain": [
       "<Figure size 1500x500 with 2 Axes>"
      ]
     },
     "metadata": {},
     "output_type": "display_data"
    }
   ],
   "source": [
    "fig, axes = plt.subplots(1, 2, figsize=(15, 5))\n",
    "\n",
    "sns.violinplot(x=df_log[\"Value\"], ax=axes[0])\n",
    "sns.violinplot(x=df_log[\"Txn Fee\"], ax=axes[1])"
   ]
  },
  {
   "cell_type": "code",
   "execution_count": 12,
   "id": "6401e6d6",
   "metadata": {},
   "outputs": [
    {
     "data": {
      "application/vnd.plotly.v1+json": {
       "config": {
        "linkText": "Export to plot.ly",
        "plotlyServerURL": "https://plot.ly",
        "showLink": false
       },
       "data": [
        {
         "name": "Transfer",
         "type": "box",
         "y": [
          -4.825127494321579,
          -83.04820237218406,
          -83.04820237218406,
          0.031018020563173595,
          -83.04820237218406,
          -83.04820237218406,
          -0.8133099825379412,
          -0.1918216066789767,
          -83.04820237218406,
          -83.04820237218406,
          -83.04820237218406,
          -83.04820237218406,
          -83.04820237218406,
          -6.717449533111233,
          -1.3219280948873622,
          2.584962500721156,
          -83.04820237218406,
          -83.04820237218406,
          2.883620816285671,
          -83.04820237218406,
          -2.313369496050798,
          -2.9586087572757216,
          -83.04820237218406,
          -6.328588383008978,
          -2.032959329399355,
          0.25096157353321874,
          -9.965784284662087,
          -83.04820237218406,
          -2.286304185156641,
          -6.098752214372957,
          -83.04820237218406,
          -83.04820237218406,
          -4.321928094887363,
          -4.746085337246946,
          -2.736965594166206,
          -83.04820237218406,
          -5.566613190842264,
          -1.539820514250181,
          -83.04820237218406,
          -8.965784284662087,
          -83.04820237218406,
          -83.04820237218406,
          -6.507591029703893,
          -83.04820237218406,
          -6.784757449548856,
          -6.643856189774724,
          -4.878750921267029,
          -4.506101363879314,
          -1.7369655941662063,
          -83.04820237218406,
          -6.158429362604483,
          -2.0852364365889895,
          -0.5633640365775515,
          -83.04820237218406,
          -83.04820237218406,
          -5.867576982813321,
          -83.04820237218406,
          -5.116783851910864,
          -2.6849879080814776,
          -83.04820237218406,
          -83.04820237218406,
          -2.498651559579347,
          -4.56256394840597,
          -83.04820237218406,
          -8.153039641363755,
          -8.41979615274639,
          -8.153039641363755,
          -8.153039641363755,
          -8.153039641363755,
          -8.153039641363755,
          -6.156384246867999,
          -8.153039641363755,
          -2.7760386809108732,
          -5.075187785170737,
          -6.883701683340316,
          0.6780719051126377,
          -4.264655289440604,
          -7.122383262447624,
          -5.158393810914736,
          -6.634595022763993,
          -8.43898429207689,
          -6.158429362604483,
          -83.04820237218406,
          -83.04820237218406,
          -4.131656614836446,
          -4.5700359564830535,
          -83.04820237218406,
          -5.178338759885671,
          -83.04820237218406,
          -83.04820237218406,
          -83.04820237218406,
          -83.04820237218406,
          -6.253373392314066,
          -4.290840668736143,
          -4.396110923004757,
          -5.862234024057408,
          -2.7880072318408335,
          -2.831357964441161,
          -0.38681504666784366,
          -83.04820237218406,
          -0.15200309344504995,
          -83.04820237218406,
          -2.3511791869535705,
          -6.957333251968818,
          -83.04820237218406,
          -83.04820237218406,
          0.5907825544719693,
          -2.770742139654898,
          -2.6729252502700276,
          -1.9500436520481421,
          -1.8589230165697423,
          -1.8687613880561538,
          -1.7374510802077683,
          -83.04820237218406,
          -83.04820237218406,
          -1.4004597722543002,
          -83.04820237218406,
          -83.04820237218406,
          0.8063722357937949,
          -2.1038485791074795,
          -3.816037165157405,
          -0.723539067187071,
          3.6950739070001553,
          -83.04820237218406,
          -83.04820237218406,
          -83.04820237218406,
          -83.04820237218406,
          -83.04820237218406,
          0.2330045069931106,
          -2.3432048428931562,
          -2.4985048042021045,
          -83.04820237218406,
          -83.04820237218406,
          -7.643856189774724,
          -4.661429129508222,
          -4.551596986109809,
          -8.747219459873536,
          -1.7006994504316708,
          0,
          -83.04820237218406,
          -83.04820237218406,
          -5.284670150335933,
          -8.951428991685017,
          -3.321928094887362,
          -83.04820237218406,
          -83.04820237218406,
          -83.04820237218406,
          -5.321928094887363,
          -83.04820237218406,
          -83.04820237218406,
          -6.643856189774724,
          -4.417347659966045,
          -6.50635266602479,
          -0.0959809844010202,
          -1.5787147520728124,
          -83.04820237218406,
          -83.04820237218406,
          -9.533534644177868,
          -2,
          -4.094037705990386,
          -83.04820237218406,
          -0.03356953269370183,
          -4.070490874112813,
          -83.04820237218406,
          -1.2520197455104674,
          -7.137965260044767,
          -5.043731569550901,
          -83.04820237218406,
          -83.04820237218406,
          -1.3430317931703297,
          -6.680114267269189,
          -1.6743926269766,
          -83.04820237218406,
          -8.380821783940931,
          -1.2155185308267669,
          -0.0056375109653629095,
          -83.04820237218406,
          -83.04820237218406,
          -5.429817886532424,
          -1.0078116637466876,
          -3.393604954690163,
          -83.04820237218406,
          -1.6821402652911637,
          -83.04820237218406,
          -6.261922228218848,
          -3.3394747042919297,
          -83.04820237218406,
          -1.8889686876112561,
          -2.21508205439845,
          -5.100855312372299,
          -3.8346111332311303,
          -6.643856189774724,
          -3.8681187138548774,
          -6.649175100334264,
          -4.8141973785928025,
          -6.28841834571401,
          -6.477783513828019,
          -10.540131630897225,
          -83.04820237218406,
          -6.5328248773859805,
          -2.548438067391804,
          -83.04820237218406,
          -83.04820237218406,
          -5.107803289534515,
          -4.772012541265407,
          -83.04820237218406,
          -83.04820237218406,
          -83.04820237218406,
          -7.158429362604483,
          -83.04820237218406,
          -0.41542031629460074,
          -83.04820237218406,
          2.909336931180366,
          -4.918427858299129,
          -83.04820237218406,
          -6.265344566520995,
          -7.058893689053568,
          -83.04820237218406,
          -4.116563835473573,
          -2.7446418816614457,
          -7.265344566520995,
          -5.831772041396602,
          -83.04820237218406,
          -4.643342032757591,
          -83.04820237218406,
          -0.5145731728297583,
          -4.917024972742232,
          -6.795859283219775,
          -8.16975682762755,
          3.0936929618820277,
          -83.04820237218406,
          -83.04820237218406,
          -5.183216518314064,
          1.5360529002402097,
          -83.04820237218406,
          -83.04820237218406,
          -83.04820237218406,
          -83.04820237218406,
          1.657532473549486,
          -83.04820237218406,
          -2.321928094887362,
          -2.643856189774725,
          -83.04820237218406,
          -83.04820237218406,
          -83.04820237218406,
          -8.184042700957372,
          -3.90866656384917,
          -2.1933386087954356,
          -0.8768761654852407,
          -4.304373625765728,
          -83.04820237218406,
          -83.04820237218406,
          -83.04820237218406,
          -8.522569653956124,
          -83.04820237218406,
          -83.04820237218406,
          -6.716454545854504,
          -4.7763369311466,
          -4.9761766592219985,
          -83.04820237218406,
          -5.979373349410042,
          -83.04820237218406,
          -83.04820237218406,
          -83.04820237218406,
          -83.04820237218406,
          -83.04820237218406,
          -9.119996391846461,
          -83.04820237218406,
          -83.04820237218406,
          -2.959226967037271,
          -17.609640474436812,
          -83.04820237218406,
          -4.155030464142819,
          -4.154606395564677,
          -6.380821783940931,
          -0.12029308897101391,
          0.19301899190742686,
          -83.04820237218406,
          -1.5392985293627863,
          -83.04820237218406,
          -83.04820237218406,
          -0.7483300795199972,
          -83.04820237218406,
          -83.04820237218406,
          -83.04820237218406,
          -83.04820237218406,
          -5.869859864663551,
          -83.04820237218406,
          -83.04820237218406,
          2.1719480777885303,
          -83.04820237218406,
          -7.158429362604483,
          0,
          -83.04820237218406,
          -83.04820237218406,
          -8.708467050889881,
          -4.184424571137427,
          -5.058893689053568,
          -4.835841900685127,
          -3.9434164716336326,
          -3.8775052786522766,
          -6.058893689053568,
          -83.04820237218406,
          -83.04820237218406,
          -83.04820237218406,
          -83.04820237218406,
          -83.04820237218406,
          -83.04820237218406,
          -5.643856189774724,
          -9.59139577727352,
          0.0005769626315205146,
          -8.519829861081185,
          -5.542021788559238,
          -4.0802370076812045,
          -1.6968446769653287,
          -6.102982205837419,
          -6.465757314848096,
          -0.5845874487651669,
          -6.850744381089298,
          -7.158429362604483,
          -2.320940187104153,
          -1.7884219074325676,
          -3.9794889516882983,
          -0.12595063624477434,
          -6.366454587588537,
          -6.269205052079503,
          -4.824188006278269,
          -2.831357964441161,
          -3.6133435377494374,
          -1.8103558169436715,
          -2.448480871814091,
          -9.811330691982215,
          -4.435768493779399,
          -2.736965594166206,
          -5.327156072420062,
          -3.525528627441355,
          -83.04820237218406,
          -83.04820237218406,
          -83.04820237218406,
          -83.04820237218406,
          -83.04820237218406,
          -83.04820237218406,
          -83.04820237218406,
          -83.04820237218406,
          -83.04820237218406,
          -83.04820237218406,
          -83.04820237218406,
          -83.04820237218406,
          -83.04820237218406,
          -83.04820237218406,
          -83.04820237218406,
          -83.04820237218406,
          -5.32496094007642,
          -83.04820237218406,
          -83.04820237218406,
          -83.04820237218406,
          -4.366143289678929,
          -6.0939406361527695,
          -83.04820237218406,
          -83.04820237218406,
          -3.395928676331139,
          -4.322505288350108,
          -6.279866555893666,
          -83.04820237218406,
          -83.04820237218406,
          -83.04820237218406,
          -83.04820237218406,
          -83.04820237218406,
          -6.118836418371759,
          -83.04820237218406,
          -83.04820237218406,
          -83.04820237218406,
          -83.04820237218406,
          -6.6320713252995045,
          -6.587272661408357,
          -2.1140352432460294,
          -4.321928094887363,
          -4.426625473554056,
          -8.417151861310975,
          0.7548789528341912,
          8.965784284662087,
          -5.878321443411748,
          5,
          -6.643856189774724,
          -5.772202548042005,
          -5.556428245193538,
          -5.22074346722013,
          -2.7755120657061236,
          -7.011070558397974,
          -2.5812767988121297,
          -6.2430308427655286,
          -7.09749261588929,
          -6.212285857969248,
          -8.45989335493213,
          -3.5563933485243853,
          -2.5389951888333777,
          -1.7509794897140352,
          -0.696986867494326,
          -5.748553568441418,
          -2.8049044228227817,
          -5.189680296588922,
          -18.931568569324174,
          -2.0588936890535687,
          -83.04820237218406,
          -83.04820237218406,
          -83.04820237218406,
          -83.04820237218406,
          -83.04820237218406,
          -83.04820237218406,
          -83.04820237218406,
          -83.04820237218406,
          -83.04820237218406,
          -83.04820237218406,
          -83.04820237218406,
          -83.04820237218406,
          -83.04820237218406,
          -83.04820237218406,
          -83.04820237218406,
          -83.04820237218406,
          -4.398291314544649,
          -4.717856771218502,
          -83.04820237218406,
          -83.04820237218406,
          -3.9839377947978702,
          -83.04820237218406,
          -83.04820237218406,
          -7.137965260044767,
          -3.5991604999815054,
          -1.775959715900597,
          -6.022154526333489,
          -1.7369655941662063,
          -6.508675963199545,
          -83.04820237218406,
          -83.04820237218406,
          -3.8057111864623647,
          -5.662734199980414,
          -7.467533417134262,
          1.366281425095523,
          -6.878321443411748,
          -83.04820237218406,
          -5.685045430453261,
          -5.671279323585671,
          -5.992861920436671,
          -83.04820237218406,
          -83.04820237218406,
          -8.11079525601023,
          -4.562851775593445,
          -8.935716639642147,
          -6.917076753783522,
          -83.04820237218406,
          -8.164908813722036,
          -4.363530881305,
          -83.04820237218406,
          -6.834853414835639,
          -4.058893689053568,
          0.34482849699744117,
          0.4106233198314307,
          -83.04820237218406,
          -1.7369655941662063,
          -83.04820237218406,
          -83.04820237218406,
          -3.466625347706159,
          -7.954288645824257,
          -83.04820237218406,
          2.4594316186372973,
          -9.697900963292831,
          -5.415622390214657,
          -9.965784284662087,
          -11.599469345115061,
          -7.8353475731007505,
          -9.016953969730785,
          -2.3077560786738562,
          -5.625091993797741,
          -8.253582520505496,
          0.879616457558733,
          -5.376260467922846,
          -6.555397044939744,
          -8.438979285265976,
          -4.995914998176707,
          -10.74129941267769,
          -2.662629418374514,
          -0.0015243053727156456,
          -6.447800647612304,
          -6.829454083396918,
          -4.321928094887363,
          -1.523549375811106,
          -1.342481411262758,
          2,
          -0.6954343517559796,
          -8.973212334787558,
          -7.248135276488772,
          -6.471175005135092,
          -7.390737279338336,
          -83.04820237218406,
          -83.04820237218406,
          -83.04820237218406,
          -83.04820237218406,
          -83.04820237218406,
          -83.04820237218406,
          -83.04820237218406,
          -83.04820237218406,
          -83.04820237218406,
          -83.04820237218406,
          -83.04820237218406,
          -83.04820237218406,
          -83.04820237218406,
          -83.04820237218406,
          -83.04820237218406,
          -83.04820237218406,
          -83.04820237218406,
          -83.04820237218406,
          -83.04820237218406,
          -83.04820237218406,
          -0.7964611077386127,
          -83.04820237218406,
          -83.04820237218406,
          -3.5919620974404345,
          -83.04820237218406,
          -83.04820237218406,
          -83.04820237218406,
          -8.425651347319919,
          -6.141737653843466,
          -83.04820237218406,
          -83.04820237218406,
          0.11438474633596168,
          -83.04820237218406,
          -6.419983910376512,
          -5.643856189774724,
          -6.795859283219775,
          -8.419815915556795,
          -8.419815915556795,
          -2.279283757478869,
          -8.965784284662087,
          -8.624578998954446,
          -6.679113791641184,
          -0.5145731728297583,
          -83.04820237218406,
          -5.980283854357202,
          -83.04820237218406,
          -2.5364027858243032,
          -4.630751298075238,
          1.584962500721156,
          0.2598841866023716,
          -83.04820237218406,
          -2.6285031397594008,
          -83.04820237218406,
          -83.04820237218406,
          -83.04820237218406,
          -4.979554175486255,
          -4.643856189774724,
          -83.04820237218406,
          -83.04820237218406,
          -83.04820237218406,
          -6.283314361690708,
          -83.04820237218406,
          -0.48624093303463856,
          -83.04820237218406,
          -5.678510218584655,
          -83.04820237218406,
          -4.088089106807543,
          -3.321928094887362,
          -0.3040061868900999,
          -83.04820237218406,
          -1.1294182759454146,
          6.021871240726898,
          -83.04820237218406,
          -83.04820237218406,
          3.4001416805111875,
          2.653328988827731,
          -6.032637530893942,
          -83.04820237218406,
          -83.04820237218406,
          1.5670099351285367,
          -83.04820237218406,
          -83.04820237218406,
          -5.603638460068666,
          -4.355550788254933,
          -83.04820237218406,
          0.8436474037025583,
          1.748959101010159,
          -83.04820237218406,
          -7.38051163784665,
          -6.098265045802076,
          -5.665660560093073,
          -83.04820237218406,
          -83.04820237218406,
          -10.50322933574195,
          -0.6511848632621133,
          0.5741353522763255,
          -83.04820237218406,
          -9.620311830546596,
          0.3127751998338009,
          -1.0108298859909255,
          -4.601670401109404,
          -83.04820237218406,
          -1.3959286763311392,
          -83.04820237218406,
          -2.1844245711374275,
          -83.04820237218406,
          -6.740060510744746,
          -4.052330336608458,
          -8.314441385094392,
          -6.058893689053568,
          -83.04820237218406,
          -3.380821783940931,
          -7.272241571910069,
          -1,
          -3.739130221083815,
          -83.04820237218406,
          -1.9159357352115254,
          -4.608232280044003,
          -0.33898116162397807,
          -83.04820237218406,
          -83.04820237218406,
          -8.417515367598439,
          -83.04820237218406,
          -0.5145731728297583,
          -0.9585254031900295,
          -1.8267023193567542,
          0,
          -4.207462183742846,
          -2.409965522692121,
          -83.04820237218406,
          -83.04820237218406,
          -8.380821783940931,
          -6.060722261112307,
          -83.04820237218406,
          -83.04820237218406,
          -2.258328515958603,
          -83.04820237218406,
          -6.643856189774724,
          -83.04820237218406,
          -83.04820237218406,
          -83.04820237218406,
          -4.8643670854675785,
          -83.04820237218406,
          -83.04820237218406,
          -83.04820237218406,
          -5.838184018930446,
          -5.465138999388872,
          -83.04820237218406,
          -11.74262867345015,
          -5.424823385854909,
          -3.364384894130257,
          -83.04820237218406,
          -83.04820237218406,
          -6.534656124493074,
          -83.04820237218406,
          -83.04820237218406,
          -83.04820237218406,
          -1.7361705997400096,
          -83.04820237218406,
          -83.04820237218406,
          -83.04820237218406,
          -6.408214897796341,
          -6.210896782498619,
          -83.04820237218406,
          -83.04820237218406,
          -83.04820237218406,
          -4.522840788813359,
          -4.060168632856137,
          -83.04820237218406,
          1.2630842981745745,
          -83.04820237218406,
          -7.835613829847141,
          -3.1175688238590196,
          -83.04820237218406,
          -83.04820237218406,
          -83.04820237218406,
          -6.0685438590872876,
          -5.122340195916708,
          -5.389866923543938,
          -83.04820237218406,
          -83.04820237218406,
          -83.04820237218406,
          -6.790929530587085,
          -6.484400602771375,
          -83.04820237218406,
          -2.3544450067342533,
          -83.04820237218406,
          -83.04820237218406,
          -1,
          -4.834101424902799,
          -83.04820237218406,
          -2.8323851592448888,
          -9.965784284662087,
          -83.04820237218406,
          -8.965784284662087,
          -2.8343744487805616,
          -7.130297328354543,
          -3.3549584084956754,
          -83.04820237218406,
          -4.604366817872874,
          -4.457989644463391,
          -7.5328248773859805,
          -6.368849142274855,
          -6.587272661408357,
          -5.643856189774724,
          -83.04820237218406,
          -6.239829302358879,
          -4.771591501313322,
          -83.04820237218406,
          -4.5907448533151625,
          -83.04820237218406,
          -4.766678765328435,
          -3.7994559532117824,
          -83.04820237218406,
          -83.04820237218406,
          0.5753123306874368,
          -83.04820237218406,
          -83.04820237218406,
          -83.04820237218406,
          -6.480357457491845,
          -83.04820237218406,
          -3.1385958530317297,
          -5.861447624847352,
          -2.3364276645824775,
          -6.50635266602479,
          -3.321928094887362,
          -8.033723113318663,
          -5.895394956770689,
          -8.033723113318663,
          -83.04820237218406,
          -5.177978343377385,
          -83.04820237218406,
          -83.04820237218406,
          -83.04820237218406,
          -83.04820237218406,
          -83.04820237218406,
          -83.04820237218406,
          -83.04820237218406,
          -83.04820237218406,
          -5.022331746103267,
          -83.04820237218406,
          -83.04820237218406,
          -3.6546445043862303,
          -5.064419537050253,
          -83.04820237218406,
          -4.522840788813359,
          -6.210896782498619,
          3.1402729139865038,
          -6.643856189774724,
          -6.210896782498619,
          -7.115769017572831,
          -4.522840788813359,
          -4.832385159244889,
          -83.04820237218406,
          -83.04820237218406,
          -6.873854314599489,
          -83.04820237218406,
          -5.638907011352589,
          -83.04820237218406,
          -83.04820237218406,
          -83.04820237218406,
          -0.551280850453626,
          -83.04820237218406,
          -3.008988579807268,
          -5.237863830098888,
          -6.50635266602479,
          -5.270904091862896,
          -83.04820237218406,
          -3.9816506901211084,
          -83.04820237218406,
          -5.211753463322135,
          -0.36657851769658745,
          -3.3893549635112987,
          -0.24440083611715496,
          -83.04820237218406,
          -3.984404237054028,
          -83.04820237218406,
          -83.04820237218406,
          -7.158429362604483,
          -83.04820237218406,
          -8.364108683845691,
          -83.04820237218406,
          -83.04820237218406,
          -4.137792020043874,
          -83.04820237218406,
          -1.1940802426117798,
          -3.321928094887362,
          -0.3219280948873623,
          -1.3219280948873622,
          -83.04820237218406,
          -4.321928094887363,
          -83.04820237218406,
          -5.058893689053568,
          -83.04820237218406,
          -83.04820237218406,
          -6.834853414835639,
          -3.0588936890535687,
          -3.4418239802330923,
          -6.6129126475005675,
          -83.04820237218406,
          -7.8600160411451405,
          -83.04820237218406,
          -83.04820237218406,
          -0.9617604990388148,
          -83.04820237218406,
          -83.04820237218406,
          -3.8365012677171206,
          -83.04820237218406,
          -83.04820237218406,
          -83.04820237218406,
          -5.835182834871523,
          -83.04820237218406,
          0.5830130765843592,
          -6.1162881552659,
          -83.04820237218406,
          -83.04820237218406,
          -83.04820237218406,
          -5.058893689053568,
          -3.355908640093844,
          -6.717856771218502,
          -83.04820237218406,
          -83.04820237218406,
          -83.04820237218406,
          -5.202927904015757,
          -83.04820237218406,
          -83.04820237218406,
          -2.026205070347394,
          -83.04820237218406,
          -1.8313579644411608,
          -83.04820237218406,
          -8.007233703551348,
          -83.04820237218406,
          -1.4124551562912273,
          -83.04820237218406,
          -4.6828658971463,
          -7.158429362604483,
          -83.04820237218406,
          -3.5294060040135244,
          -4.3715254676379365,
          -4.620485178072853,
          -4.135786075027946,
          -83.04820237218406
         ]
        },
        {
         "name": "Approve",
         "type": "box",
         "y": [
          -83.04820237218406,
          -83.04820237218406,
          -83.04820237218406,
          -83.04820237218406,
          -83.04820237218406,
          -83.04820237218406,
          -83.04820237218406,
          -83.04820237218406,
          -83.04820237218406,
          -83.04820237218406,
          -83.04820237218406,
          -83.04820237218406,
          -83.04820237218406,
          -83.04820237218406,
          -83.04820237218406,
          -83.04820237218406,
          -83.04820237218406,
          -83.04820237218406,
          -83.04820237218406,
          -83.04820237218406,
          -83.04820237218406,
          -83.04820237218406,
          -83.04820237218406,
          -83.04820237218406,
          -83.04820237218406,
          -83.04820237218406,
          -83.04820237218406,
          -83.04820237218406,
          -83.04820237218406,
          -83.04820237218406,
          -83.04820237218406,
          -83.04820237218406,
          -83.04820237218406,
          -83.04820237218406,
          -83.04820237218406,
          -83.04820237218406,
          -83.04820237218406,
          -83.04820237218406,
          -83.04820237218406,
          -83.04820237218406,
          -83.04820237218406,
          -83.04820237218406,
          -83.04820237218406,
          -83.04820237218406,
          -83.04820237218406,
          -83.04820237218406,
          -83.04820237218406,
          -83.04820237218406,
          -83.04820237218406,
          -83.04820237218406,
          -83.04820237218406,
          -83.04820237218406,
          -83.04820237218406,
          -83.04820237218406,
          -83.04820237218406,
          -83.04820237218406,
          -83.04820237218406,
          -83.04820237218406,
          -83.04820237218406,
          -83.04820237218406,
          -83.04820237218406,
          -83.04820237218406,
          -83.04820237218406,
          -83.04820237218406,
          -83.04820237218406,
          -83.04820237218406,
          -83.04820237218406,
          -83.04820237218406,
          -83.04820237218406,
          -83.04820237218406,
          -83.04820237218406,
          -83.04820237218406,
          -83.04820237218406,
          -83.04820237218406,
          -83.04820237218406,
          -83.04820237218406,
          -83.04820237218406,
          -83.04820237218406,
          -83.04820237218406,
          -83.04820237218406,
          -83.04820237218406,
          -83.04820237218406,
          -83.04820237218406,
          -83.04820237218406,
          -83.04820237218406,
          -83.04820237218406,
          -83.04820237218406,
          -83.04820237218406,
          -83.04820237218406,
          -83.04820237218406,
          -83.04820237218406,
          -83.04820237218406,
          -83.04820237218406,
          -83.04820237218406,
          -83.04820237218406,
          -83.04820237218406,
          -83.04820237218406,
          -83.04820237218406,
          -83.04820237218406,
          -83.04820237218406,
          -83.04820237218406,
          -83.04820237218406,
          -83.04820237218406,
          -83.04820237218406,
          -83.04820237218406,
          -83.04820237218406,
          -83.04820237218406,
          -83.04820237218406,
          -83.04820237218406,
          -83.04820237218406,
          -83.04820237218406,
          -83.04820237218406,
          -83.04820237218406,
          -83.04820237218406,
          -83.04820237218406,
          -83.04820237218406,
          -83.04820237218406
         ]
        },
        {
         "name": "Execute",
         "type": "box",
         "y": [
          -3.321928094887362,
          -2.736965594166206,
          -83.04820237218406,
          -83.04820237218406,
          -83.04820237218406,
          -2.773287859869123,
          -83.04820237218406,
          -4.473931188332412,
          -4.058893689053568,
          -83.04820237218406,
          -83.04820237218406,
          -83.04820237218406,
          -3,
          -2.205563338195578,
          -83.04820237218406,
          -83.04820237218406,
          -2.824119755747687,
          -3.321928094887362,
          -83.04820237218406,
          -83.04820237218406,
          -83.04820237218406,
          -83.04820237218406,
          0,
          -83.04820237218406,
          -6.380821783940931,
          -83.04820237218406,
          -83.04820237218406,
          -83.04820237218406,
          -0.48500501739867063,
          0,
          -4.76183929833256,
          -0.7369655941662062,
          -83.04820237218406,
          -1,
          -0.7369655941662062,
          -83.04820237218406,
          -83.04820237218406,
          -1.7321646079023851,
          -83.04820237218406,
          0,
          -2.643856189774725,
          -83.04820237218406,
          -83.04820237218406,
          -1.7858751946471527,
          -1,
          -83.04820237218406,
          -83.04820237218406,
          -83.04820237218406,
          -83.04820237218406,
          -2.736965594166206,
          -2.473931188332412,
          -4.032919949356566,
          -83.04820237218406,
          2.4489009511451276,
          -83.04820237218406,
          -83.04820237218406,
          -83.04820237218406,
          -4.643856189774724,
          -2.736965594166206,
          -3.321928094887362,
          0.2630344058337938,
          1.2016338611696504,
          0.2630344058337938,
          -4.321928094887363,
          -83.04820237218406,
          -83.04820237218406,
          -83.04820237218406,
          -83.04820237218406,
          -5.643856189774724,
          -6.429627041545326,
          -7.4466097681137065,
          -83.04820237218406,
          -4.914462652045997,
          -83.04820237218406,
          0,
          -83.04820237218406,
          -83.04820237218406,
          -4.415530054036345,
          -0.6266889997519505,
          -2.1844245711374275,
          -1.7369655941662063,
          0,
          -83.04820237218406,
          -83.04820237218406,
          -83.04820237218406,
          -83.04820237218406,
          0.5192159344139115,
          0,
          -5.184942985250994,
          1.3219280948873624,
          0,
          -83.04820237218406,
          -1.6896598793878495,
          -1.4739311883324124,
          -2.321928094887362,
          0.2153555458360885,
          -83.04820237218406,
          -83.04820237218406,
          -3.643856189774725,
          -83.04820237218406,
          -83.04820237218406,
          -83.04820237218406,
          -2.6926925753401587,
          -0.0072315692310758635,
          -3.321928094887362,
          -1.7369655941662063,
          -6.643856189774724,
          -3.590744853315162,
          -4.643856189774724,
          -83.04820237218406,
          -2.77595972578207,
          -3.321928094887362,
          -83.04820237218406,
          -83.04820237218406,
          -0.15200309344504995,
          -83.04820237218406,
          -2.8498760571276374,
          -83.04820237218406,
          -3.795859283219775,
          -83.04820237218406,
          -5.468651428189776,
          -9.924120752932726,
          -5.3264358768327895,
          -5.995264936340346,
          -83.04820237218406,
          -83.04820237218406,
          -83.04820237218406,
          -3.321928094887362,
          -3.0588936890535687,
          -83.04820237218406,
          -4.643856189774724,
          -83.04820237218406,
          -83.04820237218406,
          -5.058893689053568,
          -83.04820237218406,
          -2.5145731728297585,
          -83.04820237218406,
          -83.04820237218406,
          -83.04820237218406,
          -83.04820237218406,
          -1.7369655941662063,
          -0.3219280948873623,
          -83.04820237218406,
          1.584962500721156,
          -83.04820237218406,
          -83.04820237218406,
          -3.643856189774725,
          -0.8239322673155974,
          0.5160151470036647,
          1,
          -3.643856189774725,
          -83.04820237218406,
          -83.04820237218406,
          -83.04820237218406
         ]
        },
        {
         "name": "Swap",
         "type": "box",
         "y": [
          0,
          -83.04820237218406,
          -2.888968687611256,
          -3.0588936890535687,
          -83.04820237218406,
          -83.04820237218406,
          3.169925001442312,
          -83.04820237218406,
          -1.8520421186128986,
          -83.04820237218406,
          -1,
          -83.04820237218406,
          -83.04820237218406,
          -2.643856189774725,
          -83.04820237218406,
          -83.04820237218406,
          -83.04820237218406,
          -0.862496476250065,
          -83.04820237218406,
          -2.321928094887362,
          -0.7369655941662062,
          -2.6896598793878495,
          -83.04820237218406,
          -83.04820237218406,
          -83.04820237218406,
          -2.321928094887362,
          0.17632277264046287,
          -83.04820237218406,
          -83.04820237218406,
          -83.04820237218406,
          -83.04820237218406,
          -2.321928094887362,
          -3.321928094887362,
          -6.058893689053568,
          -83.04820237218406,
          -1.7369655941662063,
          -83.04820237218406
         ]
        }
       ],
       "layout": {
        "template": {
         "data": {
          "bar": [
           {
            "error_x": {
             "color": "#2a3f5f"
            },
            "error_y": {
             "color": "#2a3f5f"
            },
            "marker": {
             "line": {
              "color": "#E5ECF6",
              "width": 0.5
             },
             "pattern": {
              "fillmode": "overlay",
              "size": 10,
              "solidity": 0.2
             }
            },
            "type": "bar"
           }
          ],
          "barpolar": [
           {
            "marker": {
             "line": {
              "color": "#E5ECF6",
              "width": 0.5
             },
             "pattern": {
              "fillmode": "overlay",
              "size": 10,
              "solidity": 0.2
             }
            },
            "type": "barpolar"
           }
          ],
          "carpet": [
           {
            "aaxis": {
             "endlinecolor": "#2a3f5f",
             "gridcolor": "white",
             "linecolor": "white",
             "minorgridcolor": "white",
             "startlinecolor": "#2a3f5f"
            },
            "baxis": {
             "endlinecolor": "#2a3f5f",
             "gridcolor": "white",
             "linecolor": "white",
             "minorgridcolor": "white",
             "startlinecolor": "#2a3f5f"
            },
            "type": "carpet"
           }
          ],
          "choropleth": [
           {
            "colorbar": {
             "outlinewidth": 0,
             "ticks": ""
            },
            "type": "choropleth"
           }
          ],
          "contour": [
           {
            "colorbar": {
             "outlinewidth": 0,
             "ticks": ""
            },
            "colorscale": [
             [
              0,
              "#0d0887"
             ],
             [
              0.1111111111111111,
              "#46039f"
             ],
             [
              0.2222222222222222,
              "#7201a8"
             ],
             [
              0.3333333333333333,
              "#9c179e"
             ],
             [
              0.4444444444444444,
              "#bd3786"
             ],
             [
              0.5555555555555556,
              "#d8576b"
             ],
             [
              0.6666666666666666,
              "#ed7953"
             ],
             [
              0.7777777777777778,
              "#fb9f3a"
             ],
             [
              0.8888888888888888,
              "#fdca26"
             ],
             [
              1,
              "#f0f921"
             ]
            ],
            "type": "contour"
           }
          ],
          "contourcarpet": [
           {
            "colorbar": {
             "outlinewidth": 0,
             "ticks": ""
            },
            "type": "contourcarpet"
           }
          ],
          "heatmap": [
           {
            "colorbar": {
             "outlinewidth": 0,
             "ticks": ""
            },
            "colorscale": [
             [
              0,
              "#0d0887"
             ],
             [
              0.1111111111111111,
              "#46039f"
             ],
             [
              0.2222222222222222,
              "#7201a8"
             ],
             [
              0.3333333333333333,
              "#9c179e"
             ],
             [
              0.4444444444444444,
              "#bd3786"
             ],
             [
              0.5555555555555556,
              "#d8576b"
             ],
             [
              0.6666666666666666,
              "#ed7953"
             ],
             [
              0.7777777777777778,
              "#fb9f3a"
             ],
             [
              0.8888888888888888,
              "#fdca26"
             ],
             [
              1,
              "#f0f921"
             ]
            ],
            "type": "heatmap"
           }
          ],
          "heatmapgl": [
           {
            "colorbar": {
             "outlinewidth": 0,
             "ticks": ""
            },
            "colorscale": [
             [
              0,
              "#0d0887"
             ],
             [
              0.1111111111111111,
              "#46039f"
             ],
             [
              0.2222222222222222,
              "#7201a8"
             ],
             [
              0.3333333333333333,
              "#9c179e"
             ],
             [
              0.4444444444444444,
              "#bd3786"
             ],
             [
              0.5555555555555556,
              "#d8576b"
             ],
             [
              0.6666666666666666,
              "#ed7953"
             ],
             [
              0.7777777777777778,
              "#fb9f3a"
             ],
             [
              0.8888888888888888,
              "#fdca26"
             ],
             [
              1,
              "#f0f921"
             ]
            ],
            "type": "heatmapgl"
           }
          ],
          "histogram": [
           {
            "marker": {
             "pattern": {
              "fillmode": "overlay",
              "size": 10,
              "solidity": 0.2
             }
            },
            "type": "histogram"
           }
          ],
          "histogram2d": [
           {
            "colorbar": {
             "outlinewidth": 0,
             "ticks": ""
            },
            "colorscale": [
             [
              0,
              "#0d0887"
             ],
             [
              0.1111111111111111,
              "#46039f"
             ],
             [
              0.2222222222222222,
              "#7201a8"
             ],
             [
              0.3333333333333333,
              "#9c179e"
             ],
             [
              0.4444444444444444,
              "#bd3786"
             ],
             [
              0.5555555555555556,
              "#d8576b"
             ],
             [
              0.6666666666666666,
              "#ed7953"
             ],
             [
              0.7777777777777778,
              "#fb9f3a"
             ],
             [
              0.8888888888888888,
              "#fdca26"
             ],
             [
              1,
              "#f0f921"
             ]
            ],
            "type": "histogram2d"
           }
          ],
          "histogram2dcontour": [
           {
            "colorbar": {
             "outlinewidth": 0,
             "ticks": ""
            },
            "colorscale": [
             [
              0,
              "#0d0887"
             ],
             [
              0.1111111111111111,
              "#46039f"
             ],
             [
              0.2222222222222222,
              "#7201a8"
             ],
             [
              0.3333333333333333,
              "#9c179e"
             ],
             [
              0.4444444444444444,
              "#bd3786"
             ],
             [
              0.5555555555555556,
              "#d8576b"
             ],
             [
              0.6666666666666666,
              "#ed7953"
             ],
             [
              0.7777777777777778,
              "#fb9f3a"
             ],
             [
              0.8888888888888888,
              "#fdca26"
             ],
             [
              1,
              "#f0f921"
             ]
            ],
            "type": "histogram2dcontour"
           }
          ],
          "mesh3d": [
           {
            "colorbar": {
             "outlinewidth": 0,
             "ticks": ""
            },
            "type": "mesh3d"
           }
          ],
          "parcoords": [
           {
            "line": {
             "colorbar": {
              "outlinewidth": 0,
              "ticks": ""
             }
            },
            "type": "parcoords"
           }
          ],
          "pie": [
           {
            "automargin": true,
            "type": "pie"
           }
          ],
          "scatter": [
           {
            "fillpattern": {
             "fillmode": "overlay",
             "size": 10,
             "solidity": 0.2
            },
            "type": "scatter"
           }
          ],
          "scatter3d": [
           {
            "line": {
             "colorbar": {
              "outlinewidth": 0,
              "ticks": ""
             }
            },
            "marker": {
             "colorbar": {
              "outlinewidth": 0,
              "ticks": ""
             }
            },
            "type": "scatter3d"
           }
          ],
          "scattercarpet": [
           {
            "marker": {
             "colorbar": {
              "outlinewidth": 0,
              "ticks": ""
             }
            },
            "type": "scattercarpet"
           }
          ],
          "scattergeo": [
           {
            "marker": {
             "colorbar": {
              "outlinewidth": 0,
              "ticks": ""
             }
            },
            "type": "scattergeo"
           }
          ],
          "scattergl": [
           {
            "marker": {
             "colorbar": {
              "outlinewidth": 0,
              "ticks": ""
             }
            },
            "type": "scattergl"
           }
          ],
          "scattermapbox": [
           {
            "marker": {
             "colorbar": {
              "outlinewidth": 0,
              "ticks": ""
             }
            },
            "type": "scattermapbox"
           }
          ],
          "scatterpolar": [
           {
            "marker": {
             "colorbar": {
              "outlinewidth": 0,
              "ticks": ""
             }
            },
            "type": "scatterpolar"
           }
          ],
          "scatterpolargl": [
           {
            "marker": {
             "colorbar": {
              "outlinewidth": 0,
              "ticks": ""
             }
            },
            "type": "scatterpolargl"
           }
          ],
          "scatterternary": [
           {
            "marker": {
             "colorbar": {
              "outlinewidth": 0,
              "ticks": ""
             }
            },
            "type": "scatterternary"
           }
          ],
          "surface": [
           {
            "colorbar": {
             "outlinewidth": 0,
             "ticks": ""
            },
            "colorscale": [
             [
              0,
              "#0d0887"
             ],
             [
              0.1111111111111111,
              "#46039f"
             ],
             [
              0.2222222222222222,
              "#7201a8"
             ],
             [
              0.3333333333333333,
              "#9c179e"
             ],
             [
              0.4444444444444444,
              "#bd3786"
             ],
             [
              0.5555555555555556,
              "#d8576b"
             ],
             [
              0.6666666666666666,
              "#ed7953"
             ],
             [
              0.7777777777777778,
              "#fb9f3a"
             ],
             [
              0.8888888888888888,
              "#fdca26"
             ],
             [
              1,
              "#f0f921"
             ]
            ],
            "type": "surface"
           }
          ],
          "table": [
           {
            "cells": {
             "fill": {
              "color": "#EBF0F8"
             },
             "line": {
              "color": "white"
             }
            },
            "header": {
             "fill": {
              "color": "#C8D4E3"
             },
             "line": {
              "color": "white"
             }
            },
            "type": "table"
           }
          ]
         },
         "layout": {
          "annotationdefaults": {
           "arrowcolor": "#2a3f5f",
           "arrowhead": 0,
           "arrowwidth": 1
          },
          "autotypenumbers": "strict",
          "coloraxis": {
           "colorbar": {
            "outlinewidth": 0,
            "ticks": ""
           }
          },
          "colorscale": {
           "diverging": [
            [
             0,
             "#8e0152"
            ],
            [
             0.1,
             "#c51b7d"
            ],
            [
             0.2,
             "#de77ae"
            ],
            [
             0.3,
             "#f1b6da"
            ],
            [
             0.4,
             "#fde0ef"
            ],
            [
             0.5,
             "#f7f7f7"
            ],
            [
             0.6,
             "#e6f5d0"
            ],
            [
             0.7,
             "#b8e186"
            ],
            [
             0.8,
             "#7fbc41"
            ],
            [
             0.9,
             "#4d9221"
            ],
            [
             1,
             "#276419"
            ]
           ],
           "sequential": [
            [
             0,
             "#0d0887"
            ],
            [
             0.1111111111111111,
             "#46039f"
            ],
            [
             0.2222222222222222,
             "#7201a8"
            ],
            [
             0.3333333333333333,
             "#9c179e"
            ],
            [
             0.4444444444444444,
             "#bd3786"
            ],
            [
             0.5555555555555556,
             "#d8576b"
            ],
            [
             0.6666666666666666,
             "#ed7953"
            ],
            [
             0.7777777777777778,
             "#fb9f3a"
            ],
            [
             0.8888888888888888,
             "#fdca26"
            ],
            [
             1,
             "#f0f921"
            ]
           ],
           "sequentialminus": [
            [
             0,
             "#0d0887"
            ],
            [
             0.1111111111111111,
             "#46039f"
            ],
            [
             0.2222222222222222,
             "#7201a8"
            ],
            [
             0.3333333333333333,
             "#9c179e"
            ],
            [
             0.4444444444444444,
             "#bd3786"
            ],
            [
             0.5555555555555556,
             "#d8576b"
            ],
            [
             0.6666666666666666,
             "#ed7953"
            ],
            [
             0.7777777777777778,
             "#fb9f3a"
            ],
            [
             0.8888888888888888,
             "#fdca26"
            ],
            [
             1,
             "#f0f921"
            ]
           ]
          },
          "colorway": [
           "#636efa",
           "#EF553B",
           "#00cc96",
           "#ab63fa",
           "#FFA15A",
           "#19d3f3",
           "#FF6692",
           "#B6E880",
           "#FF97FF",
           "#FECB52"
          ],
          "font": {
           "color": "#2a3f5f"
          },
          "geo": {
           "bgcolor": "white",
           "lakecolor": "white",
           "landcolor": "#E5ECF6",
           "showlakes": true,
           "showland": true,
           "subunitcolor": "white"
          },
          "hoverlabel": {
           "align": "left"
          },
          "hovermode": "closest",
          "mapbox": {
           "style": "light"
          },
          "paper_bgcolor": "white",
          "plot_bgcolor": "#E5ECF6",
          "polar": {
           "angularaxis": {
            "gridcolor": "white",
            "linecolor": "white",
            "ticks": ""
           },
           "bgcolor": "#E5ECF6",
           "radialaxis": {
            "gridcolor": "white",
            "linecolor": "white",
            "ticks": ""
           }
          },
          "scene": {
           "xaxis": {
            "backgroundcolor": "#E5ECF6",
            "gridcolor": "white",
            "gridwidth": 2,
            "linecolor": "white",
            "showbackground": true,
            "ticks": "",
            "zerolinecolor": "white"
           },
           "yaxis": {
            "backgroundcolor": "#E5ECF6",
            "gridcolor": "white",
            "gridwidth": 2,
            "linecolor": "white",
            "showbackground": true,
            "ticks": "",
            "zerolinecolor": "white"
           },
           "zaxis": {
            "backgroundcolor": "#E5ECF6",
            "gridcolor": "white",
            "gridwidth": 2,
            "linecolor": "white",
            "showbackground": true,
            "ticks": "",
            "zerolinecolor": "white"
           }
          },
          "shapedefaults": {
           "line": {
            "color": "#2a3f5f"
           }
          },
          "ternary": {
           "aaxis": {
            "gridcolor": "white",
            "linecolor": "white",
            "ticks": ""
           },
           "baxis": {
            "gridcolor": "white",
            "linecolor": "white",
            "ticks": ""
           },
           "bgcolor": "#E5ECF6",
           "caxis": {
            "gridcolor": "white",
            "linecolor": "white",
            "ticks": ""
           }
          },
          "title": {
           "x": 0.05
          },
          "xaxis": {
           "automargin": true,
           "gridcolor": "white",
           "linecolor": "white",
           "ticks": "",
           "title": {
            "standoff": 15
           },
           "zerolinecolor": "white",
           "zerolinewidth": 2
          },
          "yaxis": {
           "automargin": true,
           "gridcolor": "white",
           "linecolor": "white",
           "ticks": "",
           "title": {
            "standoff": 15
           },
           "zerolinecolor": "white",
           "zerolinewidth": 2
          }
         }
        }
       }
      }
     },
     "metadata": {},
     "output_type": "display_data"
    }
   ],
   "source": [
    "data = []\n",
    "\n",
    "for method in df_log.Method.unique():\n",
    "    if len(df_log[df_log.Method == method]) > 30:\n",
    "        data.append(go.Box(y=df_log[df_log.Method == method].Value, name=method))\n",
    "\n",
    "iplot(data, show_link=False)"
   ]
  },
  {
   "cell_type": "markdown",
   "id": "ad9dd405",
   "metadata": {},
   "source": [
    "#### remove zero from value"
   ]
  },
  {
   "cell_type": "code",
   "execution_count": 13,
   "id": "3875515c",
   "metadata": {},
   "outputs": [
    {
     "data": {
      "text/html": [
       "<div>\n",
       "<style scoped>\n",
       "    .dataframe tbody tr th:only-of-type {\n",
       "        vertical-align: middle;\n",
       "    }\n",
       "\n",
       "    .dataframe tbody tr th {\n",
       "        vertical-align: top;\n",
       "    }\n",
       "\n",
       "    .dataframe thead th {\n",
       "        text-align: right;\n",
       "    }\n",
       "</style>\n",
       "<table border=\"1\" class=\"dataframe\">\n",
       "  <thead>\n",
       "    <tr style=\"text-align: right;\">\n",
       "      <th></th>\n",
       "      <th>Txn Hash</th>\n",
       "      <th>Method</th>\n",
       "      <th>Block</th>\n",
       "      <th>Time</th>\n",
       "      <th>From</th>\n",
       "      <th>Self</th>\n",
       "      <th>To</th>\n",
       "      <th>Value</th>\n",
       "      <th>Txn Fee</th>\n",
       "      <th>GasPrice</th>\n",
       "      <th>Error</th>\n",
       "    </tr>\n",
       "  </thead>\n",
       "  <tbody>\n",
       "    <tr>\n",
       "      <th>0</th>\n",
       "      <td>0x2c57b0a5d26e4a777e47c62ad2684d924215f38dea6f...</td>\n",
       "      <td>Transfer</td>\n",
       "      <td>19347625</td>\n",
       "      <td>2024-03-02 12:57:11</td>\n",
       "      <td>0x88c6c46ebf353a52bdbab708c23d0c81daa8134a</td>\n",
       "      <td>False</td>\n",
       "      <td>Public Tag: stakefish: Fee Recipient&lt;br/&gt;(0xff...</td>\n",
       "      <td>-4.825127</td>\n",
       "      <td>-9.975265</td>\n",
       "      <td>47.233196</td>\n",
       "      <td></td>\n",
       "    </tr>\n",
       "    <tr>\n",
       "      <th>4</th>\n",
       "      <td>0x2a18618298d94d6d42d6a630535be542290c87087b09...</td>\n",
       "      <td>Transfer</td>\n",
       "      <td>19347625</td>\n",
       "      <td>2024-03-02 12:57:11</td>\n",
       "      <td>0xe49e1f7151ac6f46c23ae2d90f2d6fc1babde5ce</td>\n",
       "      <td>False</td>\n",
       "      <td>0x652441195c870f53366088671c845bd3325ad4e6</td>\n",
       "      <td>0.031018</td>\n",
       "      <td>-9.977503</td>\n",
       "      <td>47.234196</td>\n",
       "      <td></td>\n",
       "    </tr>\n",
       "    <tr>\n",
       "      <th>7</th>\n",
       "      <td>0xa52946f13b21990e6494c971219ae1d8fbfecb3b4a31...</td>\n",
       "      <td>Sell Eth For Tok...</td>\n",
       "      <td>19347625</td>\n",
       "      <td>2024-03-02 12:57:11</td>\n",
       "      <td>0xaa29a9015197dd243c970394954e237321814f87</td>\n",
       "      <td>False</td>\n",
       "      <td>Public Tag: 0x: Exchange Proxy&lt;br/&gt;(0xdef1c0de...</td>\n",
       "      <td>-5.717857</td>\n",
       "      <td>-7.305531</td>\n",
       "      <td>47.234196</td>\n",
       "      <td></td>\n",
       "    </tr>\n",
       "    <tr>\n",
       "      <th>8</th>\n",
       "      <td>0x2e64d7781ea24a5c70fdcdf230ec6ff71c3a7f355162...</td>\n",
       "      <td>Sell Eth For Tok...</td>\n",
       "      <td>19347625</td>\n",
       "      <td>2024-03-02 12:57:11</td>\n",
       "      <td>0x0fedcedf5b96244d5e1f5734a7694d3ea0b5658d</td>\n",
       "      <td>False</td>\n",
       "      <td>Public Tag: 0x: Exchange Proxy&lt;br/&gt;(0xdef1c0de...</td>\n",
       "      <td>-5.098712</td>\n",
       "      <td>-7.183982</td>\n",
       "      <td>47.234196</td>\n",
       "      <td></td>\n",
       "    </tr>\n",
       "    <tr>\n",
       "      <th>9</th>\n",
       "      <td>0x7c6640b36454e4863c8ff39052933cc7e3ead0de25a8...</td>\n",
       "      <td>0x415565b0</td>\n",
       "      <td>19347625</td>\n",
       "      <td>2024-03-02 12:57:11</td>\n",
       "      <td>0xf0567ccbc88022824d135da2567f718b556dc4d9</td>\n",
       "      <td>False</td>\n",
       "      <td>Public Tag: 0x: Exchange Proxy&lt;br/&gt;(0xdef1c0de...</td>\n",
       "      <td>-8.302940</td>\n",
       "      <td>-6.391019</td>\n",
       "      <td>47.234196</td>\n",
       "      <td></td>\n",
       "    </tr>\n",
       "    <tr>\n",
       "      <th>...</th>\n",
       "      <td>...</td>\n",
       "      <td>...</td>\n",
       "      <td>...</td>\n",
       "      <td>...</td>\n",
       "      <td>...</td>\n",
       "      <td>...</td>\n",
       "      <td>...</td>\n",
       "      <td>...</td>\n",
       "      <td>...</td>\n",
       "      <td>...</td>\n",
       "      <td>...</td>\n",
       "    </tr>\n",
       "    <tr>\n",
       "      <th>1529</th>\n",
       "      <td>0x49d785267a87a48ff6a5f900f2a0d5d3a51ad6d28511...</td>\n",
       "      <td>0xa02bc318</td>\n",
       "      <td>19347616</td>\n",
       "      <td>2024-03-02 12:55:23</td>\n",
       "      <td>0xe75ed6f453c602bd696ce27af11565edc9b46b0d</td>\n",
       "      <td>False</td>\n",
       "      <td>0x00000000009e50a7ddb7a7b0e2ee6604fd120e49</td>\n",
       "      <td>-27.897353</td>\n",
       "      <td>-5.822527</td>\n",
       "      <td>69.899029</td>\n",
       "      <td></td>\n",
       "    </tr>\n",
       "    <tr>\n",
       "      <th>1530</th>\n",
       "      <td>0xd2650b5eea32247d04f64594836f7e8fd8973249a9e7...</td>\n",
       "      <td>Start Via Rubic</td>\n",
       "      <td>19347616</td>\n",
       "      <td>2024-03-02 12:55:23</td>\n",
       "      <td>0x1e465d54d3c81513c15f1a1e62ab61ba8fd76383</td>\n",
       "      <td>False</td>\n",
       "      <td>0x3335733c454805df6a77f825f266e136fb4a3333</td>\n",
       "      <td>0.000568</td>\n",
       "      <td>-6.574789</td>\n",
       "      <td>48.001238</td>\n",
       "      <td></td>\n",
       "    </tr>\n",
       "    <tr>\n",
       "      <th>1531</th>\n",
       "      <td>0x4510c5441a8a3470020ce2cf60859ebeeaa0952317f3...</td>\n",
       "      <td>0xa020e25d</td>\n",
       "      <td>19347616</td>\n",
       "      <td>2024-03-02 12:55:23</td>\n",
       "      <td>0xe75ed6f453c602bd696ce27af11565edc9b46b0d</td>\n",
       "      <td>False</td>\n",
       "      <td>0x00000000009e50a7ddb7a7b0e2ee6604fd120e49</td>\n",
       "      <td>-28.312390</td>\n",
       "      <td>-7.757286</td>\n",
       "      <td>47.622935</td>\n",
       "      <td></td>\n",
       "    </tr>\n",
       "    <tr>\n",
       "      <th>1532</th>\n",
       "      <td>0x47c821d9a4c016dcda59e69180e35b08db940cee66b2...</td>\n",
       "      <td>0x28a00911</td>\n",
       "      <td>19347616</td>\n",
       "      <td>2024-03-02 12:55:23</td>\n",
       "      <td>0x111206594f2fb5927f719b4417ab1da3d41b14b1</td>\n",
       "      <td>False</td>\n",
       "      <td>Public Tag: MEV Bot: 0x000...1d3&lt;br/&gt;(0x000000...</td>\n",
       "      <td>-55.271144</td>\n",
       "      <td>-5.109339</td>\n",
       "      <td>164.606820</td>\n",
       "      <td></td>\n",
       "    </tr>\n",
       "    <tr>\n",
       "      <th>1535</th>\n",
       "      <td>0xec91672e00ee58324ffa9e3cfedfb272a65822809516...</td>\n",
       "      <td>0x28a00911</td>\n",
       "      <td>19347616</td>\n",
       "      <td>2024-03-02 12:55:23</td>\n",
       "      <td>0x1111e3ef0b6ae32e14a55e0e7cd9b8505177c2bf</td>\n",
       "      <td>False</td>\n",
       "      <td>Public Tag: MEV Bot: 0x000...1d3&lt;br/&gt;(0x000000...</td>\n",
       "      <td>-53.624781</td>\n",
       "      <td>-6.686549</td>\n",
       "      <td>47.622935</td>\n",
       "      <td></td>\n",
       "    </tr>\n",
       "  </tbody>\n",
       "</table>\n",
       "<p>706 rows × 11 columns</p>\n",
       "</div>"
      ],
      "text/plain": [
       "                                               Txn Hash               Method  \\\n",
       "0     0x2c57b0a5d26e4a777e47c62ad2684d924215f38dea6f...             Transfer   \n",
       "4     0x2a18618298d94d6d42d6a630535be542290c87087b09...             Transfer   \n",
       "7     0xa52946f13b21990e6494c971219ae1d8fbfecb3b4a31...  Sell Eth For Tok...   \n",
       "8     0x2e64d7781ea24a5c70fdcdf230ec6ff71c3a7f355162...  Sell Eth For Tok...   \n",
       "9     0x7c6640b36454e4863c8ff39052933cc7e3ead0de25a8...           0x415565b0   \n",
       "...                                                 ...                  ...   \n",
       "1529  0x49d785267a87a48ff6a5f900f2a0d5d3a51ad6d28511...           0xa02bc318   \n",
       "1530  0xd2650b5eea32247d04f64594836f7e8fd8973249a9e7...      Start Via Rubic   \n",
       "1531  0x4510c5441a8a3470020ce2cf60859ebeeaa0952317f3...           0xa020e25d   \n",
       "1532  0x47c821d9a4c016dcda59e69180e35b08db940cee66b2...           0x28a00911   \n",
       "1535  0xec91672e00ee58324ffa9e3cfedfb272a65822809516...           0x28a00911   \n",
       "\n",
       "         Block                 Time  \\\n",
       "0     19347625  2024-03-02 12:57:11   \n",
       "4     19347625  2024-03-02 12:57:11   \n",
       "7     19347625  2024-03-02 12:57:11   \n",
       "8     19347625  2024-03-02 12:57:11   \n",
       "9     19347625  2024-03-02 12:57:11   \n",
       "...        ...                  ...   \n",
       "1529  19347616  2024-03-02 12:55:23   \n",
       "1530  19347616  2024-03-02 12:55:23   \n",
       "1531  19347616  2024-03-02 12:55:23   \n",
       "1532  19347616  2024-03-02 12:55:23   \n",
       "1535  19347616  2024-03-02 12:55:23   \n",
       "\n",
       "                                            From   Self  \\\n",
       "0     0x88c6c46ebf353a52bdbab708c23d0c81daa8134a  False   \n",
       "4     0xe49e1f7151ac6f46c23ae2d90f2d6fc1babde5ce  False   \n",
       "7     0xaa29a9015197dd243c970394954e237321814f87  False   \n",
       "8     0x0fedcedf5b96244d5e1f5734a7694d3ea0b5658d  False   \n",
       "9     0xf0567ccbc88022824d135da2567f718b556dc4d9  False   \n",
       "...                                          ...    ...   \n",
       "1529  0xe75ed6f453c602bd696ce27af11565edc9b46b0d  False   \n",
       "1530  0x1e465d54d3c81513c15f1a1e62ab61ba8fd76383  False   \n",
       "1531  0xe75ed6f453c602bd696ce27af11565edc9b46b0d  False   \n",
       "1532  0x111206594f2fb5927f719b4417ab1da3d41b14b1  False   \n",
       "1535  0x1111e3ef0b6ae32e14a55e0e7cd9b8505177c2bf  False   \n",
       "\n",
       "                                                     To      Value   Txn Fee  \\\n",
       "0     Public Tag: stakefish: Fee Recipient<br/>(0xff...  -4.825127 -9.975265   \n",
       "4            0x652441195c870f53366088671c845bd3325ad4e6   0.031018 -9.977503   \n",
       "7     Public Tag: 0x: Exchange Proxy<br/>(0xdef1c0de...  -5.717857 -7.305531   \n",
       "8     Public Tag: 0x: Exchange Proxy<br/>(0xdef1c0de...  -5.098712 -7.183982   \n",
       "9     Public Tag: 0x: Exchange Proxy<br/>(0xdef1c0de...  -8.302940 -6.391019   \n",
       "...                                                 ...        ...       ...   \n",
       "1529         0x00000000009e50a7ddb7a7b0e2ee6604fd120e49 -27.897353 -5.822527   \n",
       "1530         0x3335733c454805df6a77f825f266e136fb4a3333   0.000568 -6.574789   \n",
       "1531         0x00000000009e50a7ddb7a7b0e2ee6604fd120e49 -28.312390 -7.757286   \n",
       "1532  Public Tag: MEV Bot: 0x000...1d3<br/>(0x000000... -55.271144 -5.109339   \n",
       "1535  Public Tag: MEV Bot: 0x000...1d3<br/>(0x000000... -53.624781 -6.686549   \n",
       "\n",
       "        GasPrice Error  \n",
       "0      47.233196        \n",
       "4      47.234196        \n",
       "7      47.234196        \n",
       "8      47.234196        \n",
       "9      47.234196        \n",
       "...          ...   ...  \n",
       "1529   69.899029        \n",
       "1530   48.001238        \n",
       "1531   47.622935        \n",
       "1532  164.606820        \n",
       "1535   47.622935        \n",
       "\n",
       "[706 rows x 11 columns]"
      ]
     },
     "execution_count": 13,
     "metadata": {},
     "output_type": "execute_result"
    }
   ],
   "source": [
    "df_without_zero = df_log.drop(df_log[df_log['Value'] < -70].index)\n",
    "df_without_zero"
   ]
  },
  {
   "cell_type": "code",
   "execution_count": 14,
   "id": "c0c501fe",
   "metadata": {},
   "outputs": [
    {
     "data": {
      "text/plain": [
       "<seaborn.axisgrid.JointGrid at 0x7f8290266980>"
      ]
     },
     "execution_count": 14,
     "metadata": {},
     "output_type": "execute_result"
    },
    {
     "data": {
      "image/png": "[encoded data removed]",
      "text/plain": [
       "<Figure size 600x600 with 3 Axes>"
      ]
     },
     "metadata": {},
     "output_type": "display_data"
    },
    {
     "data": {
      "image/png": "[encoded data removed]",
      "text/plain": [
       "<Figure size 600x600 with 3 Axes>"
      ]
     },
     "metadata": {},
     "output_type": "display_data"
    }
   ],
   "source": [
    "sns.jointplot(x=\"Value\", y=\"Txn Fee\", data=df_without_zero, kind=\"scatter\")\n",
    "sns.jointplot(x=\"Value\", y=\"Txn Fee\", data=df_without_zero, kind=\"kde\")"
   ]
  },
  {
   "cell_type": "code",
   "execution_count": 15,
   "id": "36cf2645",
   "metadata": {},
   "outputs": [
    {
     "data": {
      "text/plain": [
       "<AxesSubplot: xlabel='Txn Fee'>"
      ]
     },
     "execution_count": 15,
     "metadata": {},
     "output_type": "execute_result"
    },
    {
     "data": {
      "image/png": "[encoded data removed]",
      "text/plain": [
       "<Figure size 1500x500 with 2 Axes>"
      ]
     },
     "metadata": {},
     "output_type": "display_data"
    }
   ],
   "source": [
    "fig, axes = plt.subplots(1, 2, figsize=(15, 5))\n",
    "\n",
    "sns.violinplot(x=df_without_zero[\"Value\"], ax=axes[0])\n",
    "sns.violinplot(x=df_without_zero[\"Txn Fee\"], ax=axes[1])"
   ]
  },
  {
   "cell_type": "code",
   "execution_count": 18,
   "id": "f5eb95e0",
   "metadata": {},
   "outputs": [
    {
     "data": {
      "application/vnd.plotly.v1+json": {
       "config": {
        "linkText": "Export to plot.ly",
        "plotlyServerURL": "https://plot.ly",
        "showLink": false
       },
       "data": [
        {
         "name": "Transfer",
         "type": "box",
         "y": [
          -4.825127494321579,
          0.031018020563173595,
          -0.8133099825379412,
          -0.1918216066789767,
          -6.717449533111233,
          -1.3219280948873622,
          2.584962500721156,
          2.883620816285671,
          -2.313369496050798,
          -2.9586087572757216,
          -6.328588383008978,
          -2.032959329399355,
          0.25096157353321874,
          -9.965784284662087,
          -2.286304185156641,
          -6.098752214372957,
          -4.321928094887363,
          -4.746085337246946,
          -2.736965594166206,
          -5.566613190842264,
          -1.539820514250181,
          -8.965784284662087,
          -6.507591029703893,
          -6.784757449548856,
          -6.643856189774724,
          -4.878750921267029,
          -4.506101363879314,
          -1.7369655941662063,
          -6.158429362604483,
          -2.0852364365889895,
          -0.5633640365775515,
          -5.867576982813321,
          -5.116783851910864,
          -2.6849879080814776,
          -2.498651559579347,
          -4.56256394840597,
          -8.153039641363755,
          -8.41979615274639,
          -8.153039641363755,
          -8.153039641363755,
          -8.153039641363755,
          -8.153039641363755,
          -6.156384246867999,
          -8.153039641363755,
          -2.7760386809108732,
          -5.075187785170737,
          -6.883701683340316,
          0.6780719051126377,
          -4.264655289440604,
          -7.122383262447624,
          -5.158393810914736,
          -6.634595022763993,
          -8.43898429207689,
          -6.158429362604483,
          -4.131656614836446,
          -4.5700359564830535,
          -5.178338759885671,
          -6.253373392314066,
          -4.290840668736143,
          -4.396110923004757,
          -5.862234024057408,
          -2.7880072318408335,
          -2.831357964441161,
          -0.38681504666784366,
          -0.15200309344504995,
          -2.3511791869535705,
          -6.957333251968818,
          0.5907825544719693,
          -2.770742139654898,
          -2.6729252502700276,
          -1.9500436520481421,
          -1.8589230165697423,
          -1.8687613880561538,
          -1.7374510802077683,
          -1.4004597722543002,
          0.8063722357937949,
          -2.1038485791074795,
          -3.816037165157405,
          -0.723539067187071,
          3.6950739070001553,
          0.2330045069931106,
          -2.3432048428931562,
          -2.4985048042021045,
          -7.643856189774724,
          -4.661429129508222,
          -4.551596986109809,
          -8.747219459873536,
          -1.7006994504316708,
          0,
          -5.284670150335933,
          -8.951428991685017,
          -3.321928094887362,
          -5.321928094887363,
          -6.643856189774724,
          -4.417347659966045,
          -6.50635266602479,
          -0.0959809844010202,
          -1.5787147520728124,
          -9.533534644177868,
          -2,
          -4.094037705990386,
          -0.03356953269370183,
          -4.070490874112813,
          -1.2520197455104674,
          -7.137965260044767,
          -5.043731569550901,
          -1.3430317931703297,
          -6.680114267269189,
          -1.6743926269766,
          -8.380821783940931,
          -1.2155185308267669,
          -0.0056375109653629095,
          -5.429817886532424,
          -1.0078116637466876,
          -3.393604954690163,
          -1.6821402652911637,
          -6.261922228218848,
          -3.3394747042919297,
          -1.8889686876112561,
          -2.21508205439845,
          -5.100855312372299,
          -3.8346111332311303,
          -6.643856189774724,
          -3.8681187138548774,
          -6.649175100334264,
          -4.8141973785928025,
          -6.28841834571401,
          -6.477783513828019,
          -10.540131630897225,
          -6.5328248773859805,
          -2.548438067391804,
          -5.107803289534515,
          -4.772012541265407,
          -7.158429362604483,
          -0.41542031629460074,
          2.909336931180366,
          -4.918427858299129,
          -6.265344566520995,
          -7.058893689053568,
          -4.116563835473573,
          -2.7446418816614457,
          -7.265344566520995,
          -5.831772041396602,
          -4.643342032757591,
          -0.5145731728297583,
          -4.917024972742232,
          -6.795859283219775,
          -8.16975682762755,
          3.0936929618820277,
          -5.183216518314064,
          1.5360529002402097,
          1.657532473549486,
          -2.321928094887362,
          -2.643856189774725,
          -8.184042700957372,
          -3.90866656384917,
          -2.1933386087954356,
          -0.8768761654852407,
          -4.304373625765728,
          -8.522569653956124,
          -6.716454545854504,
          -4.7763369311466,
          -4.9761766592219985,
          -5.979373349410042,
          -9.119996391846461,
          -2.959226967037271,
          -17.609640474436812,
          -4.155030464142819,
          -4.154606395564677,
          -6.380821783940931,
          -0.12029308897101391,
          0.19301899190742686,
          -1.5392985293627863,
          -0.7483300795199972,
          -5.869859864663551,
          2.1719480777885303,
          -7.158429362604483,
          0,
          -8.708467050889881,
          -4.184424571137427,
          -5.058893689053568,
          -4.835841900685127,
          -3.9434164716336326,
          -3.8775052786522766,
          -6.058893689053568,
          -5.643856189774724,
          -9.59139577727352,
          0.0005769626315205146,
          -8.519829861081185,
          -5.542021788559238,
          -4.0802370076812045,
          -1.6968446769653287,
          -6.102982205837419,
          -6.465757314848096,
          -0.5845874487651669,
          -6.850744381089298,
          -7.158429362604483,
          -2.320940187104153,
          -1.7884219074325676,
          -3.9794889516882983,
          -0.12595063624477434,
          -6.366454587588537,
          -6.269205052079503,
          -4.824188006278269,
          -2.831357964441161,
          -3.6133435377494374,
          -1.8103558169436715,
          -2.448480871814091,
          -9.811330691982215,
          -4.435768493779399,
          -2.736965594166206,
          -5.327156072420062,
          -3.525528627441355,
          -5.32496094007642,
          -4.366143289678929,
          -6.0939406361527695,
          -3.395928676331139,
          -4.322505288350108,
          -6.279866555893666,
          -6.118836418371759,
          -6.6320713252995045,
          -6.587272661408357,
          -2.1140352432460294,
          -4.321928094887363,
          -4.426625473554056,
          -8.417151861310975,
          0.7548789528341912,
          8.965784284662087,
          -5.878321443411748,
          5,
          -6.643856189774724,
          -5.772202548042005,
          -5.556428245193538,
          -5.22074346722013,
          -2.7755120657061236,
          -7.011070558397974,
          -2.5812767988121297,
          -6.2430308427655286,
          -7.09749261588929,
          -6.212285857969248,
          -8.45989335493213,
          -3.5563933485243853,
          -2.5389951888333777,
          -1.7509794897140352,
          -0.696986867494326,
          -5.748553568441418,
          -2.8049044228227817,
          -5.189680296588922,
          -18.931568569324174,
          -2.0588936890535687,
          -4.398291314544649,
          -4.717856771218502,
          -3.9839377947978702,
          -7.137965260044767,
          -3.5991604999815054,
          -1.775959715900597,
          -6.022154526333489,
          -1.7369655941662063,
          -6.508675963199545,
          -3.8057111864623647,
          -5.662734199980414,
          -7.467533417134262,
          1.366281425095523,
          -6.878321443411748,
          -5.685045430453261,
          -5.671279323585671,
          -5.992861920436671,
          -8.11079525601023,
          -4.562851775593445,
          -8.935716639642147,
          -6.917076753783522,
          -8.164908813722036,
          -4.363530881305,
          -6.834853414835639,
          -4.058893689053568,
          0.34482849699744117,
          0.4106233198314307,
          -1.7369655941662063,
          -3.466625347706159,
          -7.954288645824257,
          2.4594316186372973,
          -9.697900963292831,
          -5.415622390214657,
          -9.965784284662087,
          -11.599469345115061,
          -7.8353475731007505,
          -9.016953969730785,
          -2.3077560786738562,
          -5.625091993797741,
          -8.253582520505496,
          0.879616457558733,
          -5.376260467922846,
          -6.555397044939744,
          -8.438979285265976,
          -4.995914998176707,
          -10.74129941267769,
          -2.662629418374514,
          -0.0015243053727156456,
          -6.447800647612304,
          -6.829454083396918,
          -4.321928094887363,
          -1.523549375811106,
          -1.342481411262758,
          2,
          -0.6954343517559796,
          -8.973212334787558,
          -7.248135276488772,
          -6.471175005135092,
          -7.390737279338336,
          -0.7964611077386127,
          -3.5919620974404345,
          -8.425651347319919,
          -6.141737653843466,
          0.11438474633596168,
          -6.419983910376512,
          -5.643856189774724,
          -6.795859283219775,
          -8.419815915556795,
          -8.419815915556795,
          -2.279283757478869,
          -8.965784284662087,
          -8.624578998954446,
          -6.679113791641184,
          -0.5145731728297583,
          -5.980283854357202,
          -2.5364027858243032,
          -4.630751298075238,
          1.584962500721156,
          0.2598841866023716,
          -2.6285031397594008,
          -4.979554175486255,
          -4.643856189774724,
          -6.283314361690708,
          -0.48624093303463856,
          -5.678510218584655,
          -4.088089106807543,
          -3.321928094887362,
          -0.3040061868900999,
          -1.1294182759454146,
          6.021871240726898,
          3.4001416805111875,
          2.653328988827731,
          -6.032637530893942,
          1.5670099351285367,
          -5.603638460068666,
          -4.355550788254933,
          0.8436474037025583,
          1.748959101010159,
          -7.38051163784665,
          -6.098265045802076,
          -5.665660560093073,
          -10.50322933574195,
          -0.6511848632621133,
          0.5741353522763255,
          -9.620311830546596,
          0.3127751998338009,
          -1.0108298859909255,
          -4.601670401109404,
          -1.3959286763311392,
          -2.1844245711374275,
          -6.740060510744746,
          -4.052330336608458,
          -8.314441385094392,
          -6.058893689053568,
          -3.380821783940931,
          -7.272241571910069,
          -1,
          -3.739130221083815,
          -1.9159357352115254,
          -4.608232280044003,
          -0.33898116162397807,
          -8.417515367598439,
          -0.5145731728297583,
          -0.9585254031900295,
          -1.8267023193567542,
          0,
          -4.207462183742846,
          -2.409965522692121,
          -8.380821783940931,
          -6.060722261112307,
          -2.258328515958603,
          -6.643856189774724,
          -4.8643670854675785,
          -5.838184018930446,
          -5.465138999388872,
          -11.74262867345015,
          -5.424823385854909,
          -3.364384894130257,
          -6.534656124493074,
          -1.7361705997400096,
          -6.408214897796341,
          -6.210896782498619,
          -4.522840788813359,
          -4.060168632856137,
          1.2630842981745745,
          -7.835613829847141,
          -3.1175688238590196,
          -6.0685438590872876,
          -5.122340195916708,
          -5.389866923543938,
          -6.790929530587085,
          -6.484400602771375,
          -2.3544450067342533,
          -1,
          -4.834101424902799,
          -2.8323851592448888,
          -9.965784284662087,
          -8.965784284662087,
          -2.8343744487805616,
          -7.130297328354543,
          -3.3549584084956754,
          -4.604366817872874,
          -4.457989644463391,
          -7.5328248773859805,
          -6.368849142274855,
          -6.587272661408357,
          -5.643856189774724,
          -6.239829302358879,
          -4.771591501313322,
          -4.5907448533151625,
          -4.766678765328435,
          -3.7994559532117824,
          0.5753123306874368,
          -6.480357457491845,
          -3.1385958530317297,
          -5.861447624847352,
          -2.3364276645824775,
          -6.50635266602479,
          -3.321928094887362,
          -8.033723113318663,
          -5.895394956770689,
          -8.033723113318663,
          -5.177978343377385,
          -5.022331746103267,
          -3.6546445043862303,
          -5.064419537050253,
          -4.522840788813359,
          -6.210896782498619,
          3.1402729139865038,
          -6.643856189774724,
          -6.210896782498619,
          -7.115769017572831,
          -4.522840788813359,
          -4.832385159244889,
          -6.873854314599489,
          -5.638907011352589,
          -0.551280850453626,
          -3.008988579807268,
          -5.237863830098888,
          -6.50635266602479,
          -5.270904091862896,
          -3.9816506901211084,
          -5.211753463322135,
          -0.36657851769658745,
          -3.3893549635112987,
          -0.24440083611715496,
          -3.984404237054028,
          -7.158429362604483,
          -8.364108683845691,
          -4.137792020043874,
          -1.1940802426117798,
          -3.321928094887362,
          -0.3219280948873623,
          -1.3219280948873622,
          -4.321928094887363,
          -5.058893689053568,
          -6.834853414835639,
          -3.0588936890535687,
          -3.4418239802330923,
          -6.6129126475005675,
          -7.8600160411451405,
          -0.9617604990388148,
          -3.8365012677171206,
          -5.835182834871523,
          0.5830130765843592,
          -6.1162881552659,
          -5.058893689053568,
          -3.355908640093844,
          -6.717856771218502,
          -5.202927904015757,
          -2.026205070347394,
          -1.8313579644411608,
          -8.007233703551348,
          -1.4124551562912273,
          -4.6828658971463,
          -7.158429362604483,
          -3.5294060040135244,
          -4.3715254676379365,
          -4.620485178072853,
          -4.135786075027946
         ]
        },
        {
         "name": "Execute",
         "type": "box",
         "y": [
          -3.321928094887362,
          -2.736965594166206,
          -2.773287859869123,
          -4.473931188332412,
          -4.058893689053568,
          -3,
          -2.205563338195578,
          -2.824119755747687,
          -3.321928094887362,
          0,
          -6.380821783940931,
          -0.48500501739867063,
          0,
          -4.76183929833256,
          -0.7369655941662062,
          -1,
          -0.7369655941662062,
          -1.7321646079023851,
          0,
          -2.643856189774725,
          -1.7858751946471527,
          -1,
          -2.736965594166206,
          -2.473931188332412,
          -4.032919949356566,
          2.4489009511451276,
          -4.643856189774724,
          -2.736965594166206,
          -3.321928094887362,
          0.2630344058337938,
          1.2016338611696504,
          0.2630344058337938,
          -4.321928094887363,
          -5.643856189774724,
          -6.429627041545326,
          -7.4466097681137065,
          -4.914462652045997,
          0,
          -4.415530054036345,
          -0.6266889997519505,
          -2.1844245711374275,
          -1.7369655941662063,
          0,
          0.5192159344139115,
          0,
          -5.184942985250994,
          1.3219280948873624,
          0,
          -1.6896598793878495,
          -1.4739311883324124,
          -2.321928094887362,
          0.2153555458360885,
          -3.643856189774725,
          -2.6926925753401587,
          -0.0072315692310758635,
          -3.321928094887362,
          -1.7369655941662063,
          -6.643856189774724,
          -3.590744853315162,
          -4.643856189774724,
          -2.77595972578207,
          -3.321928094887362,
          -0.15200309344504995,
          -2.8498760571276374,
          -3.795859283219775,
          -5.468651428189776,
          -9.924120752932726,
          -5.3264358768327895,
          -5.995264936340346,
          -3.321928094887362,
          -3.0588936890535687,
          -4.643856189774724,
          -5.058893689053568,
          -2.5145731728297585,
          -1.7369655941662063,
          -0.3219280948873623,
          1.584962500721156,
          -3.643856189774725,
          -0.8239322673155974,
          0.5160151470036647,
          1,
          -3.643856189774725
         ]
        },
        {
         "name": "Swap Exact ETH F...",
         "type": "box",
         "y": [
          -2,
          -4.321928094887363,
          -1,
          -3.321928094887362,
          -9.965784284662087,
          -2.321928094887362,
          -4.321928094887363,
          -0.7417826104639821,
          -2.321928094887362,
          0.7063804169189922,
          -2.373327247394007
         ]
        },
        {
         "name": "Swap",
         "type": "box",
         "y": [
          0,
          -2.888968687611256,
          -3.0588936890535687,
          3.169925001442312,
          -1.8520421186128986,
          -1,
          -2.643856189774725,
          -0.862496476250065,
          -2.321928094887362,
          -0.7369655941662062,
          -2.6896598793878495,
          -2.321928094887362,
          0.17632277264046287,
          -2.321928094887362,
          -3.321928094887362,
          -6.058893689053568,
          -1.7369655941662063
         ]
        }
       ],
       "layout": {
        "template": {
         "data": {
          "bar": [
           {
            "error_x": {
             "color": "#2a3f5f"
            },
            "error_y": {
             "color": "#2a3f5f"
            },
            "marker": {
             "line": {
              "color": "#E5ECF6",
              "width": 0.5
             },
             "pattern": {
              "fillmode": "overlay",
              "size": 10,
              "solidity": 0.2
             }
            },
            "type": "bar"
           }
          ],
          "barpolar": [
           {
            "marker": {
             "line": {
              "color": "#E5ECF6",
              "width": 0.5
             },
             "pattern": {
              "fillmode": "overlay",
              "size": 10,
              "solidity": 0.2
             }
            },
            "type": "barpolar"
           }
          ],
          "carpet": [
           {
            "aaxis": {
             "endlinecolor": "#2a3f5f",
             "gridcolor": "white",
             "linecolor": "white",
             "minorgridcolor": "white",
             "startlinecolor": "#2a3f5f"
            },
            "baxis": {
             "endlinecolor": "#2a3f5f",
             "gridcolor": "white",
             "linecolor": "white",
             "minorgridcolor": "white",
             "startlinecolor": "#2a3f5f"
            },
            "type": "carpet"
           }
          ],
          "choropleth": [
           {
            "colorbar": {
             "outlinewidth": 0,
             "ticks": ""
            },
            "type": "choropleth"
           }
          ],
          "contour": [
           {
            "colorbar": {
             "outlinewidth": 0,
             "ticks": ""
            },
            "colorscale": [
             [
              0,
              "#0d0887"
             ],
             [
              0.1111111111111111,
              "#46039f"
             ],
             [
              0.2222222222222222,
              "#7201a8"
             ],
             [
              0.3333333333333333,
              "#9c179e"
             ],
             [
              0.4444444444444444,
              "#bd3786"
             ],
             [
              0.5555555555555556,
              "#d8576b"
             ],
             [
              0.6666666666666666,
              "#ed7953"
             ],
             [
              0.7777777777777778,
              "#fb9f3a"
             ],
             [
              0.8888888888888888,
              "#fdca26"
             ],
             [
              1,
              "#f0f921"
             ]
            ],
            "type": "contour"
           }
          ],
          "contourcarpet": [
           {
            "colorbar": {
             "outlinewidth": 0,
             "ticks": ""
            },
            "type": "contourcarpet"
           }
          ],
          "heatmap": [
           {
            "colorbar": {
             "outlinewidth": 0,
             "ticks": ""
            },
            "colorscale": [
             [
              0,
              "#0d0887"
             ],
             [
              0.1111111111111111,
              "#46039f"
             ],
             [
              0.2222222222222222,
              "#7201a8"
             ],
             [
              0.3333333333333333,
              "#9c179e"
             ],
             [
              0.4444444444444444,
              "#bd3786"
             ],
             [
              0.5555555555555556,
              "#d8576b"
             ],
             [
              0.6666666666666666,
              "#ed7953"
             ],
             [
              0.7777777777777778,
              "#fb9f3a"
             ],
             [
              0.8888888888888888,
              "#fdca26"
             ],
             [
              1,
              "#f0f921"
             ]
            ],
            "type": "heatmap"
           }
          ],
          "heatmapgl": [
           {
            "colorbar": {
             "outlinewidth": 0,
             "ticks": ""
            },
            "colorscale": [
             [
              0,
              "#0d0887"
             ],
             [
              0.1111111111111111,
              "#46039f"
             ],
             [
              0.2222222222222222,
              "#7201a8"
             ],
             [
              0.3333333333333333,
              "#9c179e"
             ],
             [
              0.4444444444444444,
              "#bd3786"
             ],
             [
              0.5555555555555556,
              "#d8576b"
             ],
             [
              0.6666666666666666,
              "#ed7953"
             ],
             [
              0.7777777777777778,
              "#fb9f3a"
             ],
             [
              0.8888888888888888,
              "#fdca26"
             ],
             [
              1,
              "#f0f921"
             ]
            ],
            "type": "heatmapgl"
           }
          ],
          "histogram": [
           {
            "marker": {
             "pattern": {
              "fillmode": "overlay",
              "size": 10,
              "solidity": 0.2
             }
            },
            "type": "histogram"
           }
          ],
          "histogram2d": [
           {
            "colorbar": {
             "outlinewidth": 0,
             "ticks": ""
            },
            "colorscale": [
             [
              0,
              "#0d0887"
             ],
             [
              0.1111111111111111,
              "#46039f"
             ],
             [
              0.2222222222222222,
              "#7201a8"
             ],
             [
              0.3333333333333333,
              "#9c179e"
             ],
             [
              0.4444444444444444,
              "#bd3786"
             ],
             [
              0.5555555555555556,
              "#d8576b"
             ],
             [
              0.6666666666666666,
              "#ed7953"
             ],
             [
              0.7777777777777778,
              "#fb9f3a"
             ],
             [
              0.8888888888888888,
              "#fdca26"
             ],
             [
              1,
              "#f0f921"
             ]
            ],
            "type": "histogram2d"
           }
          ],
          "histogram2dcontour": [
           {
            "colorbar": {
             "outlinewidth": 0,
             "ticks": ""
            },
            "colorscale": [
             [
              0,
              "#0d0887"
             ],
             [
              0.1111111111111111,
              "#46039f"
             ],
             [
              0.2222222222222222,
              "#7201a8"
             ],
             [
              0.3333333333333333,
              "#9c179e"
             ],
             [
              0.4444444444444444,
              "#bd3786"
             ],
             [
              0.5555555555555556,
              "#d8576b"
             ],
             [
              0.6666666666666666,
              "#ed7953"
             ],
             [
              0.7777777777777778,
              "#fb9f3a"
             ],
             [
              0.8888888888888888,
              "#fdca26"
             ],
             [
              1,
              "#f0f921"
             ]
            ],
            "type": "histogram2dcontour"
           }
          ],
          "mesh3d": [
           {
            "colorbar": {
             "outlinewidth": 0,
             "ticks": ""
            },
            "type": "mesh3d"
           }
          ],
          "parcoords": [
           {
            "line": {
             "colorbar": {
              "outlinewidth": 0,
              "ticks": ""
             }
            },
            "type": "parcoords"
           }
          ],
          "pie": [
           {
            "automargin": true,
            "type": "pie"
           }
          ],
          "scatter": [
           {
            "fillpattern": {
             "fillmode": "overlay",
             "size": 10,
             "solidity": 0.2
            },
            "type": "scatter"
           }
          ],
          "scatter3d": [
           {
            "line": {
             "colorbar": {
              "outlinewidth": 0,
              "ticks": ""
             }
            },
            "marker": {
             "colorbar": {
              "outlinewidth": 0,
              "ticks": ""
             }
            },
            "type": "scatter3d"
           }
          ],
          "scattercarpet": [
           {
            "marker": {
             "colorbar": {
              "outlinewidth": 0,
              "ticks": ""
             }
            },
            "type": "scattercarpet"
           }
          ],
          "scattergeo": [
           {
            "marker": {
             "colorbar": {
              "outlinewidth": 0,
              "ticks": ""
             }
            },
            "type": "scattergeo"
           }
          ],
          "scattergl": [
           {
            "marker": {
             "colorbar": {
              "outlinewidth": 0,
              "ticks": ""
             }
            },
            "type": "scattergl"
           }
          ],
          "scattermapbox": [
           {
            "marker": {
             "colorbar": {
              "outlinewidth": 0,
              "ticks": ""
             }
            },
            "type": "scattermapbox"
           }
          ],
          "scatterpolar": [
           {
            "marker": {
             "colorbar": {
              "outlinewidth": 0,
              "ticks": ""
             }
            },
            "type": "scatterpolar"
           }
          ],
          "scatterpolargl": [
           {
            "marker": {
             "colorbar": {
              "outlinewidth": 0,
              "ticks": ""
             }
            },
            "type": "scatterpolargl"
           }
          ],
          "scatterternary": [
           {
            "marker": {
             "colorbar": {
              "outlinewidth": 0,
              "ticks": ""
             }
            },
            "type": "scatterternary"
           }
          ],
          "surface": [
           {
            "colorbar": {
             "outlinewidth": 0,
             "ticks": ""
            },
            "colorscale": [
             [
              0,
              "#0d0887"
             ],
             [
              0.1111111111111111,
              "#46039f"
             ],
             [
              0.2222222222222222,
              "#7201a8"
             ],
             [
              0.3333333333333333,
              "#9c179e"
             ],
             [
              0.4444444444444444,
              "#bd3786"
             ],
             [
              0.5555555555555556,
              "#d8576b"
             ],
             [
              0.6666666666666666,
              "#ed7953"
             ],
             [
              0.7777777777777778,
              "#fb9f3a"
             ],
             [
              0.8888888888888888,
              "#fdca26"
             ],
             [
              1,
              "#f0f921"
             ]
            ],
            "type": "surface"
           }
          ],
          "table": [
           {
            "cells": {
             "fill": {
              "color": "#EBF0F8"
             },
             "line": {
              "color": "white"
             }
            },
            "header": {
             "fill": {
              "color": "#C8D4E3"
             },
             "line": {
              "color": "white"
             }
            },
            "type": "table"
           }
          ]
         },
         "layout": {
          "annotationdefaults": {
           "arrowcolor": "#2a3f5f",
           "arrowhead": 0,
           "arrowwidth": 1
          },
          "autotypenumbers": "strict",
          "coloraxis": {
           "colorbar": {
            "outlinewidth": 0,
            "ticks": ""
           }
          },
          "colorscale": {
           "diverging": [
            [
             0,
             "#8e0152"
            ],
            [
             0.1,
             "#c51b7d"
            ],
            [
             0.2,
             "#de77ae"
            ],
            [
             0.3,
             "#f1b6da"
            ],
            [
             0.4,
             "#fde0ef"
            ],
            [
             0.5,
             "#f7f7f7"
            ],
            [
             0.6,
             "#e6f5d0"
            ],
            [
             0.7,
             "#b8e186"
            ],
            [
             0.8,
             "#7fbc41"
            ],
            [
             0.9,
             "#4d9221"
            ],
            [
             1,
             "#276419"
            ]
           ],
           "sequential": [
            [
             0,
             "#0d0887"
            ],
            [
             0.1111111111111111,
             "#46039f"
            ],
            [
             0.2222222222222222,
             "#7201a8"
            ],
            [
             0.3333333333333333,
             "#9c179e"
            ],
            [
             0.4444444444444444,
             "#bd3786"
            ],
            [
             0.5555555555555556,
             "#d8576b"
            ],
            [
             0.6666666666666666,
             "#ed7953"
            ],
            [
             0.7777777777777778,
             "#fb9f3a"
            ],
            [
             0.8888888888888888,
             "#fdca26"
            ],
            [
             1,
             "#f0f921"
            ]
           ],
           "sequentialminus": [
            [
             0,
             "#0d0887"
            ],
            [
             0.1111111111111111,
             "#46039f"
            ],
            [
             0.2222222222222222,
             "#7201a8"
            ],
            [
             0.3333333333333333,
             "#9c179e"
            ],
            [
             0.4444444444444444,
             "#bd3786"
            ],
            [
             0.5555555555555556,
             "#d8576b"
            ],
            [
             0.6666666666666666,
             "#ed7953"
            ],
            [
             0.7777777777777778,
             "#fb9f3a"
            ],
            [
             0.8888888888888888,
             "#fdca26"
            ],
            [
             1,
             "#f0f921"
            ]
           ]
          },
          "colorway": [
           "#636efa",
           "#EF553B",
           "#00cc96",
           "#ab63fa",
           "#FFA15A",
           "#19d3f3",
           "#FF6692",
           "#B6E880",
           "#FF97FF",
           "#FECB52"
          ],
          "font": {
           "color": "#2a3f5f"
          },
          "geo": {
           "bgcolor": "white",
           "lakecolor": "white",
           "landcolor": "#E5ECF6",
           "showlakes": true,
           "showland": true,
           "subunitcolor": "white"
          },
          "hoverlabel": {
           "align": "left"
          },
          "hovermode": "closest",
          "mapbox": {
           "style": "light"
          },
          "paper_bgcolor": "white",
          "plot_bgcolor": "#E5ECF6",
          "polar": {
           "angularaxis": {
            "gridcolor": "white",
            "linecolor": "white",
            "ticks": ""
           },
           "bgcolor": "#E5ECF6",
           "radialaxis": {
            "gridcolor": "white",
            "linecolor": "white",
            "ticks": ""
           }
          },
          "scene": {
           "xaxis": {
            "backgroundcolor": "#E5ECF6",
            "gridcolor": "white",
            "gridwidth": 2,
            "linecolor": "white",
            "showbackground": true,
            "ticks": "",
            "zerolinecolor": "white"
           },
           "yaxis": {
            "backgroundcolor": "#E5ECF6",
            "gridcolor": "white",
            "gridwidth": 2,
            "linecolor": "white",
            "showbackground": true,
            "ticks": "",
            "zerolinecolor": "white"
           },
           "zaxis": {
            "backgroundcolor": "#E5ECF6",
            "gridcolor": "white",
            "gridwidth": 2,
            "linecolor": "white",
            "showbackground": true,
            "ticks": "",
            "zerolinecolor": "white"
           }
          },
          "shapedefaults": {
           "line": {
            "color": "#2a3f5f"
           }
          },
          "ternary": {
           "aaxis": {
            "gridcolor": "white",
            "linecolor": "white",
            "ticks": ""
           },
           "baxis": {
            "gridcolor": "white",
            "linecolor": "white",
            "ticks": ""
           },
           "bgcolor": "#E5ECF6",
           "caxis": {
            "gridcolor": "white",
            "linecolor": "white",
            "ticks": ""
           }
          },
          "title": {
           "x": 0.05
          },
          "xaxis": {
           "automargin": true,
           "gridcolor": "white",
           "linecolor": "white",
           "ticks": "",
           "title": {
            "standoff": 15
           },
           "zerolinecolor": "white",
           "zerolinewidth": 2
          },
          "yaxis": {
           "automargin": true,
           "gridcolor": "white",
           "linecolor": "white",
           "ticks": "",
           "title": {
            "standoff": 15
           },
           "zerolinecolor": "white",
           "zerolinewidth": 2
          }
         }
        }
       }
      }
     },
     "metadata": {},
     "output_type": "display_data"
    }
   ],
   "source": [
    "data = []\n",
    "\n",
    "# Create a box trace for each genre in our dataset\n",
    "for method in df_without_zero.Method.unique():\n",
    "    if len(df_without_zero[df_without_zero.Method == method]) > 10:\n",
    "        data.append(go.Box(y=df_without_zero[df_without_zero.Method == method].Value, name=method))\n",
    "\n",
    "# Visualize\n",
    "iplot(data, show_link=False)"
   ]
  },
  {
   "cell_type": "code",
   "execution_count": 73,
   "id": "0ecbcd1b",
   "metadata": {},
   "outputs": [
    {
     "data": {
      "image/png": "[encoded data removed]",
      "text/plain": [
       "<Figure size 640x480 with 1 Axes>"
      ]
     },
     "metadata": {},
     "output_type": "display_data"
    }
   ],
   "source": [
    "data = df_without_zero[\"Value\"]\n",
    "\n",
    "mu, std = norm.fit(data)\n",
    "\n",
    "plt.hist(data, bins=30, density=True)\n",
    "\n",
    "xmin, xmax = plt.xlim()\n",
    "x = np.linspace(xmin, xmax, 100)\n",
    "p = norm.pdf(x, mu, std)\n",
    "plt.plot(x, p)\n",
    "title = \"Fit results: mu = %.2f,  std = %.2f\" % (mu, std)\n",
    "plt.title(title)\n",
    "\n",
    "plt.show()"
   ]
  },
  {
   "cell_type": "code",
   "execution_count": 70,
   "id": "36c2932a",
   "metadata": {},
   "outputs": [
    {
     "data": {
      "image/png": "[encoded data removed]",
      "text/plain": [
       "<Figure size 640x480 with 1 Axes>"
      ]
     },
     "metadata": {},
     "output_type": "display_data"
    }
   ],
   "source": [
    "data = df_without_zero[\"Txn Fee\"]\n",
    "\n",
    "mu, std = norm.fit(data)\n",
    "\n",
    "plt.hist(data, bins=15, density=True)\n",
    "\n",
    "xmin, xmax = plt.xlim()\n",
    "x = np.linspace(xmin, xmax, 100)\n",
    "p = norm.pdf(x, mu, std)\n",
    "plt.plot(x, p)\n",
    "title = \"Fit results: mu = %.2f,  std = %.2f\" % (mu, std)\n",
    "plt.title(title)\n",
    "\n",
    "plt.show()"
   ]
  },
  {
   "cell_type": "markdown",
   "id": "87030e5e0b4fe1e6",
   "metadata": {},
   "source": [
    "## Data Sampling and Analysis\n",
    "\n",
    "In this section, we will delve into the process of data sampling and perform an initial analysis on the transaction data we have collected. Our objective is to understand the distribution of transaction values by sampling the data and comparing the sample statistics with the population statistics.\n",
    "\n",
    "### Steps\n",
    "\n",
    "1. **Load the Data**: Import the collected transaction data into a pandas DataFrame.\n",
    "\n",
    "2. **Data Cleaning**: Clean the data by handling missing values, converting data types, and removing any irrelevant information.\n",
    "\n",
    "3. **Simple Random Sampling (SRS)**: Create a sample from the dataset using a simple random sampling method. This involves randomly selecting a subset of the data without regard to any specific characteristics of the data.\n",
    "\n",
    "4. **Stratified Sampling**: Create another sample from the dataset using a stratified sampling method. This involves dividing the data into strata based on a specific characteristic (e.g., transaction value) and then randomly selecting samples from each stratum. Explain what you have stratified the data by and why you chose this column.\n",
    "\n",
    "5. **Statistical Analysis**: Calculate the mean and standard deviation of the samples and the population. Compare these statistics to understand the distribution of transaction values.\n",
    "\n",
    "6. **Visualization**: Plot the distribution of transaction values and fees for both the samples and the population to visually compare their distributions.\n",
    "\n",
    "### Considerations\n",
    "\n",
    "- **Sample Size**: The size of the sample should be large enough to represent the population accurately but not so large that it becomes impractical to analyze.\n",
    "- **Sampling Method**: Choose the appropriate sampling method based on the characteristics of the data and the research question.\n",
    "\n",
    "Explain the above considerations in your report."
   ]
  },
  {
   "cell_type": "code",
   "execution_count": 17,
   "id": "4f6becd41f9b2393",
   "metadata": {
    "ExecuteTime": {
     "end_time": "2024-02-27T19:36:26.333480965Z",
     "start_time": "2024-02-27T19:36:26.324023052Z"
    }
   },
   "outputs": [],
   "source": [
    "# Your code here"
   ]
  }
 ],
 "metadata": {
  "kernelspec": {
   "display_name": "Python 3 (ipykernel)",
   "language": "python",
   "name": "python3"
  },
  "language_info": {
   "codemirror_mode": {
    "name": "ipython",
    "version": 3
   },
   "file_extension": ".py",
   "mimetype": "text/x-python",
   "name": "python",
   "nbconvert_exporter": "python",
   "pygments_lexer": "ipython3",
   "version": "3.10.12"
  }
 },
 "nbformat": 4,
 "nbformat_minor": 5
}
