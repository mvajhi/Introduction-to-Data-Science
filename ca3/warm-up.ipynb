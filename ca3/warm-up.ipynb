{
 "cells": [
  {
   "cell_type": "code",
   "execution_count": 2,
   "metadata": {},
   "outputs": [
    {
     "data": {
      "text/html": [
       "<style>pre { white-space: pre !important; }</style>"
      ],
      "text/plain": [
       "<IPython.core.display.HTML object>"
      ]
     },
     "metadata": {},
     "output_type": "display_data"
    }
   ],
   "source": [
    "from IPython.display import display, HTML\n",
    "import pyspark\n",
    "from pyspark.sql import SparkSession\n",
    "import pyspark.sql.functions as pyfunc\n",
    "display(HTML('<style>pre { white-space: pre !important; }</style>'))"
   ]
  },
  {
   "cell_type": "code",
   "execution_count": 3,
   "metadata": {},
   "outputs": [
    {
     "name": "stderr",
     "output_type": "stream",
     "text": [
      "24/04/15 09:44:23 WARN Utils: Your hostname, codespaces-7af96c resolves to a loopback address: 127.0.0.1; using 172.16.5.4 instead (on interface eth0)\n",
      "24/04/15 09:44:23 WARN Utils: Set SPARK_LOCAL_IP if you need to bind to another address\n",
      "Setting default log level to \"WARN\".\n",
      "To adjust logging level use sc.setLogLevel(newLevel). For SparkR, use setLogLevel(newLevel).\n",
      "24/04/15 09:44:23 WARN NativeCodeLoader: Unable to load native-hadoop library for your platform... using builtin-java classes where applicable\n",
      "24/04/15 09:44:24 WARN Utils: Service 'SparkUI' could not bind on port 4040. Attempting port 4041.\n"
     ]
    },
    {
     "name": "stdout",
     "output_type": "stream",
     "text": [
      "root\n",
      " |-- Date: string (nullable = true)\n",
      " |-- Open: string (nullable = true)\n",
      " |-- High: string (nullable = true)\n",
      " |-- Low: string (nullable = true)\n",
      " |-- Close: string (nullable = true)\n",
      " |-- Volume: string (nullable = true)\n",
      " |-- Adj Close: string (nullable = true)\n",
      "\n"
     ]
    }
   ],
   "source": [
    "spark = SparkSession.builder.appName(\"answers\").getOrCreate()\n",
    "df = spark.read.option(\"header\",'True').option('delimiter', ',').csv(\"stocks.csv\")\n",
    "df.printSchema()"
   ]
  },
  {
   "cell_type": "code",
   "execution_count": 4,
   "metadata": {},
   "outputs": [
    {
     "name": "stdout",
     "output_type": "stream",
     "text": [
      "+----------+----------+----------+------------------+------------------+---------+------------------+\n",
      "|      Date|      Open|      High|               Low|             Close|   Volume|         Adj Close|\n",
      "+----------+----------+----------+------------------+------------------+---------+------------------+\n",
      "|2010-01-04|213.429998|214.499996|212.38000099999996|        214.009998|123432400|         27.727039|\n",
      "|2010-01-05|214.599998|215.589994|        213.249994|        214.379993|150476200|27.774976000000002|\n",
      "|2010-01-06|214.379993|    215.23|        210.750004|        210.969995|138040000|27.333178000000004|\n",
      "|2010-01-07|    211.75|212.000006|        209.050005|            210.58|119282800|          27.28265|\n",
      "|2010-01-08|210.299994|212.000006|209.06000500000002|211.98000499999998|111902700|         27.464034|\n",
      "+----------+----------+----------+------------------+------------------+---------+------------------+\n",
      "only showing top 5 rows\n",
      "\n"
     ]
    }
   ],
   "source": [
    "df.show(5)"
   ]
  },
  {
   "cell_type": "code",
   "execution_count": 5,
   "metadata": {},
   "outputs": [
    {
     "name": "stdout",
     "output_type": "stream",
     "text": [
      "+------------------+------------------+------------------+---------+\n",
      "|              Open|             Close|             Close|   Volume|\n",
      "+------------------+------------------+------------------+---------+\n",
      "|        213.429998|        214.009998|        214.009998|123432400|\n",
      "|        214.599998|        214.379993|        214.379993|150476200|\n",
      "|        214.379993|        210.969995|        210.969995|138040000|\n",
      "|            211.75|            210.58|            210.58|119282800|\n",
      "|        210.299994|211.98000499999998|211.98000499999998|111902700|\n",
      "|212.79999700000002|210.11000299999998|210.11000299999998|115557400|\n",
      "|209.18999499999998|        207.720001|        207.720001|148614900|\n",
      "|        207.870005|        210.650002|        210.650002|151473000|\n",
      "|210.11000299999998|            209.43|            209.43|108223500|\n",
      "|210.92999500000002|            205.93|            205.93|148516900|\n",
      "|        208.330002|        215.039995|        215.039995|182501900|\n",
      "|        214.910006|            211.73|            211.73|153038200|\n",
      "|        212.079994|        208.069996|        208.069996|152038600|\n",
      "|206.78000600000001|            197.75|            197.75|220441900|\n",
      "|202.51000200000001|        203.070002|        203.070002|266424900|\n",
      "|205.95000100000001|        205.940001|        205.940001|466777500|\n",
      "|        206.849995|        207.880005|        207.880005|430642100|\n",
      "|        204.930004|        199.289995|        199.289995|293375600|\n",
      "|        201.079996|        192.060003|        192.060003|311488100|\n",
      "|192.36999699999998|        194.729998|        194.729998|187469100|\n",
      "+------------------+------------------+------------------+---------+\n",
      "only showing top 20 rows\n",
      "\n"
     ]
    }
   ],
   "source": [
    "filtered_df = df.filter((df['Close'] < 500))\n",
    "selected_df = filtered_df.select('Open', 'Close', 'Close', 'Volume')\n",
    "selected_df.show()"
   ]
  },
  {
   "cell_type": "code",
   "execution_count": 6,
   "metadata": {},
   "outputs": [
    {
     "name": "stdout",
     "output_type": "stream",
     "text": [
      "+----------+------------------+----------+----------+----------+---------+------------------+\n",
      "|      Date|              Open|      High|       Low|     Close|   Volume|         Adj Close|\n",
      "+----------+------------------+----------+----------+----------+---------+------------------+\n",
      "|2010-01-22|206.78000600000001|207.499996|    197.16|    197.75|220441900|         25.620401|\n",
      "|2010-01-28|        204.930004|205.500004|198.699995|199.289995|293375600|25.819922000000002|\n",
      "|2010-01-29|        201.079996|202.199995|190.250002|192.060003|311488100|         24.883208|\n",
      "+----------+------------------+----------+----------+----------+---------+------------------+\n",
      "\n"
     ]
    }
   ],
   "source": [
    "filtered_df = df.filter((df['Open'] > 200) & (df['Close'] < 200))\n",
    "filtered_df.show()"
   ]
  },
  {
   "cell_type": "code",
   "execution_count": 7,
   "metadata": {},
   "outputs": [
    {
     "name": "stdout",
     "output_type": "stream",
     "text": [
      "+----+----------+------------------+------------------+------------------+------------------+---------+------------------+\n",
      "|Year|      Date|              Open|              High|               Low|             Close|   Volume|         Adj Close|\n",
      "+----+----------+------------------+------------------+------------------+------------------+---------+------------------+\n",
      "|2010|2010-01-04|        213.429998|        214.499996|212.38000099999996|        214.009998|123432400|         27.727039|\n",
      "|2010|2010-01-05|        214.599998|        215.589994|        213.249994|        214.379993|150476200|27.774976000000002|\n",
      "|2010|2010-01-06|        214.379993|            215.23|        210.750004|        210.969995|138040000|27.333178000000004|\n",
      "|2010|2010-01-07|            211.75|        212.000006|        209.050005|            210.58|119282800|          27.28265|\n",
      "|2010|2010-01-08|        210.299994|        212.000006|209.06000500000002|211.98000499999998|111902700|         27.464034|\n",
      "|2010|2010-01-11|212.79999700000002|        213.000002|        208.450005|210.11000299999998|115557400|         27.221758|\n",
      "|2010|2010-01-12|209.18999499999998|209.76999500000002|        206.419998|        207.720001|148614900|          26.91211|\n",
      "|2010|2010-01-13|        207.870005|210.92999500000002|        204.099998|        210.650002|151473000|          27.29172|\n",
      "|2010|2010-01-14|210.11000299999998|210.45999700000002|        209.020004|            209.43|108223500|         27.133657|\n",
      "|2010|2010-01-15|210.92999500000002|211.59999700000003|        205.869999|            205.93|148516900|26.680197999999997|\n",
      "|2010|2010-01-19|        208.330002|215.18999900000003|        207.240004|        215.039995|182501900|27.860484999999997|\n",
      "|2010|2010-01-20|        214.910006|        215.549994|        209.500002|            211.73|153038200|         27.431644|\n",
      "|2010|2010-01-21|        212.079994|213.30999599999998|        207.210003|        208.069996|152038600|         26.957455|\n",
      "|2010|2010-01-22|206.78000600000001|        207.499996|            197.16|            197.75|220441900|         25.620401|\n",
      "|2010|2010-01-25|202.51000200000001|        204.699999|        200.190002|        203.070002|266424900|26.309658000000002|\n",
      "|2010|2010-01-26|205.95000100000001|        213.710005|        202.580004|        205.940001|466777500|         26.681494|\n",
      "|2010|2010-01-27|        206.849995|            210.58|        199.530001|        207.880005|430642100|26.932840000000002|\n",
      "|2010|2010-01-28|        204.930004|        205.500004|        198.699995|        199.289995|293375600|25.819922000000002|\n",
      "|2010|2010-01-29|        201.079996|        202.199995|        190.250002|        192.060003|311488100|         24.883208|\n",
      "|2010|2010-02-01|192.36999699999998|             196.0|191.29999899999999|        194.729998|187469100|         25.229131|\n",
      "+----+----------+------------------+------------------+------------------+------------------+---------+------------------+\n",
      "only showing top 20 rows\n",
      "\n"
     ]
    }
   ],
   "source": [
    "\n",
    "df_with_year = df.withColumn('Year', pyfunc.year(df['Date']), )\n",
    "df_with_year = df_with_year.select('Year', 'Date', 'Open', 'High', 'Low', 'Close', 'Volume', 'Adj Close')\n",
    "\n",
    "df_with_year.show()"
   ]
  },
  {
   "cell_type": "code",
   "execution_count": 8,
   "metadata": {},
   "outputs": [
    {
     "name": "stderr",
     "output_type": "stream",
     "text": [
      "[Stage 5:>                                                          (0 + 1) / 1]\r"
     ]
    },
    {
     "name": "stdout",
     "output_type": "stream",
     "text": [
      "+----+---------+\n",
      "|Year|minVolume|\n",
      "+----+---------+\n",
      "|2010|100901500|\n",
      "|2011|100110500|\n",
      "|2012|100023000|\n",
      "|2013|100345700|\n",
      "|2014|100092000|\n",
      "|2015|101217500|\n",
      "|2016|110888700|\n",
      "+----+---------+\n",
      "\n"
     ]
    },
    {
     "name": "stderr",
     "output_type": "stream",
     "text": [
      "                                                                                \r"
     ]
    }
   ],
   "source": [
    "min_volumes = df_with_year.groupBy('Year').agg(pyfunc.min('Volume').alias('minVolume'))\n",
    "min_volumes.show()\n"
   ]
  },
  {
   "cell_type": "code",
   "execution_count": 9,
   "metadata": {},
   "outputs": [
    {
     "name": "stdout",
     "output_type": "stream",
     "text": [
      "+----+-----+------------------+\n",
      "|Year|Month|            maxLow|\n",
      "+----+-----+------------------+\n",
      "|2010|    1|        213.249994|\n",
      "|2010|    2|        202.000004|\n",
      "|2010|    3|        234.459999|\n",
      "|2010|    4|268.19001000000003|\n",
      "|2010|    5|        262.880009|\n",
      "|2010|    6|        271.499992|\n",
      "|2010|    7|        260.300003|\n",
      "|2010|    8|        260.549995|\n",
      "|2010|    9|        291.009998|\n",
      "|2010|   10|        314.289997|\n",
      "|2010|   11|        316.759987|\n",
      "|2010|   12|        325.099991|\n",
      "|2011|    1|        344.440006|\n",
      "|2011|    2|             360.5|\n",
      "|2011|    3|        357.750004|\n",
      "|2011|    4|        350.300007|\n",
      "|2011|    5|        346.880009|\n",
      "|2011|    6|        344.649998|\n",
      "|2011|    7|399.67998900000003|\n",
      "|2011|    8|        392.369995|\n",
      "+----+-----+------------------+\n",
      "only showing top 20 rows\n",
      "\n"
     ]
    }
   ],
   "source": [
    "df_with_year_month = df_with_year.withColumn('Month', pyfunc.month(df_with_year['Date']))\n",
    "maxLow = df_with_year_month.groupBy('Year', 'Month').agg(pyfunc.max('Low').alias('maxLow'))\n",
    "maxLow.show()"
   ]
  },
  {
   "cell_type": "code",
   "execution_count": 10,
   "metadata": {},
   "outputs": [
    {
     "name": "stdout",
     "output_type": "stream",
     "text": [
      "Mean High Price: 315.91\n",
      "Standard Deviation of High Price: 186.90\n"
     ]
    }
   ],
   "source": [
    "mean_high = df.select(pyfunc.mean('High')).first()[0]\n",
    "stddev_high = df.select(pyfunc.stddev('High')).first()[0]\n",
    "\n",
    "print(f\"Mean High Price: {mean_high:.2f}\")\n",
    "print(f\"Standard Deviation of High Price: {stddev_high:.2f}\")"
   ]
  },
  {
   "cell_type": "code",
   "execution_count": 11,
   "metadata": {},
   "outputs": [
    {
     "name": "stdout",
     "output_type": "stream",
     "text": [
      "root\n",
      " |-- Date: string (nullable = true)\n",
      " |-- Open: string (nullable = true)\n",
      " |-- High: string (nullable = true)\n",
      " |-- Low: string (nullable = true)\n",
      " |-- Close: string (nullable = true)\n",
      " |-- Volume: string (nullable = true)\n",
      " |-- Adj Close: string (nullable = true)\n",
      "\n"
     ]
    },
    {
     "name": "stderr",
     "output_type": "stream",
     "text": [
      "24/04/15 09:44:40 WARN GarbageCollectionMetrics: To enable non-built-in garbage collector(s) List(G1 Concurrent GC), users should configure it(them) to spark.eventLog.gcMetrics.youngGenerationGarbageCollectors or spark.eventLog.gcMetrics.oldGenerationGarbageCollectors\n"
     ]
    }
   ],
   "source": [
    "df.printSchema()"
   ]
  },
  {
   "cell_type": "code",
   "execution_count": null,
   "metadata": {},
   "outputs": [],
   "source": []
  }
 ],
 "metadata": {
  "kernelspec": {
   "display_name": "Python 3",
   "language": "python",
   "name": "python3"
  },
  "language_info": {
   "codemirror_mode": {
    "name": "ipython",
    "version": 3
   },
   "file_extension": ".py",
   "mimetype": "text/x-python",
   "name": "python",
   "nbconvert_exporter": "python",
   "pygments_lexer": "ipython3",
   "version": "3.10.13"
  }
 },
 "nbformat": 4,
 "nbformat_minor": 2
}
