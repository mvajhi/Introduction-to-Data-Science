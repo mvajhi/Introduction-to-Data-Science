{
  "nbformat": 4,
  "nbformat_minor": 0,
  "metadata": {
    "colab": {
      "provenance": []
    },
    "kernelspec": {
      "name": "python3",
      "display_name": "Python 3"
    },
    "language_info": {
      "name": "python"
    }
  },
  "cells": [
    {
      "cell_type": "code",
      "execution_count": 2,
      "metadata": {
        "colab": {
          "base_uri": "https://localhost:8080/",
          "height": 17
        },
        "id": "FDy6cUUyxL-D",
        "outputId": "5ffe0945-68dd-4595-9976-333f248344c8"
      },
      "outputs": [
        {
          "output_type": "display_data",
          "data": {
            "text/plain": [
              "<IPython.core.display.HTML object>"
            ],
            "text/html": [
              "<style>pre { white-space: pre !important; }</style>"
            ]
          },
          "metadata": {}
        }
      ],
      "source": [
        "from IPython.display import display, HTML\n",
        "import pyspark\n",
        "from pyspark.sql import SparkSession\n",
        "import pyspark.sql.functions as pyfunc\n",
        "import pyspark.sql.types as pytype\n",
        "display(HTML('<style>pre { white-space: pre !important; }</style>'))\n",
        "from pyspark.sql.functions import when\n",
        "from pyspark.sql.functions import col\n",
        "from pyspark.sql.functions import expr\n",
        "from pyspark.sql.functions import sum,avg,max,count\n",
        "from pyspark.sql.functions import desc, sum, asc\n"
      ]
    },
    {
      "cell_type": "code",
      "source": [
        "!pip install pyspark"
      ],
      "metadata": {
        "colab": {
          "base_uri": "https://localhost:8080/"
        },
        "id": "dpyo7gQDpdpx",
        "outputId": "b762104b-967d-488d-d848-2477a8d4f6ed"
      },
      "execution_count": 1,
      "outputs": [
        {
          "output_type": "stream",
          "name": "stdout",
          "text": [
            "Collecting pyspark\n",
            "  Downloading pyspark-3.5.1.tar.gz (317.0 MB)\n",
            "\u001b[2K     \u001b[90m━━━━━━━━━━━━━━━━━━━━━━━━━━━━━━━━━━━━━━━━\u001b[0m \u001b[32m317.0/317.0 MB\u001b[0m \u001b[31m1.5 MB/s\u001b[0m eta \u001b[36m0:00:00\u001b[0m\n",
            "\u001b[?25h  Preparing metadata (setup.py) ... \u001b[?25l\u001b[?25hdone\n",
            "Requirement already satisfied: py4j==0.10.9.7 in /usr/local/lib/python3.10/dist-packages (from pyspark) (0.10.9.7)\n",
            "Building wheels for collected packages: pyspark\n",
            "  Building wheel for pyspark (setup.py) ... \u001b[?25l\u001b[?25hdone\n",
            "  Created wheel for pyspark: filename=pyspark-3.5.1-py2.py3-none-any.whl size=317488491 sha256=f1e840dc6e464b2c619435a24d1046eaca918865bae9ba7835371913ec2b7a3d\n",
            "  Stored in directory: /root/.cache/pip/wheels/80/1d/60/2c256ed38dddce2fdd93be545214a63e02fbd8d74fb0b7f3a6\n",
            "Successfully built pyspark\n",
            "Installing collected packages: pyspark\n",
            "Successfully installed pyspark-3.5.1\n"
          ]
        }
      ]
    },
    {
      "cell_type": "code",
      "source": [
        "spark = SparkSession.builder.getOrCreate()\n",
        "spotify_df = spark.read.parquet(\"/content/drive/MyDrive/files/spotify.parquet\")\n",
        "spotify_df.printSchema()"
      ],
      "metadata": {
        "colab": {
          "base_uri": "https://localhost:8080/"
        },
        "id": "L7V-x6Ec07dB",
        "outputId": "5ae68ae5-a761-43c8-c6b1-6e7ec8ab7d9a"
      },
      "execution_count": 3,
      "outputs": [
        {
          "output_type": "stream",
          "name": "stdout",
          "text": [
            "root\n",
            " |-- id: string (nullable = true)\n",
            " |-- name: string (nullable = true)\n",
            " |-- album: string (nullable = true)\n",
            " |-- album_id: string (nullable = true)\n",
            " |-- artists: string (nullable = true)\n",
            " |-- artist_ids: string (nullable = true)\n",
            " |-- track_number: long (nullable = true)\n",
            " |-- disc_number: long (nullable = true)\n",
            " |-- explicit: boolean (nullable = true)\n",
            " |-- danceability: double (nullable = true)\n",
            " |-- energy: double (nullable = true)\n",
            " |-- key: long (nullable = true)\n",
            " |-- loudness: double (nullable = true)\n",
            " |-- mode: long (nullable = true)\n",
            " |-- speechiness: double (nullable = true)\n",
            " |-- acousticness: double (nullable = true)\n",
            " |-- instrumentalness: double (nullable = true)\n",
            " |-- liveness: double (nullable = true)\n",
            " |-- valence: double (nullable = true)\n",
            " |-- tempo: double (nullable = true)\n",
            " |-- duration_ms: long (nullable = true)\n",
            " |-- time_signature: double (nullable = true)\n",
            " |-- year: long (nullable = true)\n",
            " |-- release_date: string (nullable = true)\n",
            "\n"
          ]
        }
      ]
    },
    {
      "cell_type": "code",
      "source": [
        "spotify_df.show()"
      ],
      "metadata": {
        "colab": {
          "base_uri": "https://localhost:8080/"
        },
        "id": "eka6J13Y6jtF",
        "outputId": "e34822cd-3ee3-4bd8-9e73-e94975476da1"
      },
      "execution_count": null,
      "outputs": [
        {
          "output_type": "stream",
          "name": "stdout",
          "text": [
            "+--------------------+--------------------+--------------------+--------------------+--------------------+--------------------+------------+-----------+--------+------------------+------------------+---+-------------------+----+-----------+-----------------+--------------------+------------------+------------------+------------------+-----------+--------------+----+------------+\n",
            "|                  id|                name|               album|            album_id|             artists|          artist_ids|track_number|disc_number|explicit|      danceability|            energy|key|           loudness|mode|speechiness|     acousticness|    instrumentalness|          liveness|           valence|             tempo|duration_ms|time_signature|year|release_date|\n",
            "+--------------------+--------------------+--------------------+--------------------+--------------------+--------------------+------------+-----------+--------+------------------+------------------+---+-------------------+----+-----------+-----------------+--------------------+------------------+------------------+------------------+-----------+--------------+----+------------+\n",
            "|7lmeHLHBe4nmXzuXc...|             Testify|The Battle Of Los...|2eia0myWFgoHuttJy...|['Rage Against Th...|['2d0hyoQ5ynDBnkv...|           1|          1|   false|              0.47|             0.978|  7|             -5.399|   1|     0.0727|           0.0261|             1.09E-5|             0.356|             0.503|           117.906|     210133|           4.0|1999|  1999-11-02|\n",
            "|1wsRitfRRtWyEapl0...|     Guerrilla Radio|The Battle Of Los...|2eia0myWFgoHuttJy...|['Rage Against Th...|['2d0hyoQ5ynDBnkv...|           2|          1|    true|             0.599|             0.957| 11| -5.763999999999999|   1|      0.188|           0.0129|             7.06E-5|             0.155|             0.489|            103.68|     206200|           4.0|1999|  1999-11-02|\n",
            "|1hR0fIFK2qRG3f3RF...|    Calm Like a Bomb|The Battle Of Los...|2eia0myWFgoHuttJy...|['Rage Against Th...|['2d0hyoQ5ynDBnkv...|           3|          1|   false|             0.315|              0.97|  7|             -5.424|   1|      0.483|           0.0234|             2.03E-6|             0.122|              0.37|           149.749|     298893|           4.0|1999|  1999-11-02|\n",
            "|2lbASgTSoDO7MTuLA...|           Mic Check|The Battle Of Los...|2eia0myWFgoHuttJy...|['Rage Against Th...|['2d0hyoQ5ynDBnkv...|           4|          1|    true|              0.44|             0.967| 11|              -5.83|   0|      0.237|            0.163|             3.64E-6|             0.121|             0.574|            96.752|     213640|           4.0|1999|  1999-11-02|\n",
            "|1MQTmpYOZ6fcMQc56...|Sleep Now In the ...|The Battle Of Los...|2eia0myWFgoHuttJy...|['Rage Against Th...|['2d0hyoQ5ynDBnkv...|           5|          1|   false|             0.426|             0.929|  2|             -6.729|   1|     0.0701|          0.00162|               0.105|            0.0789|             0.539|           127.059|     205600|           4.0|1999|  1999-11-02|\n",
            "|2LXPNLSMAauNJfnC5...|Born of a Broken Man|The Battle Of Los...|2eia0myWFgoHuttJy...|['Rage Against Th...|['2d0hyoQ5ynDBnkv...|           6|          1|   false|             0.298|             0.848|  2|             -5.947|   1|     0.0727|           0.0538|  0.0015199999999999|             0.201|0.1939999999999999|           148.282|     280960|           4.0|1999|  1999-11-02|\n",
            "|3moeHk8eIajvUEzVo...|      Born As Ghosts|The Battle Of Los...|2eia0myWFgoHuttJy...|['Rage Against Th...|['2d0hyoQ5ynDBnkv...|           7|          1|   false|             0.417|             0.976|  9|             -6.032|   1|      0.175|4.269999999999E-4|             1.34E-4|             0.107|             0.483|            90.395|     202040|           4.0|1999|  1999-11-02|\n",
            "|4llunZfVXv3NvUzXV...|               Maria|The Battle Of Los...|2eia0myWFgoHuttJy...|['Rage Against Th...|['2d0hyoQ5ynDBnkv...|           8|          1|   false|0.2769999999999999|             0.873| 11|-6.5710000000000015|   0|     0.0883|          0.00694|5.400000000000001E-5|             0.188|             0.618|172.84799999999996|     228093|           4.0|1999|  1999-11-02|\n",
            "|21Mq0NzFoVRvOmLTO...|Voice of the Voic...|The Battle Of Los...|2eia0myWFgoHuttJy...|['Rage Against Th...|['2d0hyoQ5ynDBnkv...|           9|          1|   false|             0.441|             0.882|  7| -7.362999999999999|   1|      0.044|           0.0195|             0.00684|              0.15|             0.418| 83.37100000000002|     151573|           4.0|1999|  1999-11-02|\n",
            "|6s2FgJbnnMwFTpWJZ...|New Millennium Homes|The Battle Of Los...|2eia0myWFgoHuttJy...|['Rage Against Th...|['2d0hyoQ5ynDBnkv...|          10|          1|   false|0.4479999999999999|             0.861|  9|              -6.12|   1|     0.0676|          0.00306|                 0.0|            0.0987|0.7609999999999999|            92.777|     224933|           4.0|1999|  1999-11-02|\n",
            "|7o2Razxnl33Jrgz4P...|   Ashes In the Fall|The Battle Of Los...|2eia0myWFgoHuttJy...|['Rage Against Th...|['2d0hyoQ5ynDBnkv...|          11|          1|    true|             0.456|0.7040000000000001|  7|             -6.687|   1|     0.0982|           0.0052|             4.12E-6|            0.0595|0.6559999999999999|           140.629|     277267|           4.0|1999|  1999-11-02|\n",
            "|3Hxu3Ey1TV9mZ5XqM...| War Within a Breath|The Battle Of Los...|2eia0myWFgoHuttJy...|['Rage Against Th...|['2d0hyoQ5ynDBnkv...|          12|          1|   false|0.3989999999999999|             0.965|  6|             -5.901|   1|      0.143|          0.00442|              0.0314|0.3670000000000001|             0.174|            98.464|     216427|           4.0|1999|  1999-11-02|\n",
            "|6ZU9RJIZ0fNaFuQM5...|           Bombtrack|Rage Against The ...|4LaRYkT4oy47wEuQg...|['Rage Against Th...|['2d0hyoQ5ynDBnkv...|           1|          1|    true|             0.478|             0.855|  4|             -7.438|   0|      0.121|           0.0134|             3.18E-5|             0.179|0.6679999999999999|            151.93|     243760|           4.0|1992|  1992-11-03|\n",
            "|3FUS56gKr9mVBmzvl...| Killing In the Name|Rage Against The ...|4LaRYkT4oy47wEuQg...|['Rage Against Th...|['2d0hyoQ5ynDBnkv...|           2|          1|    true|             0.457|             0.779|  7|             -6.323|   1|      0.257|           0.0185|             2.04E-6|            0.0247|0.7340000000000001|            86.573|     313667|           4.0|1992|  1992-11-03|\n",
            "|3tTL7jlSkowXidYea...| Take the Power Back|Rage Against The ...|4LaRYkT4oy47wEuQg...|['Rage Against Th...|['2d0hyoQ5ynDBnkv...|           3|          1|    true|             0.542|0.8420000000000001|  1|-7.1370000000000005|   1|      0.173|            0.043|             1.53E-4|             0.173|             0.301|           104.772|     335840|           4.0|1992|  1992-11-03|\n",
            "|2vuDdXqekkDCSdawJ...|  Settle for Nothing|Rage Against The ...|4LaRYkT4oy47wEuQg...|['Rage Against Th...|['2d0hyoQ5ynDBnkv...|           4|          1|   false|             0.516|0.5329999999999999|  7|             -9.563|   1|     0.0429|           0.0253|             4.71E-5|             0.113|              0.29|            97.732|     287333|           4.0|1992|  1992-11-03|\n",
            "|11cxKUEgnVAlesUKt...|  Bullet In the Head|Rage Against The ...|4LaRYkT4oy47wEuQg...|['Rage Against Th...|['2d0hyoQ5ynDBnkv...|           5|          1|    true|             0.418|0.8059999999999999|  4|             -6.965|   1|      0.128|           0.0032|             7.88E-4|             0.623|             0.447|           164.202|     307067|           4.0|1992|  1992-11-03|\n",
            "|1IDAJagxB9AQjjYXa...|     Know Your Enemy|Rage Against The ...|4LaRYkT4oy47wEuQg...|['Rage Against Th...|['2d0hyoQ5ynDBnkv...|           6|          1|    true|             0.574|             0.765|  4|             -7.755|   1|      0.128|           0.0141|  0.0037799999999999|             0.136|             0.613|           117.636|     294693|           4.0|1992|  1992-11-03|\n",
            "|6zbHSDJjgrNdfIxPy...|             Wake Up|Rage Against The ...|4LaRYkT4oy47wEuQg...|['Rage Against Th...|['2d0hyoQ5ynDBnkv...|           7|          1|   false|             0.411|             0.823|  7|-7.5539999999999985|   1|      0.115|          0.00316|              0.0148|             0.149|             0.573|170.28099999999995|     364133|           4.0|1992|  1992-11-03|\n",
            "|3YEk8mVdMI7rxtfim...|    Fistful of Steel|Rage Against The ...|4LaRYkT4oy47wEuQg...|['Rage Against Th...|['2d0hyoQ5ynDBnkv...|           8|          1|   false|              0.52|             0.755|  4|             -9.031|   0|      0.134|           0.0195|                0.34|            0.0956|             0.608|           155.513|     331107|           4.0|1992|  1992-11-03|\n",
            "+--------------------+--------------------+--------------------+--------------------+--------------------+--------------------+------------+-----------+--------+------------------+------------------+---+-------------------+----+-----------+-----------------+--------------------+------------------+------------------+------------------+-----------+--------------+----+------------+\n",
            "only showing top 20 rows\n",
            "\n"
          ]
        }
      ]
    },
    {
      "cell_type": "code",
      "source": [
        "spotify_df.select('disc_number').distinct().collect()"
      ],
      "metadata": {
        "colab": {
          "base_uri": "https://localhost:8080/"
        },
        "id": "tDfJzGlBA-CQ",
        "outputId": "3d83f73e-a9b9-455c-c96b-a2cfe95c2b2e"
      },
      "execution_count": null,
      "outputs": [
        {
          "output_type": "execute_result",
          "data": {
            "text/plain": [
              "[Row(disc_number=7),\n",
              " Row(disc_number=6),\n",
              " Row(disc_number=9),\n",
              " Row(disc_number=5),\n",
              " Row(disc_number=1),\n",
              " Row(disc_number=10),\n",
              " Row(disc_number=3),\n",
              " Row(disc_number=12),\n",
              " Row(disc_number=8),\n",
              " Row(disc_number=11),\n",
              " Row(disc_number=2),\n",
              " Row(disc_number=4),\n",
              " Row(disc_number=13)]"
            ]
          },
          "metadata": {},
          "execution_count": 64
        }
      ]
    },
    {
      "cell_type": "code",
      "source": [
        "df = spotify_df.withColumn(\"release_date\", pyfunc.to_date(spotify_df.release_date, \"yyyy-MM-dd\"))\n",
        "df = df.withColumn(\"artists\", pyfunc.from_json(pyfunc.col(\"artists\"), pytype.ArrayType(pytype.StringType())))\n",
        "df = df.withColumn(\"artist_ids\", pyfunc.from_json(pyfunc.col(\"artist_ids\"), pytype.ArrayType(pytype.StringType())))\n",
        "# df = df.drop('year')\n",
        "df.printSchema()"
      ],
      "metadata": {
        "colab": {
          "base_uri": "https://localhost:8080/"
        },
        "id": "DNtGp2R_BAzY",
        "outputId": "9326c0ee-38fd-4133-c63d-8240cdce209a"
      },
      "execution_count": null,
      "outputs": [
        {
          "output_type": "stream",
          "name": "stdout",
          "text": [
            "root\n",
            " |-- id: string (nullable = true)\n",
            " |-- name: string (nullable = true)\n",
            " |-- album: string (nullable = true)\n",
            " |-- album_id: string (nullable = true)\n",
            " |-- artists: array (nullable = true)\n",
            " |    |-- element: string (containsNull = true)\n",
            " |-- artist_ids: array (nullable = true)\n",
            " |    |-- element: string (containsNull = true)\n",
            " |-- track_number: long (nullable = true)\n",
            " |-- disc_number: long (nullable = true)\n",
            " |-- explicit: boolean (nullable = true)\n",
            " |-- danceability: double (nullable = true)\n",
            " |-- energy: double (nullable = true)\n",
            " |-- key: long (nullable = true)\n",
            " |-- loudness: double (nullable = true)\n",
            " |-- mode: long (nullable = true)\n",
            " |-- speechiness: double (nullable = true)\n",
            " |-- acousticness: double (nullable = true)\n",
            " |-- instrumentalness: double (nullable = true)\n",
            " |-- liveness: double (nullable = true)\n",
            " |-- valence: double (nullable = true)\n",
            " |-- tempo: double (nullable = true)\n",
            " |-- duration_ms: long (nullable = true)\n",
            " |-- time_signature: double (nullable = true)\n",
            " |-- year: long (nullable = true)\n",
            " |-- release_date: date (nullable = true)\n",
            "\n"
          ]
        }
      ]
    },
    {
      "cell_type": "code",
      "source": [
        "first_row = df.filter(df.year == 2014).first()\n",
        "print(first_row['artists'][0])\n",
        "print(first_row['artists'][1])"
      ],
      "metadata": {
        "colab": {
          "base_uri": "https://localhost:8080/"
        },
        "id": "eZIsH6UJBJpK",
        "outputId": "9063038a-c759-408f-aa1b-baed1dc0bb58"
      },
      "execution_count": null,
      "outputs": [
        {
          "output_type": "stream",
          "name": "stdout",
          "text": [
            "Mauricio Kagel\n",
            "Ensemble Musikfabrik\n"
          ]
        }
      ]
    },
    {
      "cell_type": "code",
      "source": [
        "df.show()"
      ],
      "metadata": {
        "colab": {
          "base_uri": "https://localhost:8080/"
        },
        "id": "BlfSK4mqBNGE",
        "outputId": "2a5a6537-8b1c-4be9-ee22-3d1ad58e6702"
      },
      "execution_count": null,
      "outputs": [
        {
          "output_type": "stream",
          "name": "stdout",
          "text": [
            "+--------------------+--------------------+--------------------+--------------------+--------------------+--------------------+------------+-----------+--------+------------------+------------------+---+-------------------+----+-----------+-----------------+--------------------+------------------+------------------+------------------+-----------+--------------+----+------------+\n",
            "|                  id|                name|               album|            album_id|             artists|          artist_ids|track_number|disc_number|explicit|      danceability|            energy|key|           loudness|mode|speechiness|     acousticness|    instrumentalness|          liveness|           valence|             tempo|duration_ms|time_signature|year|release_date|\n",
            "+--------------------+--------------------+--------------------+--------------------+--------------------+--------------------+------------+-----------+--------+------------------+------------------+---+-------------------+----+-----------+-----------------+--------------------+------------------+------------------+------------------+-----------+--------------+----+------------+\n",
            "|7lmeHLHBe4nmXzuXc...|             Testify|The Battle Of Los...|2eia0myWFgoHuttJy...|[Rage Against The...|[2d0hyoQ5ynDBnkvA...|           1|          1|   false|              0.47|             0.978|  7|             -5.399|   1|     0.0727|           0.0261|             1.09E-5|             0.356|             0.503|           117.906|     210133|           4.0|1999|  1999-11-02|\n",
            "|1wsRitfRRtWyEapl0...|     Guerrilla Radio|The Battle Of Los...|2eia0myWFgoHuttJy...|[Rage Against The...|[2d0hyoQ5ynDBnkvA...|           2|          1|    true|             0.599|             0.957| 11| -5.763999999999999|   1|      0.188|           0.0129|             7.06E-5|             0.155|             0.489|            103.68|     206200|           4.0|1999|  1999-11-02|\n",
            "|1hR0fIFK2qRG3f3RF...|    Calm Like a Bomb|The Battle Of Los...|2eia0myWFgoHuttJy...|[Rage Against The...|[2d0hyoQ5ynDBnkvA...|           3|          1|   false|             0.315|              0.97|  7|             -5.424|   1|      0.483|           0.0234|             2.03E-6|             0.122|              0.37|           149.749|     298893|           4.0|1999|  1999-11-02|\n",
            "|2lbASgTSoDO7MTuLA...|           Mic Check|The Battle Of Los...|2eia0myWFgoHuttJy...|[Rage Against The...|[2d0hyoQ5ynDBnkvA...|           4|          1|    true|              0.44|             0.967| 11|              -5.83|   0|      0.237|            0.163|             3.64E-6|             0.121|             0.574|            96.752|     213640|           4.0|1999|  1999-11-02|\n",
            "|1MQTmpYOZ6fcMQc56...|Sleep Now In the ...|The Battle Of Los...|2eia0myWFgoHuttJy...|[Rage Against The...|[2d0hyoQ5ynDBnkvA...|           5|          1|   false|             0.426|             0.929|  2|             -6.729|   1|     0.0701|          0.00162|               0.105|            0.0789|             0.539|           127.059|     205600|           4.0|1999|  1999-11-02|\n",
            "|2LXPNLSMAauNJfnC5...|Born of a Broken Man|The Battle Of Los...|2eia0myWFgoHuttJy...|[Rage Against The...|[2d0hyoQ5ynDBnkvA...|           6|          1|   false|             0.298|             0.848|  2|             -5.947|   1|     0.0727|           0.0538|  0.0015199999999999|             0.201|0.1939999999999999|           148.282|     280960|           4.0|1999|  1999-11-02|\n",
            "|3moeHk8eIajvUEzVo...|      Born As Ghosts|The Battle Of Los...|2eia0myWFgoHuttJy...|[Rage Against The...|[2d0hyoQ5ynDBnkvA...|           7|          1|   false|             0.417|             0.976|  9|             -6.032|   1|      0.175|4.269999999999E-4|             1.34E-4|             0.107|             0.483|            90.395|     202040|           4.0|1999|  1999-11-02|\n",
            "|4llunZfVXv3NvUzXV...|               Maria|The Battle Of Los...|2eia0myWFgoHuttJy...|[Rage Against The...|[2d0hyoQ5ynDBnkvA...|           8|          1|   false|0.2769999999999999|             0.873| 11|-6.5710000000000015|   0|     0.0883|          0.00694|5.400000000000001E-5|             0.188|             0.618|172.84799999999996|     228093|           4.0|1999|  1999-11-02|\n",
            "|21Mq0NzFoVRvOmLTO...|Voice of the Voic...|The Battle Of Los...|2eia0myWFgoHuttJy...|[Rage Against The...|[2d0hyoQ5ynDBnkvA...|           9|          1|   false|             0.441|             0.882|  7| -7.362999999999999|   1|      0.044|           0.0195|             0.00684|              0.15|             0.418| 83.37100000000002|     151573|           4.0|1999|  1999-11-02|\n",
            "|6s2FgJbnnMwFTpWJZ...|New Millennium Homes|The Battle Of Los...|2eia0myWFgoHuttJy...|[Rage Against The...|[2d0hyoQ5ynDBnkvA...|          10|          1|   false|0.4479999999999999|             0.861|  9|              -6.12|   1|     0.0676|          0.00306|                 0.0|            0.0987|0.7609999999999999|            92.777|     224933|           4.0|1999|  1999-11-02|\n",
            "|7o2Razxnl33Jrgz4P...|   Ashes In the Fall|The Battle Of Los...|2eia0myWFgoHuttJy...|[Rage Against The...|[2d0hyoQ5ynDBnkvA...|          11|          1|    true|             0.456|0.7040000000000001|  7|             -6.687|   1|     0.0982|           0.0052|             4.12E-6|            0.0595|0.6559999999999999|           140.629|     277267|           4.0|1999|  1999-11-02|\n",
            "|3Hxu3Ey1TV9mZ5XqM...| War Within a Breath|The Battle Of Los...|2eia0myWFgoHuttJy...|[Rage Against The...|[2d0hyoQ5ynDBnkvA...|          12|          1|   false|0.3989999999999999|             0.965|  6|             -5.901|   1|      0.143|          0.00442|              0.0314|0.3670000000000001|             0.174|            98.464|     216427|           4.0|1999|  1999-11-02|\n",
            "|6ZU9RJIZ0fNaFuQM5...|           Bombtrack|Rage Against The ...|4LaRYkT4oy47wEuQg...|[Rage Against The...|[2d0hyoQ5ynDBnkvA...|           1|          1|    true|             0.478|             0.855|  4|             -7.438|   0|      0.121|           0.0134|             3.18E-5|             0.179|0.6679999999999999|            151.93|     243760|           4.0|1992|  1992-11-03|\n",
            "|3FUS56gKr9mVBmzvl...| Killing In the Name|Rage Against The ...|4LaRYkT4oy47wEuQg...|[Rage Against The...|[2d0hyoQ5ynDBnkvA...|           2|          1|    true|             0.457|             0.779|  7|             -6.323|   1|      0.257|           0.0185|             2.04E-6|            0.0247|0.7340000000000001|            86.573|     313667|           4.0|1992|  1992-11-03|\n",
            "|3tTL7jlSkowXidYea...| Take the Power Back|Rage Against The ...|4LaRYkT4oy47wEuQg...|[Rage Against The...|[2d0hyoQ5ynDBnkvA...|           3|          1|    true|             0.542|0.8420000000000001|  1|-7.1370000000000005|   1|      0.173|            0.043|             1.53E-4|             0.173|             0.301|           104.772|     335840|           4.0|1992|  1992-11-03|\n",
            "|2vuDdXqekkDCSdawJ...|  Settle for Nothing|Rage Against The ...|4LaRYkT4oy47wEuQg...|[Rage Against The...|[2d0hyoQ5ynDBnkvA...|           4|          1|   false|             0.516|0.5329999999999999|  7|             -9.563|   1|     0.0429|           0.0253|             4.71E-5|             0.113|              0.29|            97.732|     287333|           4.0|1992|  1992-11-03|\n",
            "|11cxKUEgnVAlesUKt...|  Bullet In the Head|Rage Against The ...|4LaRYkT4oy47wEuQg...|[Rage Against The...|[2d0hyoQ5ynDBnkvA...|           5|          1|    true|             0.418|0.8059999999999999|  4|             -6.965|   1|      0.128|           0.0032|             7.88E-4|             0.623|             0.447|           164.202|     307067|           4.0|1992|  1992-11-03|\n",
            "|1IDAJagxB9AQjjYXa...|     Know Your Enemy|Rage Against The ...|4LaRYkT4oy47wEuQg...|[Rage Against The...|[2d0hyoQ5ynDBnkvA...|           6|          1|    true|             0.574|             0.765|  4|             -7.755|   1|      0.128|           0.0141|  0.0037799999999999|             0.136|             0.613|           117.636|     294693|           4.0|1992|  1992-11-03|\n",
            "|6zbHSDJjgrNdfIxPy...|             Wake Up|Rage Against The ...|4LaRYkT4oy47wEuQg...|[Rage Against The...|[2d0hyoQ5ynDBnkvA...|           7|          1|   false|             0.411|             0.823|  7|-7.5539999999999985|   1|      0.115|          0.00316|              0.0148|             0.149|             0.573|170.28099999999995|     364133|           4.0|1992|  1992-11-03|\n",
            "|3YEk8mVdMI7rxtfim...|    Fistful of Steel|Rage Against The ...|4LaRYkT4oy47wEuQg...|[Rage Against The...|[2d0hyoQ5ynDBnkvA...|           8|          1|   false|              0.52|             0.755|  4|             -9.031|   0|      0.134|           0.0195|                0.34|            0.0956|             0.608|           155.513|     331107|           4.0|1992|  1992-11-03|\n",
            "+--------------------+--------------------+--------------------+--------------------+--------------------+--------------------+------------+-----------+--------+------------------+------------------+---+-------------------+----+-----------+-----------------+--------------------+------------------+------------------+------------------+-----------+--------------+----+------------+\n",
            "only showing top 20 rows\n",
            "\n"
          ]
        }
      ]
    },
    {
      "cell_type": "code",
      "source": [
        "first_row = df.first()\n",
        "print(first_row['artists'])"
      ],
      "metadata": {
        "colab": {
          "base_uri": "https://localhost:8080/"
        },
        "id": "rgxq8xSTBQo5",
        "outputId": "3caf2d0b-cb2c-4f8e-c576-f87025ac25bf"
      },
      "execution_count": null,
      "outputs": [
        {
          "output_type": "stream",
          "name": "stdout",
          "text": [
            "['Rage Against The Machine']\n"
          ]
        }
      ]
    },
    {
      "cell_type": "code",
      "source": [
        "first_row = spotify_df.filter(df.year == 2014).first()\n",
        "print(first_row['artists'])"
      ],
      "metadata": {
        "id": "TMtXuUsSB1C0",
        "outputId": "d088824c-3734-4c52-e840-6aa9c6f3a06b",
        "colab": {
          "base_uri": "https://localhost:8080/"
        }
      },
      "execution_count": null,
      "outputs": [
        {
          "output_type": "stream",
          "name": "stdout",
          "text": [
            "['Mauricio Kagel', 'Ensemble Musikfabrik']\n"
          ]
        }
      ]
    },
    {
      "cell_type": "code",
      "source": [
        "df = df.where(df.year>=1800)"
      ],
      "metadata": {
        "id": "8pxIosbuiZl1"
      },
      "execution_count": null,
      "outputs": []
    },
    {
      "cell_type": "code",
      "source": [
        "df = df.withColumn(\"decade\",expr(\"year - year % 10 + 10\"))"
      ],
      "metadata": {
        "id": "w2tGGIpQ7DLA"
      },
      "execution_count": null,
      "outputs": []
    },
    {
      "cell_type": "code",
      "source": [
        "df = df.withColumn(\"explicit_stat\",when(df[\"explicit\"],1).otherwise(0))"
      ],
      "metadata": {
        "id": "nosxVkXRy1yu"
      },
      "execution_count": null,
      "outputs": []
    },
    {
      "cell_type": "code",
      "source": [
        "def m(df,col):\n",
        "  return df.withColumn(str(col)+\"_label\",when((df[col] >= 0) &( df[col] <0.1) ,\"0-0.1\")\n",
        ".when((df[col] >= 0.1) & (df[col] <0.2) ,\"0.1-0.2\")\n",
        ".when((df[col] >= 0.2) & (df[col] <0.3) ,\"0.2-0.3\")\n",
        ".when((df[col] >= 0.3) & (df[col] <0.4) ,\"0.3-0.4\")\n",
        ".when((df[col] >= 0.4) & (df[col] <0.5) ,\"0.4-0.5\")\n",
        ".when((df[col] >= 0.5) & (df[col] <0.6) ,\"0.5-0.6\")\n",
        ".when((df[col] >= 0.6) & (df[col] <0.7) ,\"0.6-0.7\")\n",
        ".when((df[col] >= 0.7) & (df[col] <0.8) ,\"0.7-0.8\")\n",
        ".when((df[col] >= 0.8) & (df[col] <0.9) ,\"0.8-0.9\")\n",
        ".otherwise(\"0.9-1\"))"
      ],
      "metadata": {
        "id": "0w0kTTQ88a8Q"
      },
      "execution_count": null,
      "outputs": []
    },
    {
      "cell_type": "code",
      "source": [
        "def conv_to_min(df):\n",
        "  return df.withColumn(\"duration_min\",df.duration_ms/60000)"
      ],
      "metadata": {
        "id": "7oK81o3b-aBa"
      },
      "execution_count": null,
      "outputs": []
    },
    {
      "cell_type": "code",
      "source": [
        "df = df.transform(conv_to_min)\n",
        "df = df.transform(m,\"danceability\")\\\n",
        ".transform(m,\"energy\")\\\n",
        ".transform(m,\"speechiness\")\\\n",
        ".transform(m,\"acousticness\")\\\n",
        ".transform(m,\"instrumentalness\")\\\n",
        ".transform(m,\"liveness\")\\\n",
        ".transform(m,'valence')"
      ],
      "metadata": {
        "id": "oarrPMVR5mmb"
      },
      "execution_count": null,
      "outputs": []
    },
    {
      "cell_type": "code",
      "source": [],
      "metadata": {
        "id": "eJLk0NASDJt8"
      },
      "execution_count": null,
      "outputs": []
    },
    {
      "cell_type": "code",
      "source": [
        "#Larghissimo (بسیار بسیار آهسته): کمتر از ۲۰ ضرب در دقیقه.\n",
        "#Grave (بسیار آهسته): ۲۰ تا ۴۰ ضرب در دقیقه.\n",
        "#Largo (آهسته و گسترده): ۴۰ تا ۶۰ ضرب در دقیقه.\n",
        "#Adagio (کند): ۶۰ تا ۷۶ ضرب در دقیقه.\n",
        "#Andante (کند معتدل): ۷۶ تا ۱۰۸ ضرب در دقیقه.\n",
        "#Moderato (معتدل): ۱۰۸ تا ۱۲۰ ضرب در دقیقه.\n",
        "#Allegro (تند): ۱۲۰ تا ۱۶۸ ضرب در دقیقه.\n",
        "#Presto (بسیار تند): بیش از ۱۶۸ ضرب در دقیقه\n",
        "df = df.withColumn(\"tempo_label\",when(df[\"tempo\"] < 20,\"Larghissimo\")\n",
        ".when((df[\"tempo\"] >= 20)&(df[\"tempo\"] < 40),\"Grave\")\n",
        ".when((df[\"tempo\"] >= 40)&(df[\"tempo\"] < 60),\"Largo\")\n",
        ".when((df[\"tempo\"] >= 60)&(df[\"tempo\"] < 76),\"Adagio\")\n",
        ".when((df[\"tempo\"] >= 76)&(df[\"tempo\"] < 108),\"Andante\")\n",
        ".when((df[\"tempo\"] >= 108)&(df[\"tempo\"] < 120),\"Moderato\")\n",
        ".when((df[\"tempo\"] >= 120)&(df[\"tempo\"] < 168),\"Allegro\")\n",
        ".otherwise(\"Presto\")\n",
        ")"
      ],
      "metadata": {
        "id": "4DM7gJGUCg_Q"
      },
      "execution_count": null,
      "outputs": []
    },
    {
      "cell_type": "code",
      "source": [
        "df.show()"
      ],
      "metadata": {
        "colab": {
          "base_uri": "https://localhost:8080/"
        },
        "id": "nvJUckxK9PFE",
        "outputId": "ceb080f4-72a2-4f4d-c1cf-e4382bd807a7"
      },
      "execution_count": null,
      "outputs": [
        {
          "output_type": "stream",
          "name": "stdout",
          "text": [
            "+--------------------+--------------------+--------------------+--------------------+--------------------+--------------------+------------+-----------+--------+------------------+------------------+---+-------------------+----+-----------+-----------------+--------------------+------------------+------------------+------------------+-----------+--------------+----+------------+------+-------------+------------------+------------------+------------+-----------------+------------------+----------------------+--------------+-------------+-----------+\n",
            "|                  id|                name|               album|            album_id|             artists|          artist_ids|track_number|disc_number|explicit|      danceability|            energy|key|           loudness|mode|speechiness|     acousticness|    instrumentalness|          liveness|           valence|             tempo|duration_ms|time_signature|year|release_date|decade|explicit_stat|      duration_min|danceability_label|energy_label|speechiness_label|acousticness_label|instrumentalness_label|liveness_label|valence_label|tempo_label|\n",
            "+--------------------+--------------------+--------------------+--------------------+--------------------+--------------------+------------+-----------+--------+------------------+------------------+---+-------------------+----+-----------+-----------------+--------------------+------------------+------------------+------------------+-----------+--------------+----+------------+------+-------------+------------------+------------------+------------+-----------------+------------------+----------------------+--------------+-------------+-----------+\n",
            "|7lmeHLHBe4nmXzuXc...|             Testify|The Battle Of Los...|2eia0myWFgoHuttJy...|[Rage Against The...|[2d0hyoQ5ynDBnkvA...|           1|          1|   false|              0.47|             0.978|  7|             -5.399|   1|     0.0727|           0.0261|             1.09E-5|             0.356|             0.503|           117.906|     210133|           4.0|1999|  1999-11-02|  2000|            0|3.5022166666666665|           0.4-0.5|       0.9-1|            0-0.1|             0-0.1|                 0-0.1|       0.3-0.4|      0.5-0.6|   Moderato|\n",
            "|1wsRitfRRtWyEapl0...|     Guerrilla Radio|The Battle Of Los...|2eia0myWFgoHuttJy...|[Rage Against The...|[2d0hyoQ5ynDBnkvA...|           2|          1|    true|             0.599|             0.957| 11| -5.763999999999999|   1|      0.188|           0.0129|             7.06E-5|             0.155|             0.489|            103.68|     206200|           4.0|1999|  1999-11-02|  2000|            1|3.4366666666666665|           0.5-0.6|       0.9-1|          0.1-0.2|             0-0.1|                 0-0.1|       0.1-0.2|      0.4-0.5|    Andante|\n",
            "|1hR0fIFK2qRG3f3RF...|    Calm Like a Bomb|The Battle Of Los...|2eia0myWFgoHuttJy...|[Rage Against The...|[2d0hyoQ5ynDBnkvA...|           3|          1|   false|             0.315|              0.97|  7|             -5.424|   1|      0.483|           0.0234|             2.03E-6|             0.122|              0.37|           149.749|     298893|           4.0|1999|  1999-11-02|  2000|            0|           4.98155|           0.3-0.4|       0.9-1|          0.4-0.5|             0-0.1|                 0-0.1|       0.1-0.2|      0.3-0.4|    Allegro|\n",
            "|2lbASgTSoDO7MTuLA...|           Mic Check|The Battle Of Los...|2eia0myWFgoHuttJy...|[Rage Against The...|[2d0hyoQ5ynDBnkvA...|           4|          1|    true|              0.44|             0.967| 11|              -5.83|   0|      0.237|            0.163|             3.64E-6|             0.121|             0.574|            96.752|     213640|           4.0|1999|  1999-11-02|  2000|            1|3.5606666666666666|           0.4-0.5|       0.9-1|          0.2-0.3|           0.1-0.2|                 0-0.1|       0.1-0.2|      0.5-0.6|    Andante|\n",
            "|1MQTmpYOZ6fcMQc56...|Sleep Now In the ...|The Battle Of Los...|2eia0myWFgoHuttJy...|[Rage Against The...|[2d0hyoQ5ynDBnkvA...|           5|          1|   false|             0.426|             0.929|  2|             -6.729|   1|     0.0701|          0.00162|               0.105|            0.0789|             0.539|           127.059|     205600|           4.0|1999|  1999-11-02|  2000|            0|3.4266666666666667|           0.4-0.5|       0.9-1|            0-0.1|             0-0.1|               0.1-0.2|         0-0.1|      0.5-0.6|    Allegro|\n",
            "|2LXPNLSMAauNJfnC5...|Born of a Broken Man|The Battle Of Los...|2eia0myWFgoHuttJy...|[Rage Against The...|[2d0hyoQ5ynDBnkvA...|           6|          1|   false|             0.298|             0.848|  2|             -5.947|   1|     0.0727|           0.0538|  0.0015199999999999|             0.201|0.1939999999999999|           148.282|     280960|           4.0|1999|  1999-11-02|  2000|            0| 4.682666666666667|           0.2-0.3|     0.8-0.9|            0-0.1|             0-0.1|                 0-0.1|       0.2-0.3|      0.1-0.2|    Allegro|\n",
            "|3moeHk8eIajvUEzVo...|      Born As Ghosts|The Battle Of Los...|2eia0myWFgoHuttJy...|[Rage Against The...|[2d0hyoQ5ynDBnkvA...|           7|          1|   false|             0.417|             0.976|  9|             -6.032|   1|      0.175|4.269999999999E-4|             1.34E-4|             0.107|             0.483|            90.395|     202040|           4.0|1999|  1999-11-02|  2000|            0|3.3673333333333333|           0.4-0.5|       0.9-1|          0.1-0.2|             0-0.1|                 0-0.1|       0.1-0.2|      0.4-0.5|    Andante|\n",
            "|4llunZfVXv3NvUzXV...|               Maria|The Battle Of Los...|2eia0myWFgoHuttJy...|[Rage Against The...|[2d0hyoQ5ynDBnkvA...|           8|          1|   false|0.2769999999999999|             0.873| 11|-6.5710000000000015|   0|     0.0883|          0.00694|5.400000000000001E-5|             0.188|             0.618|172.84799999999996|     228093|           4.0|1999|  1999-11-02|  2000|            0|           3.80155|           0.2-0.3|     0.8-0.9|            0-0.1|             0-0.1|                 0-0.1|       0.1-0.2|      0.6-0.7|     Presto|\n",
            "|21Mq0NzFoVRvOmLTO...|Voice of the Voic...|The Battle Of Los...|2eia0myWFgoHuttJy...|[Rage Against The...|[2d0hyoQ5ynDBnkvA...|           9|          1|   false|             0.441|             0.882|  7| -7.362999999999999|   1|      0.044|           0.0195|             0.00684|              0.15|             0.418| 83.37100000000002|     151573|           4.0|1999|  1999-11-02|  2000|            0|2.5262166666666666|           0.4-0.5|     0.8-0.9|            0-0.1|             0-0.1|                 0-0.1|       0.1-0.2|      0.4-0.5|    Andante|\n",
            "|6s2FgJbnnMwFTpWJZ...|New Millennium Homes|The Battle Of Los...|2eia0myWFgoHuttJy...|[Rage Against The...|[2d0hyoQ5ynDBnkvA...|          10|          1|   false|0.4479999999999999|             0.861|  9|              -6.12|   1|     0.0676|          0.00306|                 0.0|            0.0987|0.7609999999999999|            92.777|     224933|           4.0|1999|  1999-11-02|  2000|            0| 3.748883333333333|           0.4-0.5|     0.8-0.9|            0-0.1|             0-0.1|                 0-0.1|         0-0.1|      0.7-0.8|    Andante|\n",
            "|7o2Razxnl33Jrgz4P...|   Ashes In the Fall|The Battle Of Los...|2eia0myWFgoHuttJy...|[Rage Against The...|[2d0hyoQ5ynDBnkvA...|          11|          1|    true|             0.456|0.7040000000000001|  7|             -6.687|   1|     0.0982|           0.0052|             4.12E-6|            0.0595|0.6559999999999999|           140.629|     277267|           4.0|1999|  1999-11-02|  2000|            1|4.6211166666666665|           0.4-0.5|     0.7-0.8|            0-0.1|             0-0.1|                 0-0.1|         0-0.1|      0.6-0.7|    Allegro|\n",
            "|3Hxu3Ey1TV9mZ5XqM...| War Within a Breath|The Battle Of Los...|2eia0myWFgoHuttJy...|[Rage Against The...|[2d0hyoQ5ynDBnkvA...|          12|          1|   false|0.3989999999999999|             0.965|  6|             -5.901|   1|      0.143|          0.00442|              0.0314|0.3670000000000001|             0.174|            98.464|     216427|           4.0|1999|  1999-11-02|  2000|            0|3.6071166666666667|           0.3-0.4|       0.9-1|          0.1-0.2|             0-0.1|                 0-0.1|       0.3-0.4|      0.1-0.2|    Andante|\n",
            "|6ZU9RJIZ0fNaFuQM5...|           Bombtrack|Rage Against The ...|4LaRYkT4oy47wEuQg...|[Rage Against The...|[2d0hyoQ5ynDBnkvA...|           1|          1|    true|             0.478|             0.855|  4|             -7.438|   0|      0.121|           0.0134|             3.18E-5|             0.179|0.6679999999999999|            151.93|     243760|           4.0|1992|  1992-11-03|  2000|            1| 4.062666666666667|           0.4-0.5|     0.8-0.9|          0.1-0.2|             0-0.1|                 0-0.1|       0.1-0.2|      0.6-0.7|    Allegro|\n",
            "|3FUS56gKr9mVBmzvl...| Killing In the Name|Rage Against The ...|4LaRYkT4oy47wEuQg...|[Rage Against The...|[2d0hyoQ5ynDBnkvA...|           2|          1|    true|             0.457|             0.779|  7|             -6.323|   1|      0.257|           0.0185|             2.04E-6|            0.0247|0.7340000000000001|            86.573|     313667|           4.0|1992|  1992-11-03|  2000|            1| 5.227783333333333|           0.4-0.5|     0.7-0.8|          0.2-0.3|             0-0.1|                 0-0.1|         0-0.1|      0.7-0.8|    Andante|\n",
            "|3tTL7jlSkowXidYea...| Take the Power Back|Rage Against The ...|4LaRYkT4oy47wEuQg...|[Rage Against The...|[2d0hyoQ5ynDBnkvA...|           3|          1|    true|             0.542|0.8420000000000001|  1|-7.1370000000000005|   1|      0.173|            0.043|             1.53E-4|             0.173|             0.301|           104.772|     335840|           4.0|1992|  1992-11-03|  2000|            1| 5.597333333333333|           0.5-0.6|     0.8-0.9|          0.1-0.2|             0-0.1|                 0-0.1|       0.1-0.2|      0.3-0.4|    Andante|\n",
            "|2vuDdXqekkDCSdawJ...|  Settle for Nothing|Rage Against The ...|4LaRYkT4oy47wEuQg...|[Rage Against The...|[2d0hyoQ5ynDBnkvA...|           4|          1|   false|             0.516|0.5329999999999999|  7|             -9.563|   1|     0.0429|           0.0253|             4.71E-5|             0.113|              0.29|            97.732|     287333|           4.0|1992|  1992-11-03|  2000|            0| 4.788883333333334|           0.5-0.6|     0.5-0.6|            0-0.1|             0-0.1|                 0-0.1|       0.1-0.2|      0.2-0.3|    Andante|\n",
            "|11cxKUEgnVAlesUKt...|  Bullet In the Head|Rage Against The ...|4LaRYkT4oy47wEuQg...|[Rage Against The...|[2d0hyoQ5ynDBnkvA...|           5|          1|    true|             0.418|0.8059999999999999|  4|             -6.965|   1|      0.128|           0.0032|             7.88E-4|             0.623|             0.447|           164.202|     307067|           4.0|1992|  1992-11-03|  2000|            1| 5.117783333333334|           0.4-0.5|     0.8-0.9|          0.1-0.2|             0-0.1|                 0-0.1|       0.6-0.7|      0.4-0.5|    Allegro|\n",
            "|1IDAJagxB9AQjjYXa...|     Know Your Enemy|Rage Against The ...|4LaRYkT4oy47wEuQg...|[Rage Against The...|[2d0hyoQ5ynDBnkvA...|           6|          1|    true|             0.574|             0.765|  4|             -7.755|   1|      0.128|           0.0141|  0.0037799999999999|             0.136|             0.613|           117.636|     294693|           4.0|1992|  1992-11-03|  2000|            1|           4.91155|           0.5-0.6|     0.7-0.8|          0.1-0.2|             0-0.1|                 0-0.1|       0.1-0.2|      0.6-0.7|   Moderato|\n",
            "|6zbHSDJjgrNdfIxPy...|             Wake Up|Rage Against The ...|4LaRYkT4oy47wEuQg...|[Rage Against The...|[2d0hyoQ5ynDBnkvA...|           7|          1|   false|             0.411|             0.823|  7|-7.5539999999999985|   1|      0.115|          0.00316|              0.0148|             0.149|             0.573|170.28099999999995|     364133|           4.0|1992|  1992-11-03|  2000|            0| 6.068883333333333|           0.4-0.5|     0.8-0.9|          0.1-0.2|             0-0.1|                 0-0.1|       0.1-0.2|      0.5-0.6|     Presto|\n",
            "|3YEk8mVdMI7rxtfim...|    Fistful of Steel|Rage Against The ...|4LaRYkT4oy47wEuQg...|[Rage Against The...|[2d0hyoQ5ynDBnkvA...|           8|          1|   false|              0.52|             0.755|  4|             -9.031|   0|      0.134|           0.0195|                0.34|            0.0956|             0.608|           155.513|     331107|           4.0|1992|  1992-11-03|  2000|            0|           5.51845|           0.5-0.6|     0.7-0.8|          0.1-0.2|             0-0.1|               0.3-0.4|         0-0.1|      0.6-0.7|    Allegro|\n",
            "+--------------------+--------------------+--------------------+--------------------+--------------------+--------------------+------------+-----------+--------+------------------+------------------+---+-------------------+----+-----------+-----------------+--------------------+------------------+------------------+------------------+-----------+--------------+----+------------+------+-------------+------------------+------------------+------------+-----------------+------------------+----------------------+--------------+-------------+-----------+\n",
            "only showing top 20 rows\n",
            "\n"
          ]
        }
      ]
    },
    {
      "cell_type": "code",
      "source": [
        "df.groupBy(\"decade\") \\\n",
        "    .agg(count(\"*\").alias(\"count\"),\\\n",
        "    avg(\"explicit_stat\").alias(\"explicit_rate\"),\\\n",
        "    avg(\"danceability\").alias(\"danceability_rate\"),\\\n",
        "    avg(\"loudness\").alias(\"loudness_rate\"),\\\n",
        "    avg(\"acousticness\").alias(\"acousticness_rate\"),\\\n",
        "    avg(\"valence\").alias(\"valence_rate\"),\\\n",
        "    )\\\n",
        "    .sort(asc(\"decade\"))\\\n",
        "    .show(truncate=False)"
      ],
      "metadata": {
        "colab": {
          "base_uri": "https://localhost:8080/"
        },
        "id": "OlFM7L3HHiPH",
        "outputId": "0df363ad-ac76-43da-9efc-6c97dd24d8ad"
      },
      "execution_count": null,
      "outputs": [
        {
          "output_type": "stream",
          "name": "stdout",
          "text": [
            "+------+------+---------------------+-------------------+-------------------+-------------------+-------------------+\n",
            "|decade|count |explicit_rate        |danceability_rate  |loudness_rate      |acousticness_rate  |valence_rate       |\n",
            "+------+------+---------------------+-------------------+-------------------+-------------------+-------------------+\n",
            "|1910  |58    |0.0                  |0.5808793103448276 |-14.754137931034485|0.7028051724137931 |0.6722448275862069 |\n",
            "|1920  |52    |0.0                  |0.5069423076923076 |-16.892826923076928|0.8109284615384618 |0.48089230769230773|\n",
            "|1930  |461   |0.0                  |0.6124967462039039 |-13.351028199566167|0.9500889370932765 |0.627997613882863  |\n",
            "|1940  |453   |0.0                  |0.5720066225165568 |-13.777507726269317|0.8476748335540841 |0.5724106181015447 |\n",
            "|1950  |653   |0.0                  |0.41908728943338447|-14.964433384379793|0.8948390505359883 |0.40191163859111795|\n",
            "|1960  |3159  |0.0                  |0.4265659069325732 |-15.60912060778727 |0.8343791959480841 |0.4246127572016468 |\n",
            "|1970  |8784  |0.0015938069216757742|0.4332575705828775 |-14.831245901639285|0.7013520055783236 |0.4562189219034621 |\n",
            "|1980  |17183 |4.6557644183204327E-4|0.48137746610021637|-13.500431356573372|0.5292524871663888 |0.5128659547226905 |\n",
            "|1990  |28595 |0.011680363699947544 |0.48064590662703166|-14.313751320160883|0.4729876649809412 |0.4771593250568252 |\n",
            "|2000  |153049|0.030526171356885703 |0.4635383873792124 |-15.110748459643775|0.5558407619547243 |0.42681747440362866|\n",
            "|2010  |423753|0.03630652762340326  |0.49172432879531597|-11.722861374432677|0.4660945789864887 |0.4454481272345003 |\n",
            "|2020  |498089|0.08180064205393012  |0.49653124863226716|-10.87806376370498 |0.40285504698876146|0.40972252153330374|\n",
            "|2030  |69726 |0.3082207497920431   |0.5589047629291765 |-9.674015116312216 |0.3120187908007013 |0.40812349955540367|\n",
            "+------+------+---------------------+-------------------+-------------------+-------------------+-------------------+\n",
            "\n"
          ]
        }
      ]
    },
    {
      "cell_type": "code",
      "source": [
        "df.groupBy(\"explicit_stat\") \\\n",
        "    .agg(count(\"*\").alias(\"count\"),\\\n",
        "    avg(\"danceability\").alias(\"danceability_rate\"),\\\n",
        "    avg(\"energy\").alias(\"energy_rate\"),\\\n",
        "    avg(\"loudness\").alias(\"loudness_rate\"),\\\n",
        "    avg(\"speechiness\").alias(\"speechiness_rate\"),\\\n",
        "    avg(\"acousticness\").alias(\"acousticness_rate\"),\\\n",
        "    avg(\"instrumentalness\").alias(\"instrumentalness_rate\"),\\\n",
        "    )\\\n",
        "    .sort(asc(\"explicit_stat\"))\\\n",
        "    .show(truncate=False)"
      ],
      "metadata": {
        "colab": {
          "base_uri": "https://localhost:8080/"
        },
        "id": "8X3F1GJVTn_R",
        "outputId": "9339bc09-5155-476c-a22c-9dd9f492f415"
      },
      "execution_count": null,
      "outputs": [
        {
          "output_type": "stream",
          "name": "stdout",
          "text": [
            "+-------------+-------+------------------+------------------+-------------------+-------------------+-------------------+---------------------+\n",
            "|explicit_stat|count  |danceability_rate |energy_rate       |loudness_rate      |speechiness_rate   |acousticness_rate  |instrumentalness_rate|\n",
            "+-------------+-------+------------------+------------------+-------------------+-------------------+-------------------+---------------------+\n",
            "|0            |1121367|0.4830483240099053|0.4965064366940072|-12.117940979179641|0.07377358206547045|0.46580304277687556|0.2993331429687508   |\n",
            "|1            |82648  |0.6288146561320302|0.6863260764398469|-7.612601139773397 |0.22831835737102102|0.18829414126052443|0.05931239955727969  |\n",
            "+-------------+-------+------------------+------------------+-------------------+-------------------+-------------------+---------------------+\n",
            "\n"
          ]
        }
      ]
    },
    {
      "cell_type": "code",
      "source": [
        "df.groupBy(\"liveness_label\") \\\n",
        "    .agg(count(\"*\").alias(\"count\"),\\\n",
        "    avg(\"energy\").alias(\"energy_rate\"),\\\n",
        "    avg(\"loudness\").alias(\"loudness_rate\"),\\\n",
        "    avg(\"speechiness\").alias(\"speechiness_rate\"),\\\n",
        "    avg(\"instrumentalness\").alias(\"instrumentalness_rate\"),\\\n",
        "    )\\\n",
        "    .sort(asc(\"liveness_label\"))\\\n",
        "    .show(truncate=False)"
      ],
      "metadata": {
        "colab": {
          "base_uri": "https://localhost:8080/"
        },
        "id": "eIPRSuJxTLDi",
        "outputId": "ccfcba4d-8abf-4e14-936f-1b4476e740fb"
      },
      "execution_count": null,
      "outputs": [
        {
          "output_type": "stream",
          "name": "stdout",
          "text": [
            "+--------------+------+-------------------+-------------------+-------------------+---------------------+\n",
            "|liveness_label|count |energy_rate        |loudness_rate      |speechiness_rate   |instrumentalness_rate|\n",
            "+--------------+------+-------------------+-------------------+-------------------+---------------------+\n",
            "|0-0.1         |334846|0.47248503496860994|-12.753904209696293|0.07167325367482556|0.32054288386636326  |\n",
            "|0.1-0.2       |502041|0.4532486739274314 |-12.547020014301529|0.07290533263219814|0.3111585501831036   |\n",
            "|0.2-0.3       |133221|0.5846215666268859 |-10.194569054428445|0.09011841226232988|0.2226870813823613   |\n",
            "|0.3-0.4       |115152|0.64715324052471   |-9.365629420244524 |0.1035335469640104 |0.21076962729670184  |\n",
            "|0.4-0.5       |29951 |0.6489240573603482 |-9.662788454475702 |0.13072165203165143|0.2083070309555608   |\n",
            "|0.5-0.6       |18991 |0.6257604850508103 |-10.169823705965971|0.13807168658838384|0.2118642719451323   |\n",
            "|0.6-0.7       |24302 |0.5847604744136286 |-11.040682207225673|0.14064916879269249|0.2254916109888074   |\n",
            "|0.7-0.8       |17288 |0.5954675768047191 |-10.856019666820929|0.15672966797778765|0.18163583476978273  |\n",
            "|0.8-0.9       |11026 |0.6690745819698883 |-9.943725013604187 |0.17312614728822817|0.16626583553147095  |\n",
            "|0.9-1         |17197 |0.7049577881956105 |-9.498000581496816 |0.14506812234692154|0.13749985103041185  |\n",
            "+--------------+------+-------------------+-------------------+-------------------+---------------------+\n",
            "\n"
          ]
        }
      ]
    },
    {
      "cell_type": "code",
      "source": [
        "df.groupBy(\"valence_label\") \\\n",
        "    .agg(count(\"*\").alias(\"count\"),\\\n",
        "    avg(\"explicit_stat\").alias(\"explicit_rate\"),\\\n",
        "    avg(\"danceability\").alias(\"danceability_rate\"),\\\n",
        "    avg(\"energy\").alias(\"energy_rate\"),\\\n",
        "    avg(\"loudness\").alias(\"loudness_rate\"),\\\n",
        "    avg(\"acousticness\").alias(\"acousticness_rate\"),\\\n",
        "    avg(\"instrumentalness\").alias(\"instrumentalness_rate\"),\\\n",
        "    avg(\"tempo\").alias(\"tempo_rate\"),\\\n",
        "    avg(\"duration_min\").alias(\"duration_rate\")\\\n",
        "    )\\\n",
        "    .sort(asc(\"valence_label\"))\\\n",
        "    .show(truncate=False)"
      ],
      "metadata": {
        "colab": {
          "base_uri": "https://localhost:8080/"
        },
        "id": "Nqfyb73DZFrX",
        "outputId": "17a91946-0683-45de-f18f-fc0139a9bb23"
      },
      "execution_count": null,
      "outputs": [
        {
          "output_type": "stream",
          "name": "stdout",
          "text": [
            "+-------------+------+--------------------+------------------+------------------+-------------------+-------------------+---------------------+------------------+------------------+\n",
            "|valence_label|count |explicit_rate       |danceability_rate |energy_rate       |loudness_rate      |acousticness_rate  |instrumentalness_rate|tempo_rate        |duration_rate     |\n",
            "+-------------+------+--------------------+------------------+------------------+-------------------+-------------------+---------------------+------------------+------------------+\n",
            "|0-0.1        |163934|0.024637964058706552|0.2815761580880098|0.2798768438377655|-18.470007478619337|0.6765733968206166 |0.56181748011364     |104.4551918393987 |5.225780775698337 |\n",
            "|0.1-0.2      |149806|0.04574583127511582 |0.398996239135946 |0.388160953907722 |-14.120375418875065|0.5639718372563944 |0.3809823172881542   |113.75408188590403|4.565502217868445 |\n",
            "|0.2-0.3      |137781|0.062171126643005926|0.453772450120114 |0.459611275321716 |-12.16742428201279 |0.48340072075156343|0.29072206529768063  |117.0864510926746 |4.352063452870838 |\n",
            "|0.3-0.4      |145720|0.07701070546253089 |0.4928443158111438|0.5137174734902568|-11.05675316360162 |0.4260103412957764 |0.24577523417519248  |119.00724139445661|4.1132534495378925|\n",
            "|0.4-0.5      |127382|0.09014617449875179 |0.525849447331649 |0.5594950308638598|-10.273475616649314|0.37896258890282286|0.21330554941011595  |119.98224136848214|3.95575542855344  |\n",
            "|0.5-0.6      |127398|0.10004081696729933 |0.5551953115433561|0.5917272864236477|-9.765047661658734 |0.35246588943020807|0.1932915702722933   |120.90117871552252|3.853551739823233 |\n",
            "|0.6-0.7      |114094|0.10010167055235157 |0.5828019518993085|0.6171510440180921|-9.395797973600654 |0.33535476117586666|0.17894189663803153  |121.46912650972192|3.742439055953814 |\n",
            "|0.7-0.8      |97899 |0.09064443967762695 |0.6079800590404404|0.6358944042268075|-9.15031890009102  |0.3328156235333345 |0.1686980632192363   |122.52310298368961|3.632224508081418 |\n",
            "|0.8-0.9      |80996 |0.06697861622796188 |0.6312733999209961|0.653007256585509 |-8.99458236209204  |0.3380822203096426 |0.17042783009481757  |123.72432513951269|3.4985143042042965|\n",
            "|0.9-1        |59005 |0.03423438691636302 |0.6527294110668562|0.6620206272959915|-9.117471553258309 |0.3798463296857853 |0.22011361717922043  |125.9826494364876 |3.2717760034460603|\n",
            "+-------------+------+--------------------+------------------+------------------+-------------------+-------------------+---------------------+------------------+------------------+\n",
            "\n"
          ]
        }
      ]
    },
    {
      "cell_type": "code",
      "source": [
        "K = 10\n",
        "top_k_records = spotify_df.orderBy(spotify_df.danceability.desc()).limit(K)\n",
        "top_k_records.show()"
      ],
      "metadata": {
        "colab": {
          "base_uri": "https://localhost:8080/"
        },
        "id": "8ZZekfatUZN8",
        "outputId": "d31ec456-2f2d-4848-94c6-8ad8f20df2e2"
      },
      "execution_count": 4,
      "outputs": [
        {
          "output_type": "stream",
          "name": "stdout",
          "text": [
            "+--------------------+--------------------+--------------------+--------------------+--------------------+--------------------+------------+-----------+--------+------------+------------------+---+-------------------+----+------------------+------------------+--------------------+------------------+------------------+-------+-----------+--------------+----+------------+\n",
            "|                  id|                name|               album|            album_id|             artists|          artist_ids|track_number|disc_number|explicit|danceability|            energy|key|           loudness|mode|       speechiness|      acousticness|    instrumentalness|          liveness|           valence|  tempo|duration_ms|time_signature|year|release_date|\n",
            "+--------------------+--------------------+--------------------+--------------------+--------------------+--------------------+------------+-----------+--------+------------+------------------+---+-------------------+----+------------------+------------------+--------------------+------------------+------------------+-------+-----------+--------------+----+------------+\n",
            "|3BoKFYyanZpH1TPfl...|           Unendlich|       Versammlung 1|6C9EIPGDxrMZZCNzC...|  ['Wolfgang Voigt']|['3pq8SlVVKJdVO3M...|          12|          1|   false|         1.0|             0.387|  8|            -17.268|   1|             0.369|            0.0785|  0.7040000000000001|            0.0623|             0.181|117.997|     618320|           4.0|2015|  2015-02-16|\n",
            "|58zc19A4974ofVuf9...| Na-try Mo Na Ba Ako|               Clean|10EFwphwSjO2ZEjEC...|       ['Andrew E.']|['6TcTgRYJBQzadIF...|           3|          1|   false|       0.994|             0.573|  7|            -14.106|   1|            0.0971|            0.0389|4.820000000000001E-5|            0.0363|             0.967|121.005|     243293|           4.0|2007|  2007-02-27|\n",
            "|6JiORXg2PysThO2l3...|Roll Like Dis / C...|Mr. C Presents Th...|2wP5F2xvI2naoVz8N...|           ['Mr. C']|['4KKEvADkhfVx3Bp...|           2|          1|   false|       0.993|             0.654|  9|             -8.129|   1|              0.23|           4.57E-4|                 0.0|0.1369999999999999|             0.579|120.004|     271787|           4.0|2009|  2009-03-10|\n",
            "|0U0M7HdfsKbyvPfSt...| Techno Is Not Fault| Techno Is Not Fault|4dyt5ml8Tkqxi9Nqg...|['Andrea HEinstein']|['3tYMbhEPRJ1ze1c...|           1|          1|   false|       0.992|0.5670000000000001|  1|            -13.633|   0|             0.406|             0.075|               0.879|             0.111|             0.573|126.016|     337058|           4.0|2018|  2018-06-08|\n",
            "|5u16CUz0AZUl7pVnW...|Aussie, Aussie (O...|               Clean|10EFwphwSjO2ZEjEC...|       ['Andrew E.']|['6TcTgRYJBQzadIF...|           9|          1|   false|       0.991|             0.512|  8|            -13.561|   1|             0.122|             0.182|             5.14E-6|            0.0311|             0.951|122.987|     301453|           4.0|2007|  2007-02-27|\n",
            "|0P1E4YNHBmOTMMS4r...|Le casse-tête (Ca...|Coucou Passe-Partout|46CFhDCYBBnorO7Wo...|   ['Passe-Partout']|['0UTHoBA40k186AJ...|           4|          1|   false|       0.991|             0.315|  0|             -9.607|   1|             0.128|             0.376|                 0.0|            0.0821|             0.968| 120.03|      52000|           4.0|2019|  2019-03-01|\n",
            "|5OpZKcjLyzTy82V0s...|            New Life| Are You Really Lost|2iVtHFZHECilWWoqb...|   ['Matias Aguayo']|['7daexEpVdKDbvlU...|           5|          1|   false|        0.99|             0.292| 10|             -10.91|   0|             0.143|           0.00914|               0.924|             0.108|             0.214|114.002|     357707|           4.0|2005|  2005-10-04|\n",
            "|1gHafreKtfnubZ3A7...|       Esther's Vice|          Haralambos|55tLF9p5TcjIIxmBn...|     ['Bexar Bexar']|['7toPL2VsOmuGzi1...|          13|          1|   false|        0.99|              0.33|  0|-13.744000000000002|   1|            0.0927|             0.995|               0.911|0.1009999999999999|             0.949|122.059|     147560|           4.0|2003|  2003-04-11|\n",
            "|7CIN4HxftOh4KEwfL...|             Go Nuts|           Statistic|5fBMZBtlTUc0VORTQ...|         ['Edidion']|['4sZrAifw329CKJ2...|           6|          1|   false|       0.988|             0.737|  1|             -9.051|   0|0.2289999999999999|            0.0672|             8.23E-4|             0.106|0.8370000000000001|117.912|     221885|           4.0|2015|  2015-09-12|\n",
            "|2epnNWDJdDACv6wFL...|     Believe In Love|            Magnolia|7Gu3Ji2OE3plJ3okS...|['The Wooden Birds']|['5rsPXVRen0RDTeH...|          10|          1|   false|       0.988|             0.387| 11|             -9.733|   0|              0.16|0.8029999999999999|               0.684|            0.0868|              0.89|118.609|     242147|           4.0|2009|        2009|\n",
            "+--------------------+--------------------+--------------------+--------------------+--------------------+--------------------+------------+-----------+--------+------------+------------------+---+-------------------+----+------------------+------------------+--------------------+------------------+------------------+-------+-----------+--------------+----+------------+\n",
            "\n"
          ]
        }
      ]
    }
  ]
}