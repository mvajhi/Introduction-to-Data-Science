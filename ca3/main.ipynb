{
 "cells": [
  {
   "cell_type": "code",
   "execution_count": 1,
   "metadata": {},
   "outputs": [
    {
     "data": {
      "text/html": [
       "<style>pre { white-space: pre !important; }</style>"
      ],
      "text/plain": [
       "<IPython.core.display.HTML object>"
      ]
     },
     "metadata": {},
     "output_type": "display_data"
    }
   ],
   "source": [
    "from IPython.display import display, HTML\n",
    "import pyspark\n",
    "from pyspark.sql import SparkSession\n",
    "import pyspark.sql.functions as pyfunc\n",
    "import pyspark.sql.types as pytype\n",
    "display(HTML('<style>pre { white-space: pre !important; }</style>'))"
   ]
  },
  {
   "cell_type": "markdown",
   "metadata": {},
   "source": [
    "## Read"
   ]
  },
  {
   "cell_type": "code",
   "execution_count": 2,
   "metadata": {},
   "outputs": [
    {
     "name": "stderr",
     "output_type": "stream",
     "text": [
      "24/04/15 11:13:18 WARN Utils: Your hostname, codespaces-7af96c resolves to a loopback address: 127.0.0.1; using 172.16.5.4 instead (on interface eth0)\n",
      "24/04/15 11:13:18 WARN Utils: Set SPARK_LOCAL_IP if you need to bind to another address\n",
      "Setting default log level to \"WARN\".\n",
      "To adjust logging level use sc.setLogLevel(newLevel). For SparkR, use setLogLevel(newLevel).\n",
      "24/04/15 11:13:19 WARN NativeCodeLoader: Unable to load native-hadoop library for your platform... using builtin-java classes where applicable\n",
      "                                                                                \r"
     ]
    },
    {
     "name": "stdout",
     "output_type": "stream",
     "text": [
      "root\n",
      " |-- id: string (nullable = true)\n",
      " |-- name: string (nullable = true)\n",
      " |-- album: string (nullable = true)\n",
      " |-- album_id: string (nullable = true)\n",
      " |-- artists: string (nullable = true)\n",
      " |-- artist_ids: string (nullable = true)\n",
      " |-- track_number: long (nullable = true)\n",
      " |-- disc_number: long (nullable = true)\n",
      " |-- explicit: boolean (nullable = true)\n",
      " |-- danceability: double (nullable = true)\n",
      " |-- energy: double (nullable = true)\n",
      " |-- key: long (nullable = true)\n",
      " |-- loudness: double (nullable = true)\n",
      " |-- mode: long (nullable = true)\n",
      " |-- speechiness: double (nullable = true)\n",
      " |-- acousticness: double (nullable = true)\n",
      " |-- instrumentalness: double (nullable = true)\n",
      " |-- liveness: double (nullable = true)\n",
      " |-- valence: double (nullable = true)\n",
      " |-- tempo: double (nullable = true)\n",
      " |-- duration_ms: long (nullable = true)\n",
      " |-- time_signature: double (nullable = true)\n",
      " |-- year: long (nullable = true)\n",
      " |-- release_date: string (nullable = true)\n",
      "\n"
     ]
    }
   ],
   "source": [
    "spark = SparkSession.builder.getOrCreate()\n",
    "spotify_df = spark.read.parquet(\"/workspaces/Introduction-to-Data-Science/ca3/spotify.parquet\")\n",
    "spotify_df.printSchema()"
   ]
  },
  {
   "cell_type": "markdown",
   "metadata": {},
   "source": [
    "## preprocess"
   ]
  },
  {
   "cell_type": "code",
   "execution_count": 3,
   "metadata": {},
   "outputs": [
    {
     "name": "stderr",
     "output_type": "stream",
     "text": [
      "                                                                                \r"
     ]
    },
    {
     "name": "stdout",
     "output_type": "stream",
     "text": [
      "+--------------------+--------------------+--------------------+--------------------+--------------------+--------------------+------------+-----------+--------+------------------+------------------+---+-------------------+----+-----------+-----------------+--------------------+------------------+------------------+------------------+-----------+--------------+----+------------+\n",
      "|                  id|                name|               album|            album_id|             artists|          artist_ids|track_number|disc_number|explicit|      danceability|            energy|key|           loudness|mode|speechiness|     acousticness|    instrumentalness|          liveness|           valence|             tempo|duration_ms|time_signature|year|release_date|\n",
      "+--------------------+--------------------+--------------------+--------------------+--------------------+--------------------+------------+-----------+--------+------------------+------------------+---+-------------------+----+-----------+-----------------+--------------------+------------------+------------------+------------------+-----------+--------------+----+------------+\n",
      "|7lmeHLHBe4nmXzuXc...|             Testify|The Battle Of Los...|2eia0myWFgoHuttJy...|['Rage Against Th...|['2d0hyoQ5ynDBnkv...|           1|          1|   false|              0.47|             0.978|  7|             -5.399|   1|     0.0727|           0.0261|             1.09E-5|             0.356|             0.503|           117.906|     210133|           4.0|1999|  1999-11-02|\n",
      "|1wsRitfRRtWyEapl0...|     Guerrilla Radio|The Battle Of Los...|2eia0myWFgoHuttJy...|['Rage Against Th...|['2d0hyoQ5ynDBnkv...|           2|          1|    true|             0.599|             0.957| 11| -5.763999999999999|   1|      0.188|           0.0129|             7.06E-5|             0.155|             0.489|            103.68|     206200|           4.0|1999|  1999-11-02|\n",
      "|1hR0fIFK2qRG3f3RF...|    Calm Like a Bomb|The Battle Of Los...|2eia0myWFgoHuttJy...|['Rage Against Th...|['2d0hyoQ5ynDBnkv...|           3|          1|   false|             0.315|              0.97|  7|             -5.424|   1|      0.483|           0.0234|             2.03E-6|             0.122|              0.37|           149.749|     298893|           4.0|1999|  1999-11-02|\n",
      "|2lbASgTSoDO7MTuLA...|           Mic Check|The Battle Of Los...|2eia0myWFgoHuttJy...|['Rage Against Th...|['2d0hyoQ5ynDBnkv...|           4|          1|    true|              0.44|             0.967| 11|              -5.83|   0|      0.237|            0.163|             3.64E-6|             0.121|             0.574|            96.752|     213640|           4.0|1999|  1999-11-02|\n",
      "|1MQTmpYOZ6fcMQc56...|Sleep Now In the ...|The Battle Of Los...|2eia0myWFgoHuttJy...|['Rage Against Th...|['2d0hyoQ5ynDBnkv...|           5|          1|   false|             0.426|             0.929|  2|             -6.729|   1|     0.0701|          0.00162|               0.105|            0.0789|             0.539|           127.059|     205600|           4.0|1999|  1999-11-02|\n",
      "|2LXPNLSMAauNJfnC5...|Born of a Broken Man|The Battle Of Los...|2eia0myWFgoHuttJy...|['Rage Against Th...|['2d0hyoQ5ynDBnkv...|           6|          1|   false|             0.298|             0.848|  2|             -5.947|   1|     0.0727|           0.0538|  0.0015199999999999|             0.201|0.1939999999999999|           148.282|     280960|           4.0|1999|  1999-11-02|\n",
      "|3moeHk8eIajvUEzVo...|      Born As Ghosts|The Battle Of Los...|2eia0myWFgoHuttJy...|['Rage Against Th...|['2d0hyoQ5ynDBnkv...|           7|          1|   false|             0.417|             0.976|  9|             -6.032|   1|      0.175|4.269999999999E-4|             1.34E-4|             0.107|             0.483|            90.395|     202040|           4.0|1999|  1999-11-02|\n",
      "|4llunZfVXv3NvUzXV...|               Maria|The Battle Of Los...|2eia0myWFgoHuttJy...|['Rage Against Th...|['2d0hyoQ5ynDBnkv...|           8|          1|   false|0.2769999999999999|             0.873| 11|-6.5710000000000015|   0|     0.0883|          0.00694|5.400000000000001E-5|             0.188|             0.618|172.84799999999996|     228093|           4.0|1999|  1999-11-02|\n",
      "|21Mq0NzFoVRvOmLTO...|Voice of the Voic...|The Battle Of Los...|2eia0myWFgoHuttJy...|['Rage Against Th...|['2d0hyoQ5ynDBnkv...|           9|          1|   false|             0.441|             0.882|  7| -7.362999999999999|   1|      0.044|           0.0195|             0.00684|              0.15|             0.418| 83.37100000000002|     151573|           4.0|1999|  1999-11-02|\n",
      "|6s2FgJbnnMwFTpWJZ...|New Millennium Homes|The Battle Of Los...|2eia0myWFgoHuttJy...|['Rage Against Th...|['2d0hyoQ5ynDBnkv...|          10|          1|   false|0.4479999999999999|             0.861|  9|              -6.12|   1|     0.0676|          0.00306|                 0.0|            0.0987|0.7609999999999999|            92.777|     224933|           4.0|1999|  1999-11-02|\n",
      "|7o2Razxnl33Jrgz4P...|   Ashes In the Fall|The Battle Of Los...|2eia0myWFgoHuttJy...|['Rage Against Th...|['2d0hyoQ5ynDBnkv...|          11|          1|    true|             0.456|0.7040000000000001|  7|             -6.687|   1|     0.0982|           0.0052|             4.12E-6|            0.0595|0.6559999999999999|           140.629|     277267|           4.0|1999|  1999-11-02|\n",
      "|3Hxu3Ey1TV9mZ5XqM...| War Within a Breath|The Battle Of Los...|2eia0myWFgoHuttJy...|['Rage Against Th...|['2d0hyoQ5ynDBnkv...|          12|          1|   false|0.3989999999999999|             0.965|  6|             -5.901|   1|      0.143|          0.00442|              0.0314|0.3670000000000001|             0.174|            98.464|     216427|           4.0|1999|  1999-11-02|\n",
      "|6ZU9RJIZ0fNaFuQM5...|           Bombtrack|Rage Against The ...|4LaRYkT4oy47wEuQg...|['Rage Against Th...|['2d0hyoQ5ynDBnkv...|           1|          1|    true|             0.478|             0.855|  4|             -7.438|   0|      0.121|           0.0134|             3.18E-5|             0.179|0.6679999999999999|            151.93|     243760|           4.0|1992|  1992-11-03|\n",
      "|3FUS56gKr9mVBmzvl...| Killing In the Name|Rage Against The ...|4LaRYkT4oy47wEuQg...|['Rage Against Th...|['2d0hyoQ5ynDBnkv...|           2|          1|    true|             0.457|             0.779|  7|             -6.323|   1|      0.257|           0.0185|             2.04E-6|            0.0247|0.7340000000000001|            86.573|     313667|           4.0|1992|  1992-11-03|\n",
      "|3tTL7jlSkowXidYea...| Take the Power Back|Rage Against The ...|4LaRYkT4oy47wEuQg...|['Rage Against Th...|['2d0hyoQ5ynDBnkv...|           3|          1|    true|             0.542|0.8420000000000001|  1|-7.1370000000000005|   1|      0.173|            0.043|             1.53E-4|             0.173|             0.301|           104.772|     335840|           4.0|1992|  1992-11-03|\n",
      "|2vuDdXqekkDCSdawJ...|  Settle for Nothing|Rage Against The ...|4LaRYkT4oy47wEuQg...|['Rage Against Th...|['2d0hyoQ5ynDBnkv...|           4|          1|   false|             0.516|0.5329999999999999|  7|             -9.563|   1|     0.0429|           0.0253|             4.71E-5|             0.113|              0.29|            97.732|     287333|           4.0|1992|  1992-11-03|\n",
      "|11cxKUEgnVAlesUKt...|  Bullet In the Head|Rage Against The ...|4LaRYkT4oy47wEuQg...|['Rage Against Th...|['2d0hyoQ5ynDBnkv...|           5|          1|    true|             0.418|0.8059999999999999|  4|             -6.965|   1|      0.128|           0.0032|             7.88E-4|             0.623|             0.447|           164.202|     307067|           4.0|1992|  1992-11-03|\n",
      "|1IDAJagxB9AQjjYXa...|     Know Your Enemy|Rage Against The ...|4LaRYkT4oy47wEuQg...|['Rage Against Th...|['2d0hyoQ5ynDBnkv...|           6|          1|    true|             0.574|             0.765|  4|             -7.755|   1|      0.128|           0.0141|  0.0037799999999999|             0.136|             0.613|           117.636|     294693|           4.0|1992|  1992-11-03|\n",
      "|6zbHSDJjgrNdfIxPy...|             Wake Up|Rage Against The ...|4LaRYkT4oy47wEuQg...|['Rage Against Th...|['2d0hyoQ5ynDBnkv...|           7|          1|   false|             0.411|             0.823|  7|-7.5539999999999985|   1|      0.115|          0.00316|              0.0148|             0.149|             0.573|170.28099999999995|     364133|           4.0|1992|  1992-11-03|\n",
      "|3YEk8mVdMI7rxtfim...|    Fistful of Steel|Rage Against The ...|4LaRYkT4oy47wEuQg...|['Rage Against Th...|['2d0hyoQ5ynDBnkv...|           8|          1|   false|              0.52|             0.755|  4|             -9.031|   0|      0.134|           0.0195|                0.34|            0.0956|             0.608|           155.513|     331107|           4.0|1992|  1992-11-03|\n",
      "+--------------------+--------------------+--------------------+--------------------+--------------------+--------------------+------------+-----------+--------+------------------+------------------+---+-------------------+----+-----------+-----------------+--------------------+------------------+------------------+------------------+-----------+--------------+----+------------+\n",
      "only showing top 20 rows\n",
      "\n"
     ]
    }
   ],
   "source": [
    "spotify_df.show()"
   ]
  },
  {
   "cell_type": "code",
   "execution_count": 11,
   "metadata": {},
   "outputs": [
    {
     "data": {
      "text/plain": [
       "[Row(disc_number=7),\n",
       " Row(disc_number=6),\n",
       " Row(disc_number=9),\n",
       " Row(disc_number=5),\n",
       " Row(disc_number=1),\n",
       " Row(disc_number=10),\n",
       " Row(disc_number=3),\n",
       " Row(disc_number=12),\n",
       " Row(disc_number=8),\n",
       " Row(disc_number=11),\n",
       " Row(disc_number=2),\n",
       " Row(disc_number=4),\n",
       " Row(disc_number=13)]"
      ]
     },
     "execution_count": 11,
     "metadata": {},
     "output_type": "execute_result"
    }
   ],
   "source": [
    "spotify_df.select('disc_number').distinct().collect()\n"
   ]
  },
  {
   "cell_type": "code",
   "execution_count": 7,
   "metadata": {},
   "outputs": [
    {
     "name": "stdout",
     "output_type": "stream",
     "text": [
      "root\n",
      " |-- id: string (nullable = true)\n",
      " |-- name: string (nullable = true)\n",
      " |-- album: string (nullable = true)\n",
      " |-- album_id: string (nullable = true)\n",
      " |-- artists: array (nullable = true)\n",
      " |    |-- element: string (containsNull = true)\n",
      " |-- artist_ids: array (nullable = true)\n",
      " |    |-- element: string (containsNull = true)\n",
      " |-- track_number: long (nullable = true)\n",
      " |-- disc_number: long (nullable = true)\n",
      " |-- explicit: boolean (nullable = true)\n",
      " |-- danceability: double (nullable = true)\n",
      " |-- energy: double (nullable = true)\n",
      " |-- key: long (nullable = true)\n",
      " |-- loudness: double (nullable = true)\n",
      " |-- mode: long (nullable = true)\n",
      " |-- speechiness: double (nullable = true)\n",
      " |-- acousticness: double (nullable = true)\n",
      " |-- instrumentalness: double (nullable = true)\n",
      " |-- liveness: double (nullable = true)\n",
      " |-- valence: double (nullable = true)\n",
      " |-- tempo: double (nullable = true)\n",
      " |-- duration_ms: long (nullable = true)\n",
      " |-- time_signature: double (nullable = true)\n",
      " |-- year: long (nullable = true)\n",
      " |-- release_date: date (nullable = true)\n",
      "\n"
     ]
    }
   ],
   "source": [
    "df = spotify_df.withColumn(\"release_date\", pyfunc.to_date(spotify_df.release_date, \"yyyy-MM-dd\"))\n",
    "df = df.withColumn(\"artists\", pyfunc.from_json(pyfunc.col(\"artists\"), pytype.ArrayType(pytype.StringType())))\n",
    "df = df.withColumn(\"artist_ids\", pyfunc.from_json(pyfunc.col(\"artist_ids\"), pytype.ArrayType(pytype.StringType())))\n",
    "# df = df.drop('year')\n",
    "df.printSchema()"
   ]
  },
  {
   "cell_type": "code",
   "execution_count": 8,
   "metadata": {},
   "outputs": [
    {
     "name": "stdout",
     "output_type": "stream",
     "text": [
      "Mauricio Kagel\n",
      "Ensemble Musikfabrik\n"
     ]
    }
   ],
   "source": [
    "first_row = df.filter(df.year == 2014).first()\n",
    "print(first_row['artists'][0])\n",
    "print(first_row['artists'][1])"
   ]
  },
  {
   "cell_type": "code",
   "execution_count": null,
   "metadata": {},
   "outputs": [
    {
     "name": "stdout",
     "output_type": "stream",
     "text": [
      "+--------------------+--------------------+--------------------+--------------------+--------------------+--------------------+------------+-----------+--------+------------------+------------------+---+-------------------+----+-----------+-----------------+--------------------+------------------+------------------+------------------+-----------+--------------+----+------------+\n",
      "|                  id|                name|               album|            album_id|             artists|          artist_ids|track_number|disc_number|explicit|      danceability|            energy|key|           loudness|mode|speechiness|     acousticness|    instrumentalness|          liveness|           valence|             tempo|duration_ms|time_signature|year|release_date|\n",
      "+--------------------+--------------------+--------------------+--------------------+--------------------+--------------------+------------+-----------+--------+------------------+------------------+---+-------------------+----+-----------+-----------------+--------------------+------------------+------------------+------------------+-----------+--------------+----+------------+\n",
      "|7lmeHLHBe4nmXzuXc...|             Testify|The Battle Of Los...|2eia0myWFgoHuttJy...|[['Rage Against T...|[['2d0hyoQ5ynDBnk...|           1|          1|   false|              0.47|             0.978|  7|             -5.399|   1|     0.0727|           0.0261|             1.09E-5|             0.356|             0.503|           117.906|     210133|           4.0|1999|  1999-11-02|\n",
      "|1wsRitfRRtWyEapl0...|     Guerrilla Radio|The Battle Of Los...|2eia0myWFgoHuttJy...|[['Rage Against T...|[['2d0hyoQ5ynDBnk...|           2|          1|    true|             0.599|             0.957| 11| -5.763999999999999|   1|      0.188|           0.0129|             7.06E-5|             0.155|             0.489|            103.68|     206200|           4.0|1999|  1999-11-02|\n",
      "|1hR0fIFK2qRG3f3RF...|    Calm Like a Bomb|The Battle Of Los...|2eia0myWFgoHuttJy...|[['Rage Against T...|[['2d0hyoQ5ynDBnk...|           3|          1|   false|             0.315|              0.97|  7|             -5.424|   1|      0.483|           0.0234|             2.03E-6|             0.122|              0.37|           149.749|     298893|           4.0|1999|  1999-11-02|\n",
      "|2lbASgTSoDO7MTuLA...|           Mic Check|The Battle Of Los...|2eia0myWFgoHuttJy...|[['Rage Against T...|[['2d0hyoQ5ynDBnk...|           4|          1|    true|              0.44|             0.967| 11|              -5.83|   0|      0.237|            0.163|             3.64E-6|             0.121|             0.574|            96.752|     213640|           4.0|1999|  1999-11-02|\n",
      "|1MQTmpYOZ6fcMQc56...|Sleep Now In the ...|The Battle Of Los...|2eia0myWFgoHuttJy...|[['Rage Against T...|[['2d0hyoQ5ynDBnk...|           5|          1|   false|             0.426|             0.929|  2|             -6.729|   1|     0.0701|          0.00162|               0.105|            0.0789|             0.539|           127.059|     205600|           4.0|1999|  1999-11-02|\n",
      "|2LXPNLSMAauNJfnC5...|Born of a Broken Man|The Battle Of Los...|2eia0myWFgoHuttJy...|[['Rage Against T...|[['2d0hyoQ5ynDBnk...|           6|          1|   false|             0.298|             0.848|  2|             -5.947|   1|     0.0727|           0.0538|  0.0015199999999999|             0.201|0.1939999999999999|           148.282|     280960|           4.0|1999|  1999-11-02|\n",
      "|3moeHk8eIajvUEzVo...|      Born As Ghosts|The Battle Of Los...|2eia0myWFgoHuttJy...|[['Rage Against T...|[['2d0hyoQ5ynDBnk...|           7|          1|   false|             0.417|             0.976|  9|             -6.032|   1|      0.175|4.269999999999E-4|             1.34E-4|             0.107|             0.483|            90.395|     202040|           4.0|1999|  1999-11-02|\n",
      "|4llunZfVXv3NvUzXV...|               Maria|The Battle Of Los...|2eia0myWFgoHuttJy...|[['Rage Against T...|[['2d0hyoQ5ynDBnk...|           8|          1|   false|0.2769999999999999|             0.873| 11|-6.5710000000000015|   0|     0.0883|          0.00694|5.400000000000001E-5|             0.188|             0.618|172.84799999999996|     228093|           4.0|1999|  1999-11-02|\n",
      "|21Mq0NzFoVRvOmLTO...|Voice of the Voic...|The Battle Of Los...|2eia0myWFgoHuttJy...|[['Rage Against T...|[['2d0hyoQ5ynDBnk...|           9|          1|   false|             0.441|             0.882|  7| -7.362999999999999|   1|      0.044|           0.0195|             0.00684|              0.15|             0.418| 83.37100000000002|     151573|           4.0|1999|  1999-11-02|\n",
      "|6s2FgJbnnMwFTpWJZ...|New Millennium Homes|The Battle Of Los...|2eia0myWFgoHuttJy...|[['Rage Against T...|[['2d0hyoQ5ynDBnk...|          10|          1|   false|0.4479999999999999|             0.861|  9|              -6.12|   1|     0.0676|          0.00306|                 0.0|            0.0987|0.7609999999999999|            92.777|     224933|           4.0|1999|  1999-11-02|\n",
      "|7o2Razxnl33Jrgz4P...|   Ashes In the Fall|The Battle Of Los...|2eia0myWFgoHuttJy...|[['Rage Against T...|[['2d0hyoQ5ynDBnk...|          11|          1|    true|             0.456|0.7040000000000001|  7|             -6.687|   1|     0.0982|           0.0052|             4.12E-6|            0.0595|0.6559999999999999|           140.629|     277267|           4.0|1999|  1999-11-02|\n",
      "|3Hxu3Ey1TV9mZ5XqM...| War Within a Breath|The Battle Of Los...|2eia0myWFgoHuttJy...|[['Rage Against T...|[['2d0hyoQ5ynDBnk...|          12|          1|   false|0.3989999999999999|             0.965|  6|             -5.901|   1|      0.143|          0.00442|              0.0314|0.3670000000000001|             0.174|            98.464|     216427|           4.0|1999|  1999-11-02|\n",
      "|6ZU9RJIZ0fNaFuQM5...|           Bombtrack|Rage Against The ...|4LaRYkT4oy47wEuQg...|[['Rage Against T...|[['2d0hyoQ5ynDBnk...|           1|          1|    true|             0.478|             0.855|  4|             -7.438|   0|      0.121|           0.0134|             3.18E-5|             0.179|0.6679999999999999|            151.93|     243760|           4.0|1992|  1992-11-03|\n",
      "|3FUS56gKr9mVBmzvl...| Killing In the Name|Rage Against The ...|4LaRYkT4oy47wEuQg...|[['Rage Against T...|[['2d0hyoQ5ynDBnk...|           2|          1|    true|             0.457|             0.779|  7|             -6.323|   1|      0.257|           0.0185|             2.04E-6|            0.0247|0.7340000000000001|            86.573|     313667|           4.0|1992|  1992-11-03|\n",
      "|3tTL7jlSkowXidYea...| Take the Power Back|Rage Against The ...|4LaRYkT4oy47wEuQg...|[['Rage Against T...|[['2d0hyoQ5ynDBnk...|           3|          1|    true|             0.542|0.8420000000000001|  1|-7.1370000000000005|   1|      0.173|            0.043|             1.53E-4|             0.173|             0.301|           104.772|     335840|           4.0|1992|  1992-11-03|\n",
      "|2vuDdXqekkDCSdawJ...|  Settle for Nothing|Rage Against The ...|4LaRYkT4oy47wEuQg...|[['Rage Against T...|[['2d0hyoQ5ynDBnk...|           4|          1|   false|             0.516|0.5329999999999999|  7|             -9.563|   1|     0.0429|           0.0253|             4.71E-5|             0.113|              0.29|            97.732|     287333|           4.0|1992|  1992-11-03|\n",
      "|11cxKUEgnVAlesUKt...|  Bullet In the Head|Rage Against The ...|4LaRYkT4oy47wEuQg...|[['Rage Against T...|[['2d0hyoQ5ynDBnk...|           5|          1|    true|             0.418|0.8059999999999999|  4|             -6.965|   1|      0.128|           0.0032|             7.88E-4|             0.623|             0.447|           164.202|     307067|           4.0|1992|  1992-11-03|\n",
      "|1IDAJagxB9AQjjYXa...|     Know Your Enemy|Rage Against The ...|4LaRYkT4oy47wEuQg...|[['Rage Against T...|[['2d0hyoQ5ynDBnk...|           6|          1|    true|             0.574|             0.765|  4|             -7.755|   1|      0.128|           0.0141|  0.0037799999999999|             0.136|             0.613|           117.636|     294693|           4.0|1992|  1992-11-03|\n",
      "|6zbHSDJjgrNdfIxPy...|             Wake Up|Rage Against The ...|4LaRYkT4oy47wEuQg...|[['Rage Against T...|[['2d0hyoQ5ynDBnk...|           7|          1|   false|             0.411|             0.823|  7|-7.5539999999999985|   1|      0.115|          0.00316|              0.0148|             0.149|             0.573|170.28099999999995|     364133|           4.0|1992|  1992-11-03|\n",
      "|3YEk8mVdMI7rxtfim...|    Fistful of Steel|Rage Against The ...|4LaRYkT4oy47wEuQg...|[['Rage Against T...|[['2d0hyoQ5ynDBnk...|           8|          1|   false|              0.52|             0.755|  4|             -9.031|   0|      0.134|           0.0195|                0.34|            0.0956|             0.608|           155.513|     331107|           4.0|1992|  1992-11-03|\n",
      "+--------------------+--------------------+--------------------+--------------------+--------------------+--------------------+------------+-----------+--------+------------------+------------------+---+-------------------+----+-----------+-----------------+--------------------+------------------+------------------+------------------+-----------+--------------+----+------------+\n",
      "only showing top 20 rows\n",
      "\n"
     ]
    }
   ],
   "source": [
    "df.show()"
   ]
  },
  {
   "cell_type": "code",
   "execution_count": null,
   "metadata": {},
   "outputs": [
    {
     "name": "stdout",
     "output_type": "stream",
     "text": [
      "[\"['Rage Against The Machine']\"]\n"
     ]
    },
    {
     "name": "stderr",
     "output_type": "stream",
     "text": [
      "24/04/15 10:31:30 WARN GarbageCollectionMetrics: To enable non-built-in garbage collector(s) List(G1 Concurrent GC), users should configure it(them) to spark.eventLog.gcMetrics.youngGenerationGarbageCollectors or spark.eventLog.gcMetrics.oldGenerationGarbageCollectors\n"
     ]
    }
   ],
   "source": [
    "first_row = df.first()\n",
    "print(first_row['artists'])"
   ]
  },
  {
   "cell_type": "code",
   "execution_count": null,
   "metadata": {},
   "outputs": [
    {
     "name": "stdout",
     "output_type": "stream",
     "text": [
      "['Mauricio Kagel', 'Ensemble Musikfabrik']\n"
     ]
    }
   ],
   "source": [
    "first_row = spotify_df.filter(df.year == 2014).first()\n",
    "print(first_row['artists'])"
   ]
  },
  {
   "cell_type": "code",
   "execution_count": null,
   "metadata": {},
   "outputs": [],
   "source": []
  }
 ],
 "metadata": {
  "kernelspec": {
   "display_name": "Python 3",
   "language": "python",
   "name": "python3"
  },
  "language_info": {
   "codemirror_mode": {
    "name": "ipython",
    "version": 3
   },
   "file_extension": ".py",
   "mimetype": "text/x-python",
   "name": "python",
   "nbconvert_exporter": "python",
   "pygments_lexer": "ipython3",
   "version": "3.10.13"
  }
 },
 "nbformat": 4,
 "nbformat_minor": 2
}
